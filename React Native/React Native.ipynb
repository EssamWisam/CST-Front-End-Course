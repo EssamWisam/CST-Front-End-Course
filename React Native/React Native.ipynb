{
 "cells": [
  {
   "cell_type": "markdown",
   "metadata": {},
   "source": [
    "# <font color=\"yellow\" size=\"30\">React Native</font> <font size=\"30\"> Tutorial</font>"
   ]
  },
  {
   "cell_type": "markdown",
   "metadata": {},
   "source": [
    "### <font color=\"white\"> Realization: A mobile app is a Set of Components  </font>\n",
    "\n",
    "- Each can have its own state (data) and methods\n",
    "- Each can be used in any page\n",
    "- Nesting components is possible"
   ]
  },
  {
   "cell_type": "markdown",
   "metadata": {},
   "source": [
    "<div align=\"center\">\n",
    "<img src=\"https://cdn.vox-cdn.com/thumbor/QCoYtQ46YLH9AKtzBB9QqMN6C3s=/1000x0/filters:no_upscale()/cdn.vox-cdn.com/uploads/chorus_asset/file/19349626/02_GroupChat_PressGraphic.gif\"/>\n",
    "</div>"
   ]
  },
  {
   "cell_type": "markdown",
   "metadata": {},
   "source": [
    "### <font color=\"white\"> Problem: Development of Android/iOS Apps is Supported by Java/Objective-C    </font>"
   ]
  },
  {
   "cell_type": "markdown",
   "metadata": {},
   "source": [
    " - Observe that Android/iOS have JavaScript runtime engines; can execute JavaScript functions\n",
    "\n",
    " - Write built-in components in JSX that compile to native components\n",
    "    - Hence, HTML and CSS no longer part of the game"
   ]
  },
  {
   "cell_type": "markdown",
   "metadata": {},
   "source": [
    "<div align=\"center\">\n",
    "<img src=\"https://i.imgur.com/nwK8qbQ.png\" width=400>\n",
    "</div>"
   ]
  },
  {
   "cell_type": "code",
   "execution_count": null,
   "metadata": {
    "dotnet_interactive": {
     "language": "csharp"
    },
    "polyglot_notebook": {
     "kernelName": "csharp"
    }
   },
   "outputs": [],
   "source": [
    "// Button Built-in Component\n",
    "<Button title=\"Click Me\" onPress={handleButtonPress} />\n",
    "\n",
    "// compiles to Java code that resembles button; e.g.,\n",
    "import android.os.Bundle;\n",
    "import android.view.View;\n",
    "import android.widget.Button;\n",
    "import androidx.appcompat.app.AppCompatActivity;\n",
    "\n",
    "public class MainActivity extends AppCompatActivity {\n",
    "\n",
    "    @Override\n",
    "    protected void onCreate(Bundle savedInstanceState) {\n",
    "        super.onCreate(savedInstanceState);\n",
    "        setContentView(R.layout.activity_main);\n",
    "\n",
    "        // Find the button by its ID\n",
    "        Button myButton = findViewById(R.id.myButton);\n",
    "\n",
    "        // Set a click listener for the button\n",
    "        myButton.setOnClickListener(new View.OnClickListener() {\n",
    "            @Override\n",
    "            public void onClick(View v) {\n",
    "                // This code will be executed when the button is clicked\n",
    "                // You can add your desired functionality here\n",
    "            }\n",
    "        });\n",
    "    }\n",
    "}\n",
    "\n",
    "<?xml version=\"1.0\" encoding=\"utf-8\"?>\n",
    "<LinearLayout xmlns:android=\"http://schemas.android.com/apk/res/android\"\n",
    "    xmlns:app=\"http://schemas.android.com/apk/res-auto\"\n",
    "    xmlns:tools=\"http://schemas.android.com/tools\"\n",
    "    android:layout_width=\"match_parent\"\n",
    "    android:layout_height=\"match_parent\"\n",
    "    android:orientation=\"vertical\"\n",
    "    android:padding=\"16dp\"\n",
    "    tools:context=\".MainActivity\">\n",
    "\n",
    "    <Button\n",
    "        android:id=\"@+id/myButton\"\n",
    "        android:layout_width=\"wrap_content\"\n",
    "        android:layout_height=\"wrap_content\"\n",
    "        android:text=\"Click Me\" />\n",
    "\n",
    "</LinearLayout>"
   ]
  },
  {
   "cell_type": "markdown",
   "metadata": {},
   "source": [
    "<div align=\"center\">\n",
    "<img src=\"https://api.otakoyi.software/uploads/blog-images/react-native-rendering.jpg\">\n",
    "</div>"
   ]
  },
  {
   "cell_type": "markdown",
   "metadata": {},
   "source": [
    "## <font color=\"LemonChiffon\"> React Native </font>"
   ]
  },
  {
   "cell_type": "markdown",
   "metadata": {},
   "source": [
    "#### Creating the App"
   ]
  },
  {
   "cell_type": "markdown",
   "metadata": {},
   "source": [
    "- `npx create-expo-app --template`\n",
    "- `cd <app-name>`\n",
    "- `npx expo`"
   ]
  },
  {
   "cell_type": "markdown",
   "metadata": {},
   "source": [
    "##### 1. Component Structure & JS/Hooks are the Same\n"
   ]
  },
  {
   "cell_type": "code",
   "execution_count": null,
   "metadata": {
    "dotnet_interactive": {
     "language": "javascript"
    },
    "polyglot_notebook": {
     "kernelName": "javascript"
    }
   },
   "outputs": [],
   "source": [
    "import React from 'react';\n",
    "import { useState } from 'react';\n",
    "import { View } from 'react-native';\n",
    "\n",
    "const App = () => {\n",
    "    const x = 3;\n",
    "    const [data, setData] = useState(0);\n",
    "\n",
    "    function greet() {\n",
    "        alert('Hello, world!');\n",
    "    }\n",
    "\n",
    "  return (\n",
    "    <View >\n",
    "      <Text>Hello, Custom Component!</Text>\n",
    "    </View>\n",
    "  );\n",
    "};\n",
    "\n",
    "\n",
    "export default App;\n"
   ]
  },
  {
   "cell_type": "markdown",
   "metadata": {},
   "source": [
    "##### 2. Instead of HTML in JSX, we have built-in components that compile to native UI elements\n"
   ]
  },
  {
   "cell_type": "markdown",
   "metadata": {},
   "source": [
    "React"
   ]
  },
  {
   "cell_type": "code",
   "execution_count": null,
   "metadata": {
    "dotnet_interactive": {
     "language": "javascript"
    },
    "polyglot_notebook": {
     "kernelName": "javascript"
    }
   },
   "outputs": [],
   "source": [
    "// Paragraph\n",
    "<p>This is a paragraph.</p>\n",
    "// Container (Divison)\n",
    "<div>Content goes here</div>\n",
    "// Button\n",
    "<button onClick={handleClick}>Click me</button>\n",
    "// Input\n",
    "<input type=\"text\" placeholder=\"Enter text\" />\n",
    "// Image\n",
    "<img src=\"image.jpg\" alt=\"image\" />\n",
    "// Scrolled Container\n",
    "<div style={{ overflow: 'scroll', height: '200px' }}>\n",
    "  Scrollable content\n",
    "</div>"
   ]
  },
  {
   "cell_type": "markdown",
   "metadata": {},
   "source": [
    "React Native"
   ]
  },
  {
   "cell_type": "code",
   "execution_count": null,
   "metadata": {
    "dotnet_interactive": {
     "language": "javascript"
    },
    "polyglot_notebook": {
     "kernelName": "javascript"
    }
   },
   "outputs": [],
   "source": [
    "// Text\n",
    "<Text>This is a paragraph.</Text>\n",
    "// Container (Divison)\n",
    "<View>Content goes here</View>\n",
    "// Button or Touchable Opacity\n",
    "<Button title=\"Click me\" onPress={handleClick} />\n",
    "// Input\n",
    "<TextInput placeholder=\"Enter text\" />\n",
    "// Image\n",
    "<Image source={require('./image.jpg')} />\n",
    "// ScrollView or FlatList\n",
    "<ScrollView >\n",
    "  <Text>Scrollable content</Text>\n",
    "</ScrollView>"
   ]
  },
  {
   "cell_type": "markdown",
   "metadata": {},
   "source": [
    "| Component         | Description                                                                                  |\n",
    "|-------------------|----------------------------------------------------------------------------------------------|\n",
    "| [StatusBar](https://reactnative.dev/docs/statusbar)         | Allows you to customize the appearance of the status bar.                                    |\n",
    "| [ActivityIndicator](https://reactnative.dev/docs/activityindicator) | Displays a loading indicator that signifies ongoing activity.                                  |\n",
    "| [View](https://reactnative.dev/docs/view)              | A fundamental building block for creating UI layouts. It's like a container for other components. |\n",
    "| [KeyboardAvoidingView](https://reactnative.dev/docs/keyboardavoidingview) | A View that moves out of the way of the virtual keyboard automatically. |\n",
    "| [ScrollView](https://reactnative.dev/docs/scrollview)       | Provides a scrollable view for displaying a list of items or content that exceeds the screen. |\n",
    "| [FlatList](https://reactnative.dev/docs/flatlist)          | Efficiently renders large lists of data. Supports lazy loading and customizable rendering.    |\n",
    "| [RefreshControl](https://reactnative.dev/docs/refreshcontrol)    | Adds a pull-to-refresh functionality to scrollable views like ScrollView and FlatList.        |\n",
    "| [Modal](https://reactnative.dev/docs/modal)             | Displays content on top of the current screen. Commonly used for pop-up dialogs or menus.     |\n",
    "| [Text](https://reactnative.dev/docs/text)              | Used for displaying text within your app. Supports basic text styling and formatting.        |\n",
    "| [TextInput](https://reactnative.dev/docs/textinput)         | Allows users to input text. Can be used for forms, search bars, and more.                    |\n",
    "| [Image](https://reactnative.dev/docs/image)             | Displays images, either from local resources or remote URLs. Supports various image types.    |\n",
    "| [ImageBackground](https://reactnative.dev/docs/imagebackground)   | A component that displays an image background (behind elements)  |\n",
    "| [Button](https://reactnative.dev/docs/button)            | Represents a button that users can interact with to perform actions.                         |\n",
    "| [TouchableOpacity](https://reactnative.dev/docs/touchableopacity) | A button-like component that provides touch feedback by darkening/lightening button on press       |\n",
    "| [TouchableHighlight](https://reactnative.dev/docs/touchablehighlight) | A button-like component that provides touch feedback by changing the background color. |\n",
    "| [Pressable](https://reactnative.dev/docs/pressable)         | Like button but more support for events  |\n",
    "| [Switch](https://reactnative.dev/docs/switch)            | Represents a toggle switch that can be used for binary options like on/off settings.          |"
   ]
  },
  {
   "cell_type": "markdown",
   "metadata": {},
   "source": [
    "##### 2. Instead of CSS, we only have inline styles passed as objects (simulates subset of CSS)"
   ]
  },
  {
   "cell_type": "markdown",
   "metadata": {},
   "source": [
    "- And everything has display flex by default (with column flex-direction)\n",
    "\n",
    "- Numbers do not take a unit (except when a percentage in string)"
   ]
  },
  {
   "cell_type": "code",
   "execution_count": null,
   "metadata": {
    "dotnet_interactive": {
     "language": "javascript"
    },
    "polyglot_notebook": {
     "kernelName": "javascript"
    }
   },
   "outputs": [],
   "source": [
    "<View style={{ flexDirection: 'row', justifyContent: 'center', alignItems: 'center' }}>\n",
    "  <Text>Child 1</Text>\n",
    "  <Text>Child 2</Text>\n",
    "</View>"
   ]
  },
  {
   "cell_type": "markdown",
   "metadata": {},
   "source": [
    "More Common Pattern is `StyleSheet.create` to create an object of style objects"
   ]
  },
  {
   "cell_type": "code",
   "execution_count": null,
   "metadata": {
    "dotnet_interactive": {
     "language": "javascript"
    },
    "polyglot_notebook": {
     "kernelName": "javascript"
    }
   },
   "outputs": [],
   "source": [
    "import React from 'react';\n",
    "import { View, Text, StyleSheet } from 'react-native';\n",
    "\n",
    "const App = () => {\n",
    "  return (\n",
    "    <View style={styles.container}>\n",
    "      <Text style={styles.text}>Hello, React Native!</Text>\n",
    "    </View>\n",
    "  );\n",
    "};\n",
    "\n",
    "const styles = StyleSheet.create({\n",
    "\n",
    "  container: {\n",
    "    flex: 1,\n",
    "    justifyContent: 'center',\n",
    "    alignItems: 'center',\n",
    "    backgroundColor: '#f0f0f0',\n",
    "  },\n",
    "  \n",
    "  text: {\n",
    "    fontSize: 20,\n",
    "    fontWeight: 'bold',\n",
    "    color: 'blue',\n",
    "  },\n",
    "});\n",
    "\n",
    "export default App;\n"
   ]
  },
  {
   "cell_type": "markdown",
   "metadata": {},
   "source": [
    "\n",
    "##### 3. Events are also more limited (majorly `onPress`, `onChangeText` and related)"
   ]
  },
  {
   "cell_type": "markdown",
   "metadata": {},
   "source": [
    "Example Counter"
   ]
  },
  {
   "cell_type": "code",
   "execution_count": null,
   "metadata": {
    "dotnet_interactive": {
     "language": "javascript"
    },
    "polyglot_notebook": {
     "kernelName": "javascript"
    }
   },
   "outputs": [],
   "source": [
    "import React, { useState } from 'react';\n",
    "import { View, Text, TouchableOpacity, StyleSheet } from 'react-native';\n",
    "\n",
    "const App = () => {\n",
    "  const [count, setCount] = useState(0);\n",
    "\n",
    "  const incrementCounter = () => {\n",
    "    setCount(count + 1);\n",
    "  };\n",
    "\n",
    "  return (\n",
    "    <View style={styles.container}>\n",
    "      <Text style={styles.counterText}>Counter: {count}</Text>\n",
    "      <TouchableOpacity onPress={incrementCounter} style={styles.button}>\n",
    "        <Text style={styles.buttonText}>Increment</Text>\n",
    "      </TouchableOpacity>\n",
    "    </View>\n",
    "  );\n",
    "};\n",
    "\n",
    "const styles = StyleSheet.create({\n",
    "  container: {\n",
    "    flex: 1,                              // means grow: 1, shrink: 1, basis: 0\n",
    "    justifyContent: 'center',\n",
    "    alignItems: 'center',\n",
    "  },\n",
    "  counterText: {\n",
    "    fontSize: 24,\n",
    "    marginBottom: 20,\n",
    "  },\n",
    "  button: {\n",
    "    backgroundColor: 'blue',\n",
    "    paddingVertical: 10,\n",
    "    paddingHorizontal: 20,\n",
    "    borderRadius: 15,\n",
    "  },\n",
    "  buttonText: {\n",
    "    color: 'white',\n",
    "    fontSize: 18,\n",
    "  },\n",
    "});\n",
    "\n",
    "export default App;\n"
   ]
  }
 ],
 "metadata": {
  "kernelspec": {
   "display_name": ".NET (C#)",
   "language": "C#",
   "name": ".net-csharp"
  },
  "language_info": {
   "name": "polyglot-notebook"
  },
  "polyglot_notebook": {
   "kernelInfo": {
    "defaultKernelName": "csharp",
    "items": [
     {
      "aliases": [],
      "name": "csharp"
     },
     {
      "aliases": [],
      "languageName": "javascript",
      "name": "javascript"
     }
    ]
   }
  }
 },
 "nbformat": 4,
 "nbformat_minor": 2
}
