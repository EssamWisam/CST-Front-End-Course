{
 "cells": [
  {
   "cell_type": "code",
   "execution_count": 8,
   "metadata": {
    "dotnet_interactive": {
     "language": "javascript"
    },
    "polyglot_notebook": {
     "kernelName": "javascript"
    },
    "vscode": {
     "languageId": "polyglot-notebook"
    }
   },
   "outputs": [
    {
     "data": {
      "text/plain": [
       "Date 1: Wed Aug 02 2023 19:28:07 GMT+0300 (Eastern European Summer Time)"
      ]
     },
     "metadata": {},
     "output_type": "display_data"
    },
    {
     "data": {
      "text/plain": [
       "Date 2: Wed Aug 02 2023 03:00:00 GMT+0300 (Eastern European Summer Time)"
      ]
     },
     "metadata": {},
     "output_type": "display_data"
    },
    {
     "data": {
      "text/plain": [
       "Date 3: Wed Aug 02 2023 12:30:00 GMT+0300 (Eastern European Summer Time)"
      ]
     },
     "metadata": {},
     "output_type": "display_data"
    },
    {
     "data": {
      "text/plain": [
       "Date 4: Fri Dec 01 2023 00:00:00 GMT+0200 (Eastern European Standard Time)"
      ]
     },
     "metadata": {},
     "output_type": "display_data"
    }
   ],
   "source": [
    "// Creating Dates\n",
    "const date1 = new Date(); \n",
    "const date2 = new Date(\"2023-08-02\"); \n",
    "const date3 = new Date(2023, 7, 2, 12, 30, 0); // Year, Month (0-based), Day, Hour, Minute, Second (Local Time)\n",
    "// At least\n",
    "const date4 = new Date(2023, 11)\n",
    "console.log(`Date 1: ${date1}`);\n",
    "console.log(`Date 2: ${date2}`);\n",
    "console.log(`Date 3: ${date3}`);\n",
    "console.log(`Date 4: ${date4}`);"
   ]
  },
  {
   "cell_type": "code",
   "execution_count": 1,
   "metadata": {
    "dotnet_interactive": {
     "language": "javascript"
    },
    "polyglot_notebook": {
     "kernelName": "javascript"
    },
    "vscode": {
     "languageId": "polyglot-notebook"
    }
   },
   "outputs": [
    {
     "data": {
      "text/plain": [
       "Year: 2023"
      ]
     },
     "metadata": {},
     "output_type": "display_data"
    },
    {
     "data": {
      "text/plain": [
       "Month: 7"
      ]
     },
     "metadata": {},
     "output_type": "display_data"
    },
    {
     "data": {
      "text/plain": [
       "Day: 3"
      ]
     },
     "metadata": {},
     "output_type": "display_data"
    },
    {
     "data": {
      "text/plain": [
       "Hours: 11"
      ]
     },
     "metadata": {},
     "output_type": "display_data"
    },
    {
     "data": {
      "text/plain": [
       "Minutes: 15"
      ]
     },
     "metadata": {},
     "output_type": "display_data"
    },
    {
     "data": {
      "text/plain": [
       "Seconds: 48"
      ]
     },
     "metadata": {},
     "output_type": "display_data"
    },
    {
     "data": {
      "text/plain": [
       "Milliseconds: 21"
      ]
     },
     "metadata": {},
     "output_type": "display_data"
    },
    {
     "data": {
      "text/plain": [
       "Time Passed: 1691050548021"
      ]
     },
     "metadata": {},
     "output_type": "display_data"
    },
    {
     "data": {
      "text/plain": [
       "Day of the Week: 4"
      ]
     },
     "metadata": {},
     "output_type": "display_data"
    }
   ],
   "source": [
    "const date1 = new Date(); \n",
    "\n",
    "// Getting Date Components\n",
    "const year = date1.getFullYear();\n",
    "const month = date1.getMonth();             // 0-based (January is 0, February is 1, ...)\n",
    "const day = date1.getDate();\n",
    "const hours = date1.getHours();\n",
    "const minutes = date1.getMinutes();\n",
    "const seconds = date1.getSeconds();\n",
    "const milliseconds = date1.getMilliseconds();\n",
    "const time_passed = date1.getTime(); \n",
    "// There are also setters\n",
    "\n",
    "console.log(`Year: ${year}`);\n",
    "console.log(`Month: ${month}`);\n",
    "console.log(`Day: ${day}`);\n",
    "console.log(`Hours: ${hours}`);\n",
    "console.log(`Minutes: ${minutes}`);\n",
    "console.log(`Seconds: ${seconds}`);\n",
    "console.log(`Milliseconds: ${milliseconds}`);\n",
    "console.log(`Time Passed: ${time_passed}`);\n",
    "\n",
    "// Getting Day of the Week (0: Sunday, 1: Monday, ..., 6: Saturday)\n",
    "const dayOfWeek = date1.getDay();\n",
    "console.log(`Day of the Week: ${dayOfWeek}`);"
   ]
  },
  {
   "cell_type": "code",
   "execution_count": 17,
   "metadata": {
    "dotnet_interactive": {
     "language": "javascript"
    },
    "polyglot_notebook": {
     "kernelName": "javascript"
    },
    "vscode": {
     "languageId": "polyglot-notebook"
    }
   },
   "outputs": [
    {
     "data": {
      "text/plain": [
       "UTC Year 2023"
      ]
     },
     "metadata": {},
     "output_type": "display_data"
    },
    {
     "data": {
      "text/plain": [
       "UTC Month 7"
      ]
     },
     "metadata": {},
     "output_type": "display_data"
    },
    {
     "data": {
      "text/plain": [
       "UTC Day 2"
      ]
     },
     "metadata": {},
     "output_type": "display_data"
    },
    {
     "data": {
      "text/plain": [
       "Formatted Date 1: Wed Aug 02 2023"
      ]
     },
     "metadata": {},
     "output_type": "display_data"
    },
    {
     "data": {
      "text/plain": [
       "Formatted Date 2: 8/2/2023, 7:31:59 PM"
      ]
     },
     "metadata": {},
     "output_type": "display_data"
    },
    {
     "data": {
      "text/plain": [
       "Formatted Date 3: 2023-08-02T16:31:59.576Z"
      ]
     },
     "metadata": {},
     "output_type": "display_data"
    }
   ],
   "source": [
    "const date2 = new Date(); \n",
    "\n",
    "// Getting UTC Date Components\n",
    "const utcYear = date2.getUTCFullYear();\n",
    "const utcMonth = date2.getUTCMonth();\n",
    "const utcDay = date2.getUTCDate();\n",
    "\n",
    "console.log(`UTC Year ${utcYear}`);\n",
    "console.log(`UTC Month ${utcMonth}`);\n",
    "console.log(`UTC Day ${utcDay}`);\n",
    "\n",
    "// Formatting Dates\n",
    "const formattedDate1 = date2.toDateString();\n",
    "const formattedDate2 = date2.toLocaleString(); // Localized date and time string\n",
    "const formattedDate3 = date2.toISOString(); // ISO 8601 date and time string\n",
    "\n",
    "console.log(`Formatted Date 1: ${formattedDate1}`);\n",
    "console.log(`Formatted Date 2: ${formattedDate2}`);\n",
    "console.log(`Formatted Date 3: ${formattedDate3}`);\n"
   ]
  },
  {
   "cell_type": "markdown",
   "metadata": {},
   "source": [
    "| Function                                      | Description                                                                               | Example                                |\n",
    "|-----------------------------------------------|-------------------------------------------------------------------------------------------|----------------------------------------|\n",
    "| `Date()`                                      | Creates a new Date object representing the current date and time.                         | `new Date()`                           |\n",
    "| `Date(milliseconds)`                          | Creates a new Date object with the specified number of milliseconds since January 1, 1970 (Unix Epoch). | `new Date(1627900183000)`            |\n",
    "| `Date(\"yyyy-mm-dd\")`                          | Creates a new Date object from a date string in the ISO format (UTC).                      | `new Date(\"2023-11-30\")`              |\n",
    "| `Date(year, month, day, hours, minutes, seconds, ms)` | Creates a new Date object with specified date and time components (local time).      | `new Date(2023, 10, 30, 22, 0, 0)`   |\n",
    "| `Date.UTC(year, month, day, hours, minutes, seconds, ms)` | Creates a new Date object with specified date and time components (UTC).            | `Date.UTC(2023, 10, 30, 22, 0, 0)`  |\n",
    "| `Date.parse(dateString)`                     | Parses a date string and returns the number of milliseconds since January 1, 1970 (Unix Epoch). | `Date.parse(\"2023-11-30T22:00:00.000Z\")` |\n",
    "| `Date.now()`                                 | Returns the number of milliseconds since January 1, 1970 (Unix Epoch) for the current date and time. | `Date.now()`                          |\n",
    "| `Date.prototype.getFullYear()`                | Returns the year of a Date object as a four-digit number.                                 | `date1.getFullYear()`                  |\n",
    "| `Date.prototype.getMonth()`                   | Returns the month (0-based) of a Date object (0: January, 1: February, ...).             | `date1.getMonth()`                     |\n",
    "| `Date.prototype.getDate()`                    | Returns the day of the month (1-31) for a Date object.                                    | `date1.getDate()`                      |\n",
    "| `Date.prototype.getHours()`                   | Returns the hour (0-23) for a Date object.                                               | `date1.getHours()`                     |\n",
    "| `Date.prototype.getMinutes()`                 | Returns the minutes (0-59) for a Date object.                                            | `date1.getMinutes()`                   |\n",
    "| `Date.prototype.getSeconds()`                 | Returns the seconds (0-59) for a Date object.                                            | `date1.getSeconds()`                   |\n",
    "| `Date.prototype.getMilliseconds()`            | Returns the milliseconds (0-999) for a Date object.                                      | `date1.getMilliseconds()`              |\n",
    "| `Date.prototype.getTime()`                    | Returns the number of milliseconds since January 1, 1970 (Unix Epoch) for a Date object. | `date1.getTime()`                      |\n",
    "| `Date.prototype.getDay()`                     | Returns the day of the week (0: Sunday, 1: Monday, ...) for a Date object.               | `date1.getDay()`                       |\n",
    "| `Date.prototype.getUTCFullYear()`             | Returns the UTC year of a Date object as a four-digit number.                             | `date1.getUTCFullYear()`               |\n",
    "| `Date.prototype.getUTCMonth()`                | Returns the UTC month (0-based) of a Date object (0: January, 1: February, ...).         | `date1.getUTCMonth()`                  |\n",
    "| `Date.prototype.getUTCDate()`                 | Returns the UTC day of the month (1-31) for a Date object.                                | `date1.getUTCDate()`                   |\n",
    "| `Date.prototype.getUTCHours()`                | Returns the UTC hour (0-23) for a Date object.                                           | `date1.getUTCHours()`                  |\n",
    "| `Date.prototype.getUTCMinutes()`              | Returns the UTC minutes (0-59) for a Date object.                                        | `date1.getUTCMinutes()`                |\n",
    "| `Date.prototype.getUTCSeconds()`              | Returns the UTC seconds (0-59) for a Date object.                                        | `date1.getUTCSeconds()`                |\n",
    "| `Date.prototype.getUTCMilliseconds()`         | Returns the UTC milliseconds (0-999) for a Date object.                                  | `date1.getUTCMilliseconds()`           |\n",
    "| `Date.prototype.toDateString()`               | Returns a human-readable date string for a Date object.                                  | `date1.toDateString()`                 |\n",
    "| `Date.prototype.toTimeString()`               | Returns a human-readable time string for a Date object.                                  | `date1.toTimeString()`                 |\n",
    "| `Date.prototype.toISOString()`                | Returns the ISO 8601 date string (UTC) for a Date object.                                 | `date1.toISOString()`                  |\n",
    "| `Date.prototype.toUTCString()`                | Returns the UTC date and time string for a Date object.                                  | `date1.toUTCString()`                  |\n",
    "| `Date.prototype.toLocaleString()`             | Returns a localized date and time string for a Date object.                               | `date1.toLocaleString()`\n"
   ]
  }
 ],
 "metadata": {
  "language_info": {
   "name": "python"
  },
  "orig_nbformat": 4
 },
 "nbformat": 4,
 "nbformat_minor": 2
}
