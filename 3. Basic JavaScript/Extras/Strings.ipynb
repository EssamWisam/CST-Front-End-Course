{
 "cells": [
  {
   "cell_type": "code",
   "execution_count": 1,
   "metadata": {
    "dotnet_interactive": {
     "language": "javascript"
    },
    "polyglot_notebook": {
     "kernelName": "javascript"
    },
    "vscode": {
     "languageId": "polyglot-notebook"
    }
   },
   "outputs": [
    {
     "data": {
      "text/plain": [
       "String Length is 13"
      ]
     },
     "metadata": {},
     "output_type": "display_data"
    }
   ],
   "source": [
    "const str = \"Hello, World!\";\n",
    "\n",
    "// length\n",
    "console.log(`String Length is ${str.length}`); // Output: \"String Length is 13\""
   ]
  },
  {
   "cell_type": "code",
   "execution_count": 3,
   "metadata": {
    "dotnet_interactive": {
     "language": "javascript"
    },
    "polyglot_notebook": {
     "kernelName": "javascript"
    },
    "vscode": {
     "languageId": "polyglot-notebook"
    }
   },
   "outputs": [
    {
     "data": {
      "text/plain": [
       "Uppercase: HELLO, WORLD!"
      ]
     },
     "metadata": {},
     "output_type": "display_data"
    },
    {
     "data": {
      "text/plain": [
       "Lowercase: hello, world!"
      ]
     },
     "metadata": {},
     "output_type": "display_data"
    }
   ],
   "source": [
    "const str = \"Hello, World!\";\n",
    "\n",
    "// toUpperCase and toLowerCase\n",
    "console.log(`Uppercase: ${str.toUpperCase()}`); \n",
    "console.log(`Lowercase: ${str.toLowerCase()}`); "
   ]
  },
  {
   "cell_type": "code",
   "execution_count": 1,
   "metadata": {
    "dotnet_interactive": {
     "language": "javascript"
    },
    "polyglot_notebook": {
     "kernelName": "javascript"
    },
    "vscode": {
     "languageId": "polyglot-notebook"
    }
   },
   "outputs": [
    {
     "data": {
      "text/plain": [
       "Character at index 2: l"
      ]
     },
     "metadata": {},
     "output_type": "display_data"
    },
    {
     "data": {
      "text/plain": [
       "ASCII code at index 2: 108"
      ]
     },
     "metadata": {},
     "output_type": "display_data"
    }
   ],
   "source": [
    "const str = \"Hello, World!\";\n",
    "\n",
    "// charAt and charCodeAt\n",
    "console.log(`Character at index 2: ${str[2]}`); \n",
    "console.log(`ASCII code at index 2: ${str.charCodeAt(2)}`); "
   ]
  },
  {
   "cell_type": "code",
   "execution_count": 5,
   "metadata": {
    "dotnet_interactive": {
     "language": "javascript"
    },
    "polyglot_notebook": {
     "kernelName": "javascript"
    },
    "vscode": {
     "languageId": "polyglot-notebook"
    }
   },
   "outputs": [
    {
     "data": {
      "text/plain": [
       "Substring from index 7 to second-to-last character: o,"
      ]
     },
     "metadata": {},
     "output_type": "display_data"
    }
   ],
   "source": [
    "const str = \"Hello, World!\";\n",
    "\n",
    "// substring\n",
    "console.log(`Substring from index 7 to second-to-last character: ${str.slice(-9, -7)}`); "
   ]
  },
  {
   "cell_type": "code",
   "execution_count": 6,
   "metadata": {
    "dotnet_interactive": {
     "language": "javascript"
    },
    "polyglot_notebook": {
     "kernelName": "javascript"
    },
    "vscode": {
     "languageId": "polyglot-notebook"
    }
   },
   "outputs": [
    {
     "data": {
      "text/plain": [
       "Index of first occurrence of 'o': 4"
      ]
     },
     "metadata": {},
     "output_type": "display_data"
    },
    {
     "data": {
      "text/plain": [
       "Index of last occurrence of 'o': 8"
      ]
     },
     "metadata": {},
     "output_type": "display_data"
    }
   ],
   "source": [
    "const str = \"Hello, World!\";\n",
    "\n",
    "// indexOf and lastIndexOf (returns -1 if not found)\n",
    "console.log(`Index of first occurrence of 'o': ${str.indexOf(\"o\")}`); \n",
    "console.log(`Index of last occurrence of 'o': ${str.lastIndexOf(\"o\")}`); "
   ]
  },
  {
   "cell_type": "code",
   "execution_count": 6,
   "metadata": {
    "dotnet_interactive": {
     "language": "javascript"
    },
    "polyglot_notebook": {
     "kernelName": "javascript"
    },
    "vscode": {
     "languageId": "polyglot-notebook"
    }
   },
   "outputs": [
    {
     "data": {
      "text/plain": [
       "Replace 'World' with 'Universe': Hello, Universe World!"
      ]
     },
     "metadata": {},
     "output_type": "display_data"
    }
   ],
   "source": [
    "const str = \"Hello, World World!\";\n",
    "\n",
    "// replace\n",
    "console.log(`Replace 'World' with 'Universe': ${str.replace(\"World\", \"Universe\")}`); "
   ]
  },
  {
   "cell_type": "code",
   "execution_count": 8,
   "metadata": {
    "dotnet_interactive": {
     "language": "javascript"
    },
    "polyglot_notebook": {
     "kernelName": "javascript"
    },
    "vscode": {
     "languageId": "polyglot-notebook"
    }
   },
   "outputs": [
    {
     "data": {
      "text/plain": [
       "Split colors: Red,Green,Blue,Yellow"
      ]
     },
     "metadata": {},
     "output_type": "display_data"
    }
   ],
   "source": [
    "const str = \"Hello, World!\";\n",
    "\n",
    "// split\n",
    "const colors = \"Red,Green,Blue,Yellow\";\n",
    "console.log(`Split colors: ${colors.split(\",\")}`); // Output: \"Split colors: Red,Green,Blue,Yellow\""
   ]
  },
  {
   "cell_type": "code",
   "execution_count": 9,
   "metadata": {
    "dotnet_interactive": {
     "language": "javascript"
    },
    "polyglot_notebook": {
     "kernelName": "javascript"
    },
    "vscode": {
     "languageId": "polyglot-notebook"
    }
   },
   "outputs": [
    {
     "data": {
      "text/plain": [
       "Trimmed string: Hello, World!"
      ]
     },
     "metadata": {},
     "output_type": "display_data"
    }
   ],
   "source": [
    "const str = \"Hello, World!\";\n",
    "\n",
    "// trim\n",
    "const stringWithWhitespace = \"    Hello, World!    \";\n",
    "console.log(`Trimmed string: ${stringWithWhitespace.trim()}`); // Output: \"Trimmed string: Hello, World!\""
   ]
  },
  {
   "cell_type": "markdown",
   "metadata": {},
   "source": [
    "| Function            | Description                                    |\n",
    "|---------------------|------------------------------------------------|\n",
    "| `String length`     | Returns the length of the string.             |\n",
    "| `String slice()`    | Extracts a substring based on start and end indexes. |\n",
    "| `String substring()`| Extracts a substring based on start and end indexes. |\n",
    "| `String substr()`   | Extracts a substring based on start index and length. |\n",
    "| `String replace()`  | Replaces occurrences of a substring with another substring. |\n",
    "| `String replaceAll()` | Replaces all occurrences of a substring with another substring. |\n",
    "| `String toUpperCase()` | Converts the string to uppercase.           |\n",
    "| `String toLowerCase()` | Converts the string to lowercase.           |\n",
    "| `String concat()`   | Concatenates one or more strings to the original string. |\n",
    "| `String trim()`     | Removes whitespace from both ends of the string. |\n",
    "| `String trimStart()`| Removes whitespace from the start of the string. |\n",
    "| `String trimEnd()`  | Removes whitespace from the end of the string.   |\n",
    "| `String padStart()` | Pads the string with a specified character at the beginning. |\n",
    "| `String padEnd()`   | Pads the string with a specified character at the end.       |\n",
    "| `String charAt()`   | Returns the character at a specified index.         |\n",
    "| `String charCodeAt()` | Returns the Unicode value of the character at a specified index. |\n",
    "| `String split()`    | Splits the string into an array based on a separator.     |\n"
   ]
  }
 ],
 "metadata": {
  "language_info": {
   "name": "python"
  },
  "orig_nbformat": 4
 },
 "nbformat": 4,
 "nbformat_minor": 2
}
