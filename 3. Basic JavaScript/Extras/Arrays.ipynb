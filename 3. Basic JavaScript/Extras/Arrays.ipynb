{
 "cells": [
  {
   "cell_type": "code",
   "execution_count": 1,
   "metadata": {
    "dotnet_interactive": {
     "language": "javascript"
    },
    "polyglot_notebook": {
     "kernelName": "javascript"
    },
    "vscode": {
     "languageId": "polyglot-notebook"
    }
   },
   "outputs": [
    {
     "data": {
      "text/plain": [
       "4"
      ]
     },
     "metadata": {},
     "output_type": "display_data"
    }
   ],
   "source": [
    "const colors = [\"Red\", \"Green\", \"Blue\", \"Yellow\"];\n",
    "\n",
    "console.log(colors.length); \n",
    "// Output: 4"
   ]
  },
  {
   "cell_type": "code",
   "execution_count": null,
   "metadata": {
    "dotnet_interactive": {
     "language": "javascript"
    },
    "polyglot_notebook": {
     "kernelName": "javascript"
    },
    "vscode": {
     "languageId": "polyglot-notebook"
    }
   },
   "outputs": [],
   "source": [
    "const colors = [\"Red\", \"Green\", \"Blue\", \"Yellow\"];\n",
    "\n",
    "colors.push(\"Orange\"); \n",
    "console.log(colors); \n",
    "colors.pop(); \n",
    "console.log(colors); \n",
    "// Output: [\"Red\", \"Green\", \"Blue\", \"Yellow\"]"
   ]
  },
  {
   "cell_type": "code",
   "execution_count": null,
   "metadata": {
    "dotnet_interactive": {
     "language": "javascript"
    },
    "polyglot_notebook": {
     "kernelName": "javascript"
    },
    "vscode": {
     "languageId": "polyglot-notebook"
    }
   },
   "outputs": [],
   "source": [
    "const colors = [\"Red\", \"Green\", \"Blue\", \"Yellow\"];\n",
    "\n",
    "colors.unshift(\"Purple\"); \n",
    "console.log(colors); \n",
    "colors.shift(); \n",
    "console.log(colors); \n",
    "// Output: [\"Red\", \"Green\", \"Blue\", \"Yellow\"]"
   ]
  },
  {
   "cell_type": "code",
   "execution_count": null,
   "metadata": {
    "dotnet_interactive": {
     "language": "javascript"
    },
    "polyglot_notebook": {
     "kernelName": "javascript"
    },
    "vscode": {
     "languageId": "polyglot-notebook"
    }
   },
   "outputs": [],
   "source": [
    "const colors = [\"Red\", \"Green\", \"Blue\", \"Yellow\"];\n",
    "\n",
    "console.log(colors.indexOf(\"Blue\")); \n",
    "// Output: 2\n",
    "console.log(colors.lastIndexOf(\"Green\")); \n",
    "// Output: 1"
   ]
  },
  {
   "cell_type": "code",
   "execution_count": null,
   "metadata": {
    "dotnet_interactive": {
     "language": "javascript"
    },
    "polyglot_notebook": {
     "kernelName": "javascript"
    },
    "vscode": {
     "languageId": "polyglot-notebook"
    }
   },
   "outputs": [],
   "source": [
    "const colors = [\"Red\", \"Green\", \"Blue\", \"Yellow\"];\n",
    "\n",
    "const slicedColors = colors.slice(1, -1); \n",
    "console.log(slicedColors); \n",
    "// Output: [\"Green\", \"Blue\"]\n"
   ]
  },
  {
   "cell_type": "code",
   "execution_count": 1,
   "metadata": {
    "dotnet_interactive": {
     "language": "javascript"
    },
    "polyglot_notebook": {
     "kernelName": "javascript"
    },
    "vscode": {
     "languageId": "polyglot-notebook"
    }
   },
   "outputs": [
    {
     "data": {
      "application/json": [
       "Red",
       "Cyan",
       "Magenta",
       "Yellow"
      ]
     },
     "metadata": {},
     "output_type": "display_data"
    }
   ],
   "source": [
    "const colors = [\"Red\", \"Green\", \"Blue\", \"Yellow\"];\n",
    "\n",
    "colors.splice(1, 2, \"Cyan\", \"Magenta\");\n",
    "console.log(colors); "
   ]
  },
  {
   "cell_type": "code",
   "execution_count": 2,
   "metadata": {
    "dotnet_interactive": {
     "language": "javascript"
    },
    "polyglot_notebook": {
     "kernelName": "javascript"
    },
    "vscode": {
     "languageId": "polyglot-notebook"
    }
   },
   "outputs": [
    {
     "data": {
      "text/plain": [
       "Red Green Blue Yellow"
      ]
     },
     "metadata": {},
     "output_type": "display_data"
    }
   ],
   "source": [
    "const colors = [\"Red\", \"Green\", \"Blue\", \"Yellow\"];\n",
    "\n",
    "const joinedColors = colors.join(\" \"); \n",
    "console.log(joinedColors); \n",
    "// Output: \"Red, Cyan, Magenta, Yellow\""
   ]
  },
  {
   "cell_type": "code",
   "execution_count": null,
   "metadata": {
    "dotnet_interactive": {
     "language": "javascript"
    },
    "polyglot_notebook": {
     "kernelName": "javascript"
    },
    "vscode": {
     "languageId": "polyglot-notebook"
    }
   },
   "outputs": [],
   "source": [
    "const colors = [\"Red\", \"Green\", \"Blue\", \"Yellow\"];\n",
    "\n",
    "const moreColors = [\"Orange\", \"Purple\"];\n",
    "const allColors = colors.concat(moreColors); \n",
    "console.log(allColors); \n",
    "// Output: [\"Red\", \"Cyan\", \"Magenta\", \"Yellow\", \"Orange\", \"Purple\"]"
   ]
  },
  {
   "cell_type": "code",
   "execution_count": null,
   "metadata": {
    "dotnet_interactive": {
     "language": "javascript"
    },
    "polyglot_notebook": {
     "kernelName": "javascript"
    },
    "vscode": {
     "languageId": "polyglot-notebook"
    }
   },
   "outputs": [],
   "source": [
    "const colors = [\"Red\", \"Green\", \"Blue\", \"Yellow\"];\n",
    "\n",
    "console.log(colors.includes(\"Magenta\")); \n",
    "// Output: true"
   ]
  },
  {
   "cell_type": "code",
   "execution_count": null,
   "metadata": {
    "dotnet_interactive": {
     "language": "javascript"
    },
    "polyglot_notebook": {
     "kernelName": "javascript"
    },
    "vscode": {
     "languageId": "polyglot-notebook"
    }
   },
   "outputs": [],
   "source": [
    "const colors = [\"Red\", \"Green\", \"Blue\", \"Yellow\"];\n",
    "\n",
    "colors.reverse(); \n",
    "console.log(colors); \n",
    "// Output: [\"Yellow\", \"Magenta\", \"Cyan\", \"Red\"]"
   ]
  },
  {
   "cell_type": "code",
   "execution_count": null,
   "metadata": {
    "dotnet_interactive": {
     "language": "javascript"
    },
    "polyglot_notebook": {
     "kernelName": "javascript"
    },
    "vscode": {
     "languageId": "polyglot-notebook"
    }
   },
   "outputs": [],
   "source": [
    "const colors = [\"Red\", \"Green\", \"Blue\", \"Yellow\"];\n",
    "\n",
    "colors.sort(); \n",
    "console.log(colors); \n",
    "// Output: [\"Cyan\", \"Magenta\", \"Red\", \"Yellow\"]"
   ]
  },
  {
   "cell_type": "code",
   "execution_count": 4,
   "metadata": {
    "dotnet_interactive": {
     "language": "javascript"
    },
    "polyglot_notebook": {
     "kernelName": "javascript"
    },
    "vscode": {
     "languageId": "polyglot-notebook"
    }
   },
   "outputs": [
    {
     "data": {
      "application/json": [
       "Green",
       "Blue",
       "Yellow"
      ]
     },
     "metadata": {},
     "output_type": "display_data"
    }
   ],
   "source": [
    "const colors = [\"Red\", \"Green\", \"Blue\", \"Yellow\"];\n",
    "\n",
    "const filteredColors = colors.filter(color => color.length > 3); \n",
    "console.log(filteredColors); \n",
    "// Output: [\"Cyan\", \"Magenta\", \"Yellow\"]"
   ]
  },
  {
   "cell_type": "code",
   "execution_count": 10,
   "metadata": {
    "dotnet_interactive": {
     "language": "javascript"
    },
    "polyglot_notebook": {
     "kernelName": "javascript"
    },
    "vscode": {
     "languageId": "polyglot-notebook"
    }
   },
   "outputs": [
    {
     "data": {
      "application/json": [
       "PINK",
       "Green",
       "Blue",
       "Yellow"
      ]
     },
     "metadata": {},
     "output_type": "display_data"
    },
    {
     "data": {
      "application/json": [
       "RED",
       "GREEN",
       "BLUE",
       "YELLOW"
      ]
     },
     "metadata": {},
     "output_type": "display_data"
    }
   ],
   "source": [
    "const colors = [\"Red\", \"Green\", \"Blue\", \"Yellow\"];\n",
    "const func = (x) => {return x.toUpperCase();}\n",
    "const capitalizedColors = colors.map(func); \n",
    "colors[0] = \"PINK\";\n",
    "console.log(colors)\n",
    "console.log(capitalizedColors); \n",
    "// Output: [\"CYAN\", \"MAGENTA\", \"RED\", \"YELLOW\"]"
   ]
  },
  {
   "cell_type": "code",
   "execution_count": 8,
   "metadata": {
    "dotnet_interactive": {
     "language": "javascript"
    },
    "polyglot_notebook": {
     "kernelName": "javascript"
    },
    "vscode": {
     "languageId": "polyglot-notebook"
    }
   },
   "outputs": [
    {
     "data": {
      "text/plain": [
       "true"
      ]
     },
     "metadata": {},
     "output_type": "display_data"
    }
   ],
   "source": [
    "let codes = [1, 2, 3, 99];\n",
    "let big = false;\n",
    "\n",
    "function check_big(num){\n",
    "    if (num > 10){\n",
    "        big = true;\n",
    "    }\n",
    "}\n",
    "codes.forEach(check_big);\n",
    "console.log(big);"
   ]
  },
  {
   "cell_type": "code",
   "execution_count": 11,
   "metadata": {
    "dotnet_interactive": {
     "language": "javascript"
    },
    "polyglot_notebook": {
     "kernelName": "javascript"
    },
    "vscode": {
     "languageId": "polyglot-notebook"
    }
   },
   "outputs": [
    {
     "data": {
      "application/json": [
       1,
       2,
       3,
       4,
       5,
       6
      ]
     },
     "metadata": {},
     "output_type": "display_data"
    }
   ],
   "source": [
    "const myArr = [[1,2],[3,4],[5,6]];\n",
    "const newArr = myArr.flat();\n",
    "console.log(newArr);"
   ]
  },
  {
   "cell_type": "code",
   "execution_count": 12,
   "metadata": {
    "dotnet_interactive": {
     "language": "javascript"
    },
    "polyglot_notebook": {
     "kernelName": "javascript"
    },
    "vscode": {
     "languageId": "polyglot-notebook"
    }
   },
   "outputs": [
    {
     "data": {
      "application/json": [
       100,
       40,
       25,
       10,
       5,
       1
      ]
     },
     "metadata": {},
     "output_type": "display_data"
    }
   ],
   "source": [
    "const arr = [40, 100, 1, 5, 25, 10];\n",
    "comp = (a, b) => b - a;     // if negative put a before b\n",
    "arr.sort(comp)\n",
    "console.log(arr)\n",
    "// b - a is -ve => a then b\n",
    "// b - a < 0 => a then b\n",
    "// b < a => a then b"
   ]
  },
  {
   "cell_type": "markdown",
   "metadata": {},
   "source": [
    "| Function            | Description                                        |\n",
    "|---------------------|----------------------------------------------------|\n",
    "| `Array length`      | Returns the number of elements in the array.       |\n",
    "| `Array toString()`  | Converts the array to a comma-separated string.    |\n",
    "| `Array pop()`       | Removes and returns the last element of the array. |\n",
    "| `Array push()`      | Adds one or more elements to the end of the array. |\n",
    "| `Array shift()`     | Removes and returns the first element of the array.|\n",
    "| `Array unshift()`   | Adds one or more elements to the beginning of the array. |\n",
    "| `Array join()`      | Joins all elements of the array into a string using a specified separator. |\n",
    "| `Array delete()`    | Deletes an element from a specific index in the array. Note: The element is removed but leaves an empty space (undefined). Avoid using it; use `splice` instead. |\n",
    "| `Array concat()`    | Concatenates two or more arrays to create a new array. |\n",
    "| `Array flat()`      | Creates a new array with all sub-array elements concatenated into it recursively up to the specified depth. |\n",
    "| `Array splice()`    | Adds or removes elements from an array, returning the removed elements. |\n",
    "| `Array slice()`     | Extracts a section of the array into a new array without modifying the original array. |\n",
    "| `Array sort()`     | Sort the array|\n"
   ]
  },
  {
   "cell_type": "markdown",
   "metadata": {},
   "source": [
    "## Bonus: Sets"
   ]
  },
  {
   "cell_type": "markdown",
   "metadata": {},
   "source": [
    "| Method      | Description                            | Example                                      |\n",
    "|-------------|----------------------------------------|----------------------------------------------|\n",
    "| `new Set()` | Creates a new Set.                     | `const mySet = new Set();`                  |\n",
    "| `add()`     | Adds a new element to the Set.         | `mySet.add(\"apple\");`                       |\n",
    "| `delete()`  | Removes an element from the Set.       | `mySet.delete(\"apple\");`                    |\n",
    "| `has()`     | Returns true if a value exists in the Set. | `mySet.has(\"apple\");`                     |\n",
    "| `forEach()` | Invokes a callback for each element in the Set. | `mySet.forEach((value) => console.log(value));` |\n",
    "| `values()`  | Returns an iterator with all the values in a Set. | `const iterator = mySet.values();`      |\n",
    "| `size`      | Returns the number of elements in a Map.  | `mySet.length;`  |"
   ]
  },
  {
   "cell_type": "code",
   "execution_count": 13,
   "metadata": {
    "dotnet_interactive": {
     "language": "javascript"
    },
    "polyglot_notebook": {
     "kernelName": "javascript"
    },
    "vscode": {
     "languageId": "polyglot-notebook"
    }
   },
   "outputs": [
    {
     "data": {
      "application/json": {}
     },
     "metadata": {},
     "output_type": "display_data"
    }
   ],
   "source": [
    "const letters = new Set([\"a\",\"b\",\"c\"]);\n",
    "letters.add(\"a\");\n",
    "console.log(letters);"
   ]
  },
  {
   "cell_type": "markdown",
   "metadata": {},
   "source": [
    "## Bonus: Maps"
   ]
  },
  {
   "cell_type": "markdown",
   "metadata": {},
   "source": [
    "Like objects but accept any type for the key (even object), are ordered by insertion and iterable"
   ]
  },
  {
   "cell_type": "code",
   "execution_count": null,
   "metadata": {
    "dotnet_interactive": {
     "language": "javascript"
    },
    "polyglot_notebook": {
     "kernelName": "javascript"
    },
    "vscode": {
     "languageId": "polyglot-notebook"
    }
   },
   "outputs": [],
   "source": [
    "const fruits = new Map([\n",
    "    [\"apples\", 500],\n",
    "    [\"bananas\", 300],\n",
    "    [\"oranges\", 200]\n",
    "  ]);\n",
    "\n",
    "  console.log(fruits)"
   ]
  },
  {
   "cell_type": "markdown",
   "metadata": {},
   "source": [
    "| Method      | Description                               |\n",
    "|-------------|-------------------------------------------|\n",
    "| `new Map()` | Creates a new Map.                        |\n",
    "| `set()`     | Sets the value for a key in a Map.        |\n",
    "| `get()`     | Gets the value for a key in a Map.        |\n",
    "| `delete()`  | Removes a Map element specified by the key. |\n",
    "| `has()`     | Returns true if a key exists in a Map.    |\n",
    "| `forEach()` | Calls a function for each key/value pair in a Map. |\n",
    "| `entries()` | Returns an iterator with the [key, value] pairs in a Map. |\n",
    "| Property    | Description                               |\n",
    "| `size`      | Returns the number of elements in a Map.  |\n"
   ]
  },
  {
   "cell_type": "markdown",
   "metadata": {},
   "source": [
    "### Note"
   ]
  },
  {
   "cell_type": "code",
   "execution_count": 14,
   "metadata": {
    "dotnet_interactive": {
     "language": "javascript"
    },
    "polyglot_notebook": {
     "kernelName": "javascript"
    },
    "vscode": {
     "languageId": "polyglot-notebook"
    }
   },
   "outputs": [
    {
     "data": {
      "text/plain": [
       "true"
      ]
     },
     "metadata": {},
     "output_type": "display_data"
    }
   ],
   "source": [
    "console.log(Boolean([]))"
   ]
  }
 ],
 "metadata": {
  "kernelspec": {
   "display_name": "Julia 1.8.5",
   "language": "julia",
   "name": "julia-1.8"
  },
  "language_info": {
   "file_extension": ".jl",
   "mimetype": "application/julia",
   "name": "julia",
   "version": "1.8.5"
  },
  "orig_nbformat": 4,
  "polyglot_notebook": {
   "kernelInfo": {
    "defaultKernelName": "csharp",
    "items": [
     {
      "aliases": [],
      "name": "csharp"
     }
    ]
   }
  }
 },
 "nbformat": 4,
 "nbformat_minor": 2
}
