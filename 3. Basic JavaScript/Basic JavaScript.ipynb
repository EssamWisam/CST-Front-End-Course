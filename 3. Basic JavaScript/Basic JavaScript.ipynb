{
 "cells": [
  {
   "cell_type": "markdown",
   "metadata": {},
   "source": [
    "# <font color=\"yellow\" size=\"30\">JavaScript</font> <font size=\"30\"> Tutorial </font>"
   ]
  },
  {
   "cell_type": "markdown",
   "metadata": {},
   "source": [
    "## <font color=\"Aqua\">Motivation</font>"
   ]
  },
  {
   "cell_type": "markdown",
   "metadata": {},
   "source": [
    "<font color=\"white\">\n",
    "<h3>✦ (2nd) Most commonly used language in the world (highly demanded)</h3>\n",
    "<h3>✦ High-level Language</h3>\n",
    "<h3>✦ Can do many things (websites, mobile, desktop, games, backend)</h3>\n",
    "\n",
    "<video width=\"920\" controls>\n",
    "  <source src=\"Popular.mp4\" type=\"video/mp4\">\n",
    "  Your browser does not support the video tag.\n",
    "</video>"
   ]
  },
  {
   "cell_type": "markdown",
   "metadata": {},
   "source": [
    "## <font color=\"Aqua\">Frontend (Client-side) Uses </font>\n",
    "<font color=\"white\">\n",
    "<h3>✦ Associated with HTML page to perform programming logic. This logic can be</h3>\n",
    "<table>\n",
    "<tr>\n",
    "<td> Simple Application Logic</td>\n",
    "<td> Website Interactivity</td>\n",
    "<td> Communicating with Backend</td>\n",
    "</tr>\n",
    "</table>\n",
    "</font>"
   ]
  },
  {
   "cell_type": "markdown",
   "metadata": {},
   "source": [
    "## <font color=\"Aqua\">History </font>\n",
    "<font color=\"white\">\n",
    "<h3>✦ Brendan Eich was asked to develop a language like Java for the Netscape browser</h3>\n",
    "<h3>✦ Done in 10 days and called it Mocha</h3>\n",
    "<h3>✦ Did not end up being like Java</h3>\n",
    "<h3>✦ Netscape asked Sun to call it JavaScript as a marketing stunt</h3>\n",
    "</font>"
   ]
  },
  {
   "cell_type": "markdown",
   "metadata": {},
   "source": [
    "## <font color=\"Aqua\">What is JavaScript? </font>\n",
    "<font color=\"white\">\n",
    "<h3>✦ Designed as a scripting language to tell the browser what to do</h3>\n",
    "<h3>✦ Multi-paradigm</h3>\n",
    "<h3>✦ Dynamically-typed and Garbage-collected</h3>\n",
    "<h3>✦ Prototypical-based OOP language</h3>\n",
    "</font>"
   ]
  },
  {
   "cell_type": "markdown",
   "metadata": {},
   "source": [
    "## <font color=\"LemonChiffon\"> JavaScript Basics"
   ]
  },
  {
   "cell_type": "markdown",
   "metadata": {},
   "source": [
    "### <font color=\"white\"> Hello World </font>"
   ]
  },
  {
   "cell_type": "code",
   "execution_count": null,
   "metadata": {
    "dotnet_interactive": {
     "language": "javascript"
    },
    "polyglot_notebook": {
     "kernelName": "javascript"
    }
   },
   "outputs": [],
   "source": [
    "console.log('Hello World')"
   ]
  },
  {
   "cell_type": "markdown",
   "metadata": {},
   "source": [
    "Does not require semicolons but its a better practice to include them."
   ]
  },
  {
   "cell_type": "markdown",
   "metadata": {},
   "source": [
    "### <font color=\"white\"> Comments </font>"
   ]
  },
  {
   "cell_type": "code",
   "execution_count": null,
   "metadata": {
    "dotnet_interactive": {
     "language": "javascript"
    },
    "polyglot_notebook": {
     "kernelName": "javascript"
    }
   },
   "outputs": [],
   "source": [
    "// Like C++\n",
    "\n",
    "/*\n",
    "It's\n",
    "Like C++\n",
    "*/"
   ]
  },
  {
   "cell_type": "markdown",
   "metadata": {},
   "source": [
    "### <font color=\"white\"> Declarations </font>"
   ]
  },
  {
   "cell_type": "code",
   "execution_count": null,
   "metadata": {
    "dotnet_interactive": {
     "language": "javascript"
    },
    "polyglot_notebook": {
     "kernelName": "javascript"
    }
   },
   "outputs": [],
   "source": [
    "var x = 12;             // no longer used but its function-scoped\n",
    "let y = 4;              // block scoped and can be reassigned; like C++\n",
    "const z = 2;            // block scoped and cannot be reassigned; like C++\n",
    "\n",
    "y = \"abc\";              // no error\n",
    "//z = 123;                // error\n",
    "console.log(y);\n",
    "console.log(typeof(y));"
   ]
  },
  {
   "cell_type": "markdown",
   "metadata": {},
   "source": [
    "Also supports destructuring assignment which we will talk about later."
   ]
  },
  {
   "cell_type": "markdown",
   "metadata": {},
   "source": [
    "### <font color=\"white\"> Primitive Types </font>\n",
    "<table> \n",
    "<tr> \n",
    "<th>Booleans</th> \n",
    "<th>Numbers </th>\n",
    "<th><font color=\"cyan\"> Bigints </font>  </th>\n",
    "<th>Strings </th>\n",
    "<th>Null </th>\n",
    "<th><font color=\"cyan\"> Undefined </font>  </th>\n",
    "<th><font color=\"cyan\"> Symbol </font> </th>\n",
    "\n",
    "</tr>\n",
    "<tr> \n",
    "<td>true</td> \n",
    "<td>1231</td>\n",
    "<td>993n </td>\n",
    "<td>\"Hello\" or 'Hello' or `Hello`</td>\n",
    "<td> null </td>\n",
    "<td> undefined </td>\n",
    "<td> Symbol(\"Hi\") </td>\n",
    "</tr>\n",
    "</table>\n"
   ]
  },
  {
   "cell_type": "markdown",
   "metadata": {},
   "source": [
    "Numbers"
   ]
  },
  {
   "cell_type": "code",
   "execution_count": null,
   "metadata": {
    "dotnet_interactive": {
     "language": "javascript"
    },
    "polyglot_notebook": {
     "kernelName": "javascript"
    }
   },
   "outputs": [],
   "source": [
    "let a = 1;\n",
    "let b = 1.1;\n",
    "console.log(typeof(a), typeof(b));\n",
    "\n",
    "// BigInt\n",
    "const max = 9_223_372_036_854_775_807n;   // Greater than 2^53 – 1.\n",
    "\n",
    "// binary\n",
    "let nibbles = 0b1011_0101_0101;\n",
    "\n",
    "// octal\n",
    "let val = 0o1234_5670;\n",
    "\n",
    "// hex\n",
    "let message = 0xD0_E0_F0;"
   ]
  },
  {
   "cell_type": "markdown",
   "metadata": {},
   "source": [
    "Boolean"
   ]
  },
  {
   "cell_type": "code",
   "execution_count": null,
   "metadata": {
    "dotnet_interactive": {
     "language": "javascript"
    },
    "polyglot_notebook": {
     "kernelName": "javascript"
    }
   },
   "outputs": [],
   "source": [
    "let x = true;\n",
    "let str = \"An error occurred\";\n",
    "let castedBool = Boolean(str);"
   ]
  },
  {
   "cell_type": "markdown",
   "metadata": {},
   "source": [
    "Falsey values are `false`, `undefined`, `null`, `0`, `Nan`, `\"`"
   ]
  },
  {
   "cell_type": "markdown",
   "metadata": {},
   "source": [
    "Strings"
   ]
  },
  {
   "cell_type": "code",
   "execution_count": null,
   "metadata": {
    "dotnet_interactive": {
     "language": "javascript"
    },
    "polyglot_notebook": {
     "kernelName": "javascript"
    }
   },
   "outputs": [],
   "source": [
    "console.log(`John then said \"Well, I confess the so called 'crime' and\" ...`);\n",
    "\n",
    "let name = 'John';\n",
    "let message = `Hi, I'm ${name}.`;\n",
    "console.log(message);"
   ]
  },
  {
   "cell_type": "code",
   "execution_count": null,
   "metadata": {
    "dotnet_interactive": {
     "language": "javascript"
    },
    "polyglot_notebook": {
     "kernelName": "javascript"
    }
   },
   "outputs": [],
   "source": [
    "// Check Strings.ipynb"
   ]
  },
  {
   "cell_type": "markdown",
   "metadata": {},
   "source": [
    "Symbols"
   ]
  },
  {
   "cell_type": "code",
   "execution_count": null,
   "metadata": {
    "dotnet_interactive": {
     "language": "javascript"
    },
    "polyglot_notebook": {
     "kernelName": "javascript"
    }
   },
   "outputs": [],
   "source": [
    "// Advanced\n",
    "let a = Symbol(\"ABC\");\n",
    "let b = Symbol(\"ABC\");\n",
    "console.log(a == b);"
   ]
  },
  {
   "cell_type": "markdown",
   "metadata": {},
   "source": [
    "### <font color=\"white\"> Many built-in non-primitives are available under the type <font color=\"aqua\">object</font> </font>\n",
    "<table> \n",
    "<tr> \n",
    "<th>Object</th> \n",
    "<th>Function </th>\n",
    "<th>Array </th>\n",
    "<th>Date </th>\n",
    "<th>RegExp </th>\n",
    "<th>Math </th>\n",
    "<th>Window</th>\n",
    "\n",
    "</tr>\n",
    "<tr> \n",
    "<td>new Object({...})</td> \n",
    "<td>new Function(\"arg1\", \"arg2\", .., \"body\") </td>\n",
    "<td>new Array(1, 2, 3)</td>\n",
    "<td>new Date(\"date\") </td>\n",
    "<td>new RegExp(\"pattern\") </td>\n",
    "<td>static </td>\n",
    "<td>special</td>\n",
    "</tr>\n",
    "\n",
    "<tr> \n",
    "<td>{...}</td> \n",
    "<td>func(arg1, arg2, ..) {body} </td>\n",
    "<td>[1, 2, 3]</td>\n",
    "<td>new Date(\"date\") </td>\n",
    "<td> /pattern/ </td>\n",
    "<td> static </td>\n",
    "<td>special</td>\n",
    "</tr>\n",
    "</table>"
   ]
  },
  {
   "cell_type": "markdown",
   "metadata": {},
   "source": [
    "Objects"
   ]
  },
  {
   "cell_type": "code",
   "execution_count": null,
   "metadata": {
    "dotnet_interactive": {
     "language": "javascript"
    },
    "polyglot_notebook": {
     "kernelName": "javascript"
    }
   },
   "outputs": [],
   "source": [
    "let person = {\n",
    "    firstName: 'John',\n",
    "    lastName: 'Doe',\n",
    "    email: 'john.doe@example.com',\n",
    "    phone: 8172281123,\n",
    "    extra: {a: 1, b: 2, c: 3}\n",
    "};\n",
    "\n",
    "// Properties can be also strings\n",
    "console.log(person.firstName == person['firstName']);\n",
    "console.log(person.extra.a == person['extra']['a']);\n",
    "\n",
    "//Modify an existing property\n",
    "// Add a new property to an object then delete it\n",
    "\n",
    "console.log(\"email\" in person);\n",
    "// Object content is in the heap and it is referenced by the stack"
   ]
  },
  {
   "cell_type": "markdown",
   "metadata": {},
   "source": [
    "Functions"
   ]
  },
  {
   "cell_type": "code",
   "execution_count": null,
   "metadata": {
    "dotnet_interactive": {
     "language": "javascript"
    },
    "polyglot_notebook": {
     "kernelName": "javascript"
    }
   },
   "outputs": [],
   "source": [
    "\n",
    "// standard definition\n",
    "function myFunction1(x) {\n",
    "    console.log(x);\n",
    "    return x;\n",
    "  }\n",
    "\n",
    "// can be assigned\n",
    "const myFunction2 = function(x) {\n",
    "  console.log(x);\n",
    "  return x;\n",
    "}\n",
    "\n",
    "// arrow function\n",
    "const myFunction3 = (x=5) => {\n",
    "  console.log(x);\n",
    "  return x;\n",
    "}\n",
    "\n",
    "// Can omit parenthesis or curly braces if one parameter or one statement respectively\n",
    "const myFunction4 = x => x + 1;\n",
    "\n",
    "// myFunction4.a = 2;\n",
    "// Hoisting: myFunction1(3)"
   ]
  },
  {
   "cell_type": "code",
   "execution_count": null,
   "metadata": {
    "dotnet_interactive": {
     "language": "javascript"
    },
    "polyglot_notebook": {
     "kernelName": "javascript"
    }
   },
   "outputs": [],
   "source": [
    "let person = {\n",
    "    firstName: 'John',\n",
    "    lastName: 'Doe',\n",
    "    email: 'john.doe@example.com',\n",
    "    phone: 8172281123,\n",
    "    call: function () {\n",
    "        console.log('Calling ' + this.firstName + ' ' + this.lastName + ' at ' + this.phone);\n",
    "    }\n",
    "};"
   ]
  },
  {
   "cell_type": "markdown",
   "metadata": {},
   "source": [
    "Array is of dynamic size and handles mixed type"
   ]
  },
  {
   "cell_type": "markdown",
   "metadata": {},
   "source": [
    "<div align=\"center\">\n",
    "<img src=\"https://programmerhumor.io/wp-content/uploads/2023/04/programmerhumor-io-java-memes-javascript-memes-0f24c47f3a34e2a-758x548.jpg\">\n",
    "</div>"
   ]
  },
  {
   "cell_type": "code",
   "execution_count": null,
   "metadata": {
    "dotnet_interactive": {
     "language": "javascript"
    },
    "polyglot_notebook": {
     "kernelName": "javascript"
    }
   },
   "outputs": [],
   "source": [
    "const arr = new Array(1, 2, 3);\n",
    "console.log(arr);"
   ]
  },
  {
   "cell_type": "code",
   "execution_count": null,
   "metadata": {
    "dotnet_interactive": {
     "language": "javascript"
    },
    "polyglot_notebook": {
     "kernelName": "javascript"
    }
   },
   "outputs": [],
   "source": [
    "// Check Arrays.ipynb"
   ]
  },
  {
   "cell_type": "markdown",
   "metadata": {},
   "source": [
    "Dates"
   ]
  },
  {
   "cell_type": "code",
   "execution_count": null,
   "metadata": {
    "dotnet_interactive": {
     "language": "csharp"
    },
    "polyglot_notebook": {
     "kernelName": "csharp"
    }
   },
   "outputs": [],
   "source": [
    "// Check dates.ipynb"
   ]
  },
  {
   "cell_type": "markdown",
   "metadata": {},
   "source": [
    "Math"
   ]
  },
  {
   "cell_type": "code",
   "execution_count": null,
   "metadata": {
    "dotnet_interactive": {
     "language": "javascript"
    },
    "polyglot_notebook": {
     "kernelName": "javascript"
    }
   },
   "outputs": [],
   "source": [
    "π = Math.round(Math.abs(Math.PI));\n",
    "console.log(π)\n",
    "// Also has sine, consine, sinh, sqrt,...\n",
    "Z = Math.random() * 10;"
   ]
  },
  {
   "cell_type": "markdown",
   "metadata": {},
   "source": [
    "### <font color=\"white\"> Operators </font>"
   ]
  },
  {
   "cell_type": "markdown",
   "metadata": {},
   "source": [
    "##### <font color=\"white\"> For assignment </font>"
   ]
  },
  {
   "cell_type": "markdown",
   "metadata": {},
   "source": [
    "| Name                             | Shorthand operator  | Meaning               |\n",
    "| -------------------------------- | ------------------- | --------------------- |\n",
    "| Assignment                       | x = f()             | x = f()               |\n",
    "| Addition assignment              | x += f()            | x = x + f()           |\n",
    "| Subtraction assignment           | x -= f()            | x = x - f()           |\n",
    "| Multiplication assignment        | x *= f()            | x = x * f()           |\n",
    "| Division assignment              | x /= f()            | x = x / f()           |\n",
    "| Remainder assignment             | x %= f()            | x = x % f()           |\n",
    "| Exponentiation assignment        | x **= f()           | x = x ** f()          |\n",
    "| Left shift assignment            | x <<= f()           | x = x << f()          |\n",
    "| Right shift assignment           | x >>= f()           | x = x >> f()          |\n",
    "| <font color=\"cyan\">Unsigned right shift assignment</font>  | x >>>= f()          | x = x >>> f()         |\n",
    "| Bitwise AND assignment           | x &= f()            | x = x & f()           |\n",
    "| Bitwise XOR assignment           | x ^= f()            | x = x ^ f()           |\n",
    "| Bitwise OR assignment            | x \\|= f()           | x = x \\| f()           |\n",
    "| Logical AND assignment           | x &&= f()           | x && (x = f())        |\n",
    "| Logical OR assignment            | x \\|\\|= f()         | x \\|\\| (x = f())        |\n",
    "| <font color=\"cyan\"> Nullish coalescing assignment</font>    | x ??= f()           | x ?? (x = f())        |"
   ]
  },
  {
   "cell_type": "markdown",
   "metadata": {},
   "source": [
    "Variables of primitive type are copied during assignment."
   ]
  },
  {
   "cell_type": "code",
   "execution_count": null,
   "metadata": {
    "dotnet_interactive": {
     "language": "javascript"
    },
    "polyglot_notebook": {
     "kernelName": "javascript"
    }
   },
   "outputs": [],
   "source": [
    "let x = 3;\n",
    "let y = x;\n",
    "y+=1;"
   ]
  },
  {
   "cell_type": "markdown",
   "metadata": {},
   "source": [
    "But not those of non-primitive type"
   ]
  },
  {
   "cell_type": "code",
   "execution_count": null,
   "metadata": {
    "dotnet_interactive": {
     "language": "javascript"
    },
    "polyglot_notebook": {
     "kernelName": "javascript"
    }
   },
   "outputs": [],
   "source": [
    "let obj = {a: 99}\n",
    "let newobj = obj;\n",
    "newobj.a += 1;\n",
    "console.log(obj.a)\n",
    "\n",
    "realnewobj = structuredClone(obj);"
   ]
  },
  {
   "cell_type": "markdown",
   "metadata": {},
   "source": [
    "##### <font color=\"white\"> For comparison </font>"
   ]
  },
  {
   "cell_type": "markdown",
   "metadata": {},
   "source": [
    "#### `>, >=, <=, <, ==, !=` are like C++ but not strict\n",
    "#### `== and !==` are strict versions"
   ]
  },
  {
   "cell_type": "markdown",
   "metadata": {},
   "source": [
    "### <font color=\"white\"> Expressions </font>"
   ]
  },
  {
   "cell_type": "markdown",
   "metadata": {},
   "source": [
    "Basic Example"
   ]
  },
  {
   "cell_type": "code",
   "execution_count": null,
   "metadata": {
    "dotnet_interactive": {
     "language": "javascript"
    },
    "polyglot_notebook": {
     "kernelName": "javascript"
    }
   },
   "outputs": [],
   "source": [
    "let A = true && false || true;\n",
    "let B = -3 + 2 / 5 + 2 * 4;\n",
    "console.log(A, B);"
   ]
  },
  {
   "cell_type": "markdown",
   "metadata": {},
   "source": [
    "Destructuring"
   ]
  },
  {
   "cell_type": "code",
   "execution_count": null,
   "metadata": {
    "dotnet_interactive": {
     "language": "javascript"
    },
    "polyglot_notebook": {
     "kernelName": "javascript"
    }
   },
   "outputs": [],
   "source": [
    "const student = {\n",
    "    name: 'Alice',\n",
    "    age: 20,\n",
    "    address: {\n",
    "      city: 'London',\n",
    "      country: 'UK',\n",
    "    },\n",
    "  };\n",
    "  \n",
    "  const { name, address: { city, country } } = student;\n",
    "  const { name } = student;"
   ]
  },
  {
   "cell_type": "code",
   "execution_count": null,
   "metadata": {
    "dotnet_interactive": {
     "language": "javascript"
    },
    "polyglot_notebook": {
     "kernelName": "javascript"
    }
   },
   "outputs": [],
   "source": [
    "const fruits = ['apple', 'orange', 'banana'];\n",
    "\n",
    "// Destructuring assignment for array\n",
    "const [firstFruit, secondFruit, thirdFruit] = fruits;"
   ]
  },
  {
   "cell_type": "code",
   "execution_count": null,
   "metadata": {
    "dotnet_interactive": {
     "language": "javascript"
    },
    "polyglot_notebook": {
     "kernelName": "javascript"
    }
   },
   "outputs": [],
   "source": [
    "let a = 5;\n",
    "let b = 10;\n",
    "\n",
    "[a, b] = [b, a];"
   ]
  },
  {
   "cell_type": "markdown",
   "metadata": {},
   "source": [
    "Nullis coalescing assignment"
   ]
  },
  {
   "cell_type": "code",
   "execution_count": null,
   "metadata": {
    "dotnet_interactive": {
     "language": "javascript"
    },
    "polyglot_notebook": {
     "kernelName": "javascript"
    }
   },
   "outputs": [],
   "source": [
    "let C = null;\n",
    "C ??= 4;\n",
    "// What is the value of C?"
   ]
  },
  {
   "cell_type": "markdown",
   "metadata": {},
   "source": [
    "Comparison"
   ]
  },
  {
   "cell_type": "code",
   "execution_count": null,
   "metadata": {
    "dotnet_interactive": {
     "language": "javascript"
    },
    "polyglot_notebook": {
     "kernelName": "javascript"
    }
   },
   "outputs": [],
   "source": [
    "let B = 5.4\n",
    "let C = (B === 5.4)\n",
    "let D = (B == \"5.4\")\n",
    "console.log(C, D)\n",
    "// Compare null and undefined"
   ]
  },
  {
   "cell_type": "markdown",
   "metadata": {},
   "source": [
    "<font > Some operators even apply on strings </font>"
   ]
  },
  {
   "cell_type": "code",
   "execution_count": null,
   "metadata": {
    "dotnet_interactive": {
     "language": "javascript"
    },
    "polyglot_notebook": {
     "kernelName": "javascript"
    }
   },
   "outputs": [],
   "source": [
    "let S = \"I see \" + 3 + \" skies in blue \" + parseInt(\"1\")\n",
    "console.log(S)"
   ]
  },
  {
   "cell_type": "code",
   "execution_count": null,
   "metadata": {
    "dotnet_interactive": {
     "language": "javascript"
    },
    "polyglot_notebook": {
     "kernelName": "javascript"
    }
   },
   "outputs": [],
   "source": [
    "let Z = \"A\"/2\n",
    "console.log(Z, typeof(Z))           // failed conversion or imaginary or intermediate form\n",
    "// is NaN really NaN?"
   ]
  },
  {
   "cell_type": "markdown",
   "metadata": {},
   "source": [
    "<div align=\"center\"> <img src=\"https://i.stack.imgur.com/CT56W.jpg\"> </div>"
   ]
  },
  {
   "cell_type": "markdown",
   "metadata": {},
   "source": [
    "### <font color=\"white\"> Control Flow </font>"
   ]
  },
  {
   "cell_type": "markdown",
   "metadata": {},
   "source": [
    "If Conditions"
   ]
  },
  {
   "cell_type": "code",
   "execution_count": null,
   "metadata": {
    "dotnet_interactive": {
     "language": "javascript"
    },
    "polyglot_notebook": {
     "kernelName": "javascript"
    }
   },
   "outputs": [],
   "source": [
    "let x = \"CMP\"\n",
    "if (x === \"CMP\") {\n",
    "    x = x + \"26\"\n",
    "  } \n",
    "else if (x === \"CUFE\")  {\n",
    "    x = \"CMP\"\n",
    "  }\n",
    "else {\n",
    "    x = \"CMP\"\n",
    "  }\n",
    "  \n",
    "console.log(x)"
   ]
  },
  {
   "cell_type": "markdown",
   "metadata": {},
   "source": [
    "Ternary Operator"
   ]
  },
  {
   "cell_type": "code",
   "execution_count": null,
   "metadata": {
    "dotnet_interactive": {
     "language": "javascript"
    },
    "polyglot_notebook": {
     "kernelName": "javascript"
    }
   },
   "outputs": [],
   "source": [
    "let age = 18;\n",
    "let message;\n",
    "\n",
    "age >= 16 ? (message = 'You can drive.') : (message = 'You cannot drive.');"
   ]
  },
  {
   "cell_type": "markdown",
   "metadata": {},
   "source": [
    "Switch Case"
   ]
  },
  {
   "cell_type": "code",
   "execution_count": null,
   "metadata": {
    "dotnet_interactive": {
     "language": "csharp"
    },
    "polyglot_notebook": {
     "kernelName": "csharp"
    }
   },
   "outputs": [],
   "source": [
    "let day = 3;\n",
    "let dayName;\n",
    "\n",
    "switch (day) {\n",
    "  case 1:\n",
    "    dayName = 'Sunday';\n",
    "    break;\n",
    "  case 2:\n",
    "    dayName = 'Monday';\n",
    "    break;\n",
    "  case 3:\n",
    "    dayName = 'Tuesday';\n",
    "  default:\n",
    "    dayName = 'Invalid day';\n",
    "}\n",
    "console.log(dayName); "
   ]
  },
  {
   "cell_type": "markdown",
   "metadata": {},
   "source": [
    "For Loops"
   ]
  },
  {
   "cell_type": "code",
   "execution_count": null,
   "metadata": {
    "dotnet_interactive": {
     "language": "javascript"
    },
    "polyglot_notebook": {
     "kernelName": "javascript"
    }
   },
   "outputs": [],
   "source": [
    "for (let step = 0; step < 5; step++) {\n",
    "    console.log(step)\n",
    "  }"
   ]
  },
  {
   "cell_type": "markdown",
   "metadata": {},
   "source": [
    "Continue"
   ]
  },
  {
   "cell_type": "code",
   "execution_count": null,
   "metadata": {
    "dotnet_interactive": {
     "language": "javascript"
    },
    "polyglot_notebook": {
     "kernelName": "javascript"
    }
   },
   "outputs": [],
   "source": [
    "let text = \"<p>\";\n",
    "for (let i = 0; i < 10; i++) {\n",
    "    if (i === 3) { continue; }\n",
    "    else if (i === 5) { break; }\n",
    "    text += \"The number is \" + i + \"<br>\";\n",
    "  }\n",
    "text += \"</p>\";"
   ]
  },
  {
   "cell_type": "markdown",
   "metadata": {},
   "source": [
    "For in Loop"
   ]
  },
  {
   "cell_type": "code",
   "execution_count": null,
   "metadata": {
    "dotnet_interactive": {
     "language": "javascript"
    },
    "polyglot_notebook": {
     "kernelName": "javascript"
    }
   },
   "outputs": [],
   "source": [
    "const person = {\n",
    "    name: 'John',\n",
    "    age: 30,\n",
    "    occupation: 'Engineer'\n",
    "  };\n",
    "  \n",
    "  for (const key in person) {\n",
    "    console.log(`${key}: ${person[key]}`);\n",
    "  }  "
   ]
  },
  {
   "cell_type": "markdown",
   "metadata": {},
   "source": [
    "For of Loop"
   ]
  },
  {
   "cell_type": "code",
   "execution_count": null,
   "metadata": {
    "dotnet_interactive": {
     "language": "javascript"
    },
    "polyglot_notebook": {
     "kernelName": "javascript"
    }
   },
   "outputs": [],
   "source": [
    "const fruits = ['Apple', 'Banana', 'Orange'];\n",
    "\n",
    "for (const fruit of fruits) {\n",
    "  console.log(fruit);\n",
    "}\n",
    "\n",
    "const sentence = 'I love JavaScript';\n",
    "\n",
    "for (const char of sentence) {\n",
    "  console.log(char);\n",
    "}"
   ]
  },
  {
   "cell_type": "markdown",
   "metadata": {},
   "source": [
    "While Loops"
   ]
  },
  {
   "cell_type": "code",
   "execution_count": null,
   "metadata": {
    "dotnet_interactive": {
     "language": "javascript"
    },
    "polyglot_notebook": {
     "kernelName": "javascript"
    }
   },
   "outputs": [],
   "source": [
    "let x = 0;\n",
    "while (x < 10) {\n",
    "    x++;\n",
    "}\n",
    "\n",
    "console.log(x);"
   ]
  },
  {
   "cell_type": "markdown",
   "metadata": {},
   "source": [
    "Do While Loop"
   ]
  },
  {
   "cell_type": "code",
   "execution_count": null,
   "metadata": {
    "dotnet_interactive": {
     "language": "javascript"
    },
    "polyglot_notebook": {
     "kernelName": "javascript"
    }
   },
   "outputs": [],
   "source": [
    "let i = 0;\n",
    "do {\n",
    "  i += 1;\n",
    "} while (i < 5);\n",
    "\n",
    "console.log(i)"
   ]
  },
  {
   "cell_type": "markdown",
   "metadata": {},
   "source": [
    "### <font color=\"white\"> Errors </font>"
   ]
  },
  {
   "cell_type": "code",
   "execution_count": null,
   "metadata": {
    "dotnet_interactive": {
     "language": "javascript"
    },
    "polyglot_notebook": {
     "kernelName": "javascript"
    }
   },
   "outputs": [],
   "source": [
    "function divideNumbers(a, b) {\n",
    "    try {\n",
    "      if (b === 0) {\n",
    "        throw new Error(\"Division by zero is not allowed.\");\n",
    "      }\n",
    "      return a / b;\n",
    "    } catch (error) {\n",
    "      console.error(\"Error occurred:\", error.message);\n",
    "      return NaN;\n",
    "    } finally {\n",
    "      console.log(\"Clean up open file...\");\n",
    "    }\n",
    "  }\n",
    "  \n",
    "  console.log(divideNumbers(10, 2));  // Output: 5\n",
    "  console.log(divideNumbers(10, 0));  // Output: Error occurred: Division by zero is not allowed. NaN\n",
    "  "
   ]
  },
  {
   "cell_type": "markdown",
   "metadata": {},
   "source": [
    "### <font color=\"white\"> Classes </font>"
   ]
  },
  {
   "cell_type": "markdown",
   "metadata": {},
   "source": [
    "Old Syntax"
   ]
  },
  {
   "cell_type": "code",
   "execution_count": null,
   "metadata": {
    "dotnet_interactive": {
     "language": "javascript"
    },
    "polyglot_notebook": {
     "kernelName": "javascript"
    }
   },
   "outputs": [],
   "source": [
    "const myclass = function(name, age) { this.name = name; this.age = age; }\n",
    "s = new myclass('John', 42);\n",
    "\n",
    "console.log(s.name, s.age)\n",
    "myclass.prototype.year = 1999;\n",
    "console.log(s.year)"
   ]
  },
  {
   "cell_type": "markdown",
   "metadata": {},
   "source": [
    "New Syntax (True OOP)"
   ]
  },
  {
   "cell_type": "code",
   "execution_count": null,
   "metadata": {
    "dotnet_interactive": {
     "language": "javascript"
    },
    "polyglot_notebook": {
     "kernelName": "javascript"
    }
   },
   "outputs": [],
   "source": [
    "class MyClass {\n",
    "    constructor(name, age) {\n",
    "      this.name = name;\n",
    "      this.age = age;\n",
    "    }\n",
    "  \n",
    "    introduce() {\n",
    "      return `Hi, my name is ${this.name} and I am ${this.age} years old.`;\n",
    "    }\n",
    "\n",
    "    #privateMethod() {\n",
    "        return 'This is a private method.';\n",
    "    }\n",
    "  }\n",
    "\n",
    "const s = new MyClass('John', 42);\n",
    "console.log(s.introduce());\n",
    "//console.log(s.#privateMethod()); // SyntaxError: Private field '#privateMethod' must be declared in an enclosing class\n",
    "\n",
    "\n",
    "  class ExtendedClass extends MyClass {\n",
    "    constructor(name, age, year) {\n",
    "      super(name, age);\n",
    "      this.year = year;\n",
    "    }\n",
    "  \n",
    "    // overriding\n",
    "    introduce() {\n",
    "      return `${super.introduce()} I was born in ${this.year}.`;\n",
    "    }\n",
    "  }\n",
    "  \n",
    "const sExtended = new ExtendedClass('Jane', 30, 1999);\n",
    "console.log(sExtended.introduce());"
   ]
  },
  {
   "cell_type": "markdown",
   "metadata": {},
   "source": [
    "### <font color=\"white\"> Modules </font>"
   ]
  },
  {
   "cell_type": "markdown",
   "metadata": {},
   "source": [
    "Named Export"
   ]
  },
  {
   "cell_type": "code",
   "execution_count": null,
   "metadata": {
    "dotnet_interactive": {
     "language": "csharp"
    },
    "polyglot_notebook": {
     "kernelName": "csharp"
    }
   },
   "outputs": [],
   "source": [
    "export const name = \"July\";"
   ]
  },
  {
   "cell_type": "code",
   "execution_count": null,
   "metadata": {
    "dotnet_interactive": {
     "language": "csharp"
    },
    "polyglot_notebook": {
     "kernelName": "csharp"
    }
   },
   "outputs": [],
   "source": [
    "const name = \"Jesse\";\n",
    "const age = 40;\n",
    "\n",
    "export {name, age};\n",
    "// import { name, age } from \"./file.js\";"
   ]
  },
  {
   "cell_type": "markdown",
   "metadata": {},
   "source": [
    "Default Export"
   ]
  },
  {
   "cell_type": "code",
   "execution_count": null,
   "metadata": {
    "dotnet_interactive": {
     "language": "csharp"
    },
    "polyglot_notebook": {
     "kernelName": "csharp"
    }
   },
   "outputs": [],
   "source": [
    "export default (x) => x+1;\n",
    "// can only appear once in the file\n",
    "// import add from './add';"
   ]
  },
  {
   "cell_type": "code",
   "execution_count": null,
   "metadata": {
    "dotnet_interactive": {
     "language": "javascript"
    },
    "polyglot_notebook": {
     "kernelName": "javascript"
    }
   },
   "outputs": [],
   "source": [
    "let l = [1, 2, 3, 4]\n",
    "console.log(-1 in l)"
   ]
  },
  {
   "cell_type": "markdown",
   "metadata": {},
   "source": [
    "### <font color=\"white\"> TypeScript </font>"
   ]
  },
  {
   "cell_type": "markdown",
   "metadata": {},
   "source": [
    "#### TypeScript Basics"
   ]
  },
  {
   "cell_type": "code",
   "execution_count": null,
   "metadata": {
    "dotnet_interactive": {
     "language": "javascript"
    },
    "polyglot_notebook": {
     "kernelName": "javascript"
    }
   },
   "outputs": [],
   "source": [
    "// Define a variable with type annotation\n",
    "let message: string = \"Hello, TypeScript!\";\n",
    "let idk: any = \"I don't know what type this is\";\n",
    "\n",
    "// Function with parameter and return type annotation\n",
    "function sayHello(name: string): string {\n",
    "  return `Hello, ${name}!`;\n",
    "}\n",
    "\n",
    "// Interface to define the shape of an object\n",
    "interface Person {\n",
    "  name: string;\n",
    "  age: number;\n",
    "}\n",
    "const person1: Person = {\n",
    "  name: \"John Doe\",\n",
    "  age: 30,\n",
    "};\n",
    "\n",
    "// Array with type annotation\n",
    "let numbers: number[] = [1, 2, 3, 4, 5];"
   ]
  },
  {
   "cell_type": "markdown",
   "metadata": {},
   "source": [
    "#### Classes"
   ]
  },
  {
   "cell_type": "code",
   "execution_count": null,
   "metadata": {
    "dotnet_interactive": {
     "language": "csharp"
    },
    "polyglot_notebook": {
     "kernelName": "csharp"
    }
   },
   "outputs": [],
   "source": [
    "// Class with constructor and method\n",
    "class Greeter {\n",
    "  greeting: string;\n",
    "\n",
    "  constructor(message: string) {\n",
    "    this.greeting = message;\n",
    "  }\n",
    "\n",
    "  greet() {\n",
    "    return `Greetings, ${this.greeting}`;\n",
    "  }\n",
    "}\n"
   ]
  },
  {
   "cell_type": "markdown",
   "metadata": {},
   "source": [
    "New Types and Function Templates"
   ]
  },
  {
   "cell_type": "code",
   "execution_count": null,
   "metadata": {
    "dotnet_interactive": {
     "language": "csharp"
    },
    "polyglot_notebook": {
     "kernelName": "csharp"
    }
   },
   "outputs": [],
   "source": [
    "// New Type (union)\n",
    "type MyType = string | number;\n",
    "\n",
    "// Define the type alias\n",
    "type MyFunc = (x: number, y: number) => number;\n",
    "\n",
    "// Example function adhering to the MyFunc type\n",
    "const add: MyFunc = (x, y) => {\n",
    "  return x + y;\n",
    "};\n",
    "\n",
    "// Generic function\n",
    "function identity<T>(arg: T): T {\n",
    "  return arg;\n",
    "}"
   ]
  },
  {
   "cell_type": "code",
   "execution_count": null,
   "metadata": {
    "dotnet_interactive": {
     "language": "csharp"
    },
    "polyglot_notebook": {
     "kernelName": "csharp"
    }
   },
   "outputs": [],
   "source": [
    "// Enum\n",
    "enum Color {\n",
    "  Red,\n",
    "  Green,\n",
    "  Blue,\n",
    "}"
   ]
  }
 ],
 "metadata": {
  "kernelspec": {
   "display_name": ".NET (C#)",
   "language": "C#",
   "name": ".net-csharp"
  },
  "language_info": {
   "name": "polyglot-notebook"
  },
  "polyglot_notebook": {
   "kernelInfo": {
    "defaultKernelName": "csharp",
    "items": [
     {
      "aliases": [],
      "name": "csharp"
     },
     {
      "aliases": [],
      "languageName": "javascript",
      "name": "javascript"
     }
    ]
   }
  }
 },
 "nbformat": 4,
 "nbformat_minor": 2
}
