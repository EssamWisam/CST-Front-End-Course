{
 "cells": [
  {
   "cell_type": "markdown",
   "metadata": {},
   "source": [
    "# <font color=\"yellow\" size=\"30\">JavaScript</font> <font size=\"30\"> Tutoria II </font>"
   ]
  },
  {
   "cell_type": "markdown",
   "metadata": {},
   "source": [
    "### <font color=\"white\"> Generally Recommended to Use Strict </font>"
   ]
  },
  {
   "cell_type": "code",
   "execution_count": null,
   "metadata": {
    "dotnet_interactive": {
     "language": "javascript"
    },
    "polyglot_notebook": {
     "kernelName": "javascript"
    }
   },
   "outputs": [],
   "source": [
    "\"use strict\";\n",
    "\n",
    "// undeclared\n",
    "z = 3.14\n",
    "\n",
    "// duplicate parameters\n",
    "function foo(bar, bar){ return bar;}\n",
    "\n",
    "// delete\n",
    "let y = 5;\n",
    "delete y;\n",
    "console.log(y);"
   ]
  },
  {
   "cell_type": "markdown",
   "metadata": {},
   "source": [
    "### <font color=\"white\"> Asynchronous JavaScript </font>"
   ]
  },
  {
   "cell_type": "markdown",
   "metadata": {},
   "source": [
    "Set Timeout is an Asynchronous function; rest of the program can continue running before it finishes"
   ]
  },
  {
   "cell_type": "code",
   "execution_count": null,
   "metadata": {
    "dotnet_interactive": {
     "language": "javascript"
    },
    "polyglot_notebook": {
     "kernelName": "javascript"
    }
   },
   "outputs": [],
   "source": [
    "function printMsg() {\n",
    "    console.log(\"Time is up\")\n",
    "}\n",
    "setTimeout(printMsg, 2000)\n",
    "\n",
    "console.log(\"Hello\")"
   ]
  },
  {
   "cell_type": "markdown",
   "metadata": {},
   "source": [
    "Suppose we want to implement an asynchronous function in JavaScript that runs specific functions upon termination/errors.\n"
   ]
  },
  {
   "cell_type": "code",
   "execution_count": null,
   "metadata": {
    "dotnet_interactive": {
     "language": "javascript"
    },
    "polyglot_notebook": {
     "kernelName": "javascript"
    }
   },
   "outputs": [],
   "source": [
    "// 1 - Define the async operation (e.g., send a request to a server)\n",
    "function slow_func(resolve, reject) {\n",
    "\n",
    "    setTimeout(()=>{\n",
    "        var rand = Math.random();\n",
    "        rand = rand * 10;\n",
    "        rand = rand - 22;\n",
    "        rand = rand / 2;\n",
    "        rand = (rand * 2 + 22) / 10;\n",
    "        if (rand > 0.5) {\n",
    "            resolve(\"Success!\");\n",
    "        }\n",
    "        else {\n",
    "            reject(\"Failure!\");\n",
    "        }\n",
    "        }\n",
    "    ,2000)\n",
    "}\n",
    "\n",
    "// 2 - Wrap it in a function that returns a promise\n",
    "function slow() {\n",
    "    return new Promise(slow_func);\n",
    "}\n",
    "\n",
    "\n",
    "// 3 - Wrap the async operation in an async function and include the code to be executed when the async operation is finished or fails & call it\n",
    "async function slow_func_and_more_funcs() {\n",
    "    try {\n",
    "\n",
    "      const result = await slow();\n",
    "      console.log(\"Surely, it is finished with info: \" + text);\n",
    "      // code in case resolve is called goes here\n",
    "\n",
    "    } catch (error) {\n",
    "\n",
    "      console.log(\"Error detected with info: \" + text);\n",
    "      // code in case reject is called goes here\n",
    "\n",
    "    }\n",
    "  }\n",
    "  \n",
    "slow_func_and_more_funcs();\n",
    "\n",
    "\n",
    "// 4 - Do something else while the async operation is running\n",
    "console.log(\"Hellos\")"
   ]
  },
  {
   "cell_type": "markdown",
   "metadata": {},
   "source": [
    "Step 3 has an alternative"
   ]
  },
  {
   "cell_type": "code",
   "execution_count": null,
   "metadata": {
    "dotnet_interactive": {
     "language": "javascript"
    },
    "polyglot_notebook": {
     "kernelName": "javascript"
    }
   },
   "outputs": [],
   "source": [
    "// 3 - Instead of awaiting and wrapping in an async function we can use then and catch\n",
    "\n",
    "slow().then((text=>console.log(\"Surely, it is finished with info: \" + text))).catch(error=>console.log(\"Error detected with info: \" + text));\n",
    "\n",
    "// 4 - Do something else while the async operation is running\n",
    "console.log(\"Hellos\")"
   ]
  },
  {
   "cell_type": "markdown",
   "metadata": {},
   "source": [
    "## <font color=\"LemonChiffon\"> HTTP (Hypertext Transfer Protocol) </font>"
   ]
  },
  {
   "cell_type": "markdown",
   "metadata": {},
   "source": [
    "Protocol used for exchanging information over the internet. For example,\n",
    "\n",
    "- Browser gets Webpage from Application Server (Implemented)\n",
    "<br><br>\n",
    "- Browser gets Posts from Application Server \n",
    "<br><br>\n",
    "- Browser sends Sign up Data to Application Server"
   ]
  },
  {
   "cell_type": "markdown",
   "metadata": {},
   "source": [
    "<div align=\"center\"><img src=\"Arch.png\"/></div>"
   ]
  },
  {
   "cell_type": "markdown",
   "metadata": {},
   "source": [
    "HTTP allows <font color=\"aqua\"> four types of requests </font> from the client to the server. These are:\n",
    "\n",
    "- <b><font color=\"yellow\">GET</font></b>:\tAsks the server to retrieve a resource.\n",
    "<br><br>\n",
    "- <b><font color=\"yellow\">HEAD</font></b>:\tLike GET but with no body\n",
    "<br><br>\n",
    "- <b><font color=\"yellow\">POST</font></b>:\tAsks the server to create a new resource.\n",
    "<br><br>\n",
    "- <b><font color=\"yellow\">PUT</font></b>:\tAsks the server to edit/update an existing resource.\n",
    "<br><br>\n",
    "- <b><font color=\"yellow\">DELETE</font></b>:\tAsks the server to delete a resource.\n",
    "\n",
    "✦ The request consists of a <font color=\"aqua\">HTTP method</font>, <font color=\"aqua\">header</font>, and a <font color=\"aqua\">body</font>.\n",
    "\n",
    "✦ The server replies with a <font color=\"aqua\">specific response </font> in each of these cases which includes a <font color=\"aqua\">status code</font>, <font color=\"aqua\">header</font>, and a <font color=\"aqua\">body</font>.\n"
   ]
  },
  {
   "cell_type": "markdown",
   "metadata": {},
   "source": [
    "| Status Code | Description                             |\n",
    "|------------:|-----------------------------------------|\n",
    "| 200         | OK Success                              |\n",
    "| 307         | Temporary Redirect                     |\n",
    "| 404         | Not Found Famous one                   |\n",
    "| 503         | Service Unavailable                    |\n",
    "| 500         | Internal Server Error                  |\n",
    "| 501         | Not Implemented                        |\n",
    "| 400         | Bad Request                            |\n",
    "| 401         | Unauthorized                           |\n",
    "| 403         | Forbidden                              |\n",
    "| 550         | Permission denied Not allow to perform request |\n"
   ]
  },
  {
   "cell_type": "markdown",
   "metadata": {},
   "source": [
    "<div align=\"left\">\n",
    "<img src=\"https://b1694534.smushcdn.com/1694534/wp-content/uploads/2021/06/18.jpeg?lossy=1&strip=1&webp=1\" width=500/>\n",
    "</div>"
   ]
  },
  {
   "cell_type": "markdown",
   "metadata": {},
   "source": [
    "Will consider Fetch API (R.I.P AJAX)"
   ]
  },
  {
   "cell_type": "markdown",
   "metadata": {},
   "source": [
    "### GET Request"
   ]
  },
  {
   "cell_type": "code",
   "execution_count": null,
   "metadata": {
    "dotnet_interactive": {
     "language": "javascript"
    },
    "polyglot_notebook": {
     "kernelName": "javascript"
    }
   },
   "outputs": [],
   "source": [
    "const baseUrl = 'https://jsonplaceholder.typicode.com';\n",
    "\n",
    "// GET request\n",
    "async function getPosts() {\n",
    "  try {\n",
    "\n",
    "    const response = await fetch(`${baseUrl}/posts`);\n",
    "    console.log('Status:', response.status);\n",
    "    \n",
    "    const data = await response.json();\n",
    "    console.log('Data:', data);\n",
    "\n",
    "  } catch (error) {\n",
    "\n",
    "    console.error('Error retrieving posts:', error.message);\n",
    "    \n",
    "  }\n",
    "}\n",
    "\n",
    "// Testing the GET request\n",
    "getPosts();"
   ]
  },
  {
   "cell_type": "markdown",
   "metadata": {},
   "source": [
    "### POST Request"
   ]
  },
  {
   "cell_type": "code",
   "execution_count": null,
   "metadata": {
    "dotnet_interactive": {
     "language": "javascript"
    },
    "polyglot_notebook": {
     "kernelName": "javascript"
    }
   },
   "outputs": [],
   "source": [
    "const baseUrl = 'https://jsonplaceholder.typicode.com';\n",
    "\n",
    "// POST request\n",
    "async function createPost(postData) {\n",
    "  try {\n",
    "\n",
    "    const response = await fetch(`${baseUrl}/posts`, {\n",
    "      method: 'POST',\n",
    "      headers: {\n",
    "        'Content-Type': 'application/json',\n",
    "      },\n",
    "      body: JSON.stringify(postData),\n",
    "    });\n",
    "    console.log('Status:', response.status);\n",
    "\n",
    "    const data = await response.json();\n",
    "    console.log('Post created:', data);\n",
    "\n",
    "  } catch (error) {\n",
    "\n",
    "    console.error('Error creating post:', error.message);\n",
    "    \n",
    "  }\n",
    "}\n",
    "\n",
    "// Testing the POST request\n",
    "const newPostData = {\n",
    "  title: 'New Post Title',\n",
    "  body: 'This is the content of the new post.',\n",
    "  userId: 1,\n",
    "};\n",
    "createPost(newPostData);"
   ]
  },
  {
   "cell_type": "markdown",
   "metadata": {},
   "source": [
    "### PUT Request"
   ]
  },
  {
   "cell_type": "code",
   "execution_count": null,
   "metadata": {
    "dotnet_interactive": {
     "language": "javascript"
    },
    "polyglot_notebook": {
     "kernelName": "javascript"
    }
   },
   "outputs": [],
   "source": [
    "const baseUrl = 'https://jsonplaceholder.typicode.com';\n",
    "\n",
    "// PUT request\n",
    "async function updatePost(postId, postData) {\n",
    "  try {\n",
    "\n",
    "    const response = await fetch(`${baseUrl}/posts/${postId}`, {\n",
    "      method: 'PUT',\n",
    "      headers: {\n",
    "        'Content-Type': 'application/json',\n",
    "      },\n",
    "      body: JSON.stringify(postData),\n",
    "    });\n",
    "    console.log('Status:', response.status);\n",
    "\n",
    "    const data = await response.json();\n",
    "    console.log('Post updated:', data);\n",
    "\n",
    "  } catch (error) {\n",
    "\n",
    "    console.error('Error updating post:', error.message);\n",
    "    \n",
    "  }\n",
    "}\n",
    "\n",
    "// Testing the PUT request\n",
    "const postIdToUpdate = 1;\n",
    "const updatedPostData = {\n",
    "  title: 'Updated Post Title',\n",
    "  body: 'This is the updated content of the post.',\n",
    "};\n",
    "updatePost(postIdToUpdate, updatedPostData);\n"
   ]
  },
  {
   "cell_type": "markdown",
   "metadata": {},
   "source": [
    "### DELETE Request"
   ]
  },
  {
   "cell_type": "code",
   "execution_count": null,
   "metadata": {
    "dotnet_interactive": {
     "language": "csharp"
    },
    "polyglot_notebook": {
     "kernelName": "csharp"
    }
   },
   "outputs": [],
   "source": [
    "const baseUrl = 'https://jsonplaceholder.typicode.com';\n",
    "\n",
    "// DELETE request\n",
    "async function deletePost(postId) {\n",
    "  try {\n",
    "\n",
    "    const response = await fetch(`${baseUrl}/posts/${postId}`, {\n",
    "      method: 'DELETE',\n",
    "    });\n",
    "    console.log('Response Status', response.status);\n",
    "\n",
    "  } catch (error) {\n",
    "    \n",
    "    console.error('Error deleting post:', error.message);\n",
    "\n",
    "  }\n",
    "}\n",
    "\n",
    "// Testing the DELETE request\n",
    "const postIdToDelete = 1;\n",
    "deletePost(postIdToDelete);\n"
   ]
  },
  {
   "cell_type": "markdown",
   "metadata": {},
   "source": [
    "### Problem: Bad Status Code may not Imply Error\n",
    "Consider"
   ]
  },
  {
   "cell_type": "code",
   "execution_count": null,
   "metadata": {
    "dotnet_interactive": {
     "language": "csharp"
    },
    "polyglot_notebook": {
     "kernelName": "csharp"
    }
   },
   "outputs": [],
   "source": [
    "async function fetchData() {\n",
    "  try {\n",
    "\n",
    "    const response = await fetch('https://jsonplaceholder.typicode.com/todos/2382822');\n",
    "    const result = await response.json();\n",
    "    console.log('Results are', result);\n",
    "\n",
    "  } catch (error) {\n",
    "\n",
    "    console.log('Error', error);\n",
    "    \n",
    "  }\n",
    "}\n",
    "\n",
    "fetchData();\n"
   ]
  },
  {
   "cell_type": "markdown",
   "metadata": {},
   "source": [
    "Solution"
   ]
  },
  {
   "cell_type": "code",
   "execution_count": null,
   "metadata": {
    "dotnet_interactive": {
     "language": "csharp"
    },
    "polyglot_notebook": {
     "kernelName": "csharp"
    }
   },
   "outputs": [],
   "source": [
    "async function fetchData() {\n",
    "  try {\n",
    "\n",
    "    const response = await fetch('https://jsonplaceholder.typicode.com/todos/2382822');\n",
    "    if (!response.ok) throw new Error(`HTTP error with status code: ${response.status}`);\n",
    "  \n",
    "    const result = await response.json();\n",
    "    console.log('DONE: ', result);\n",
    "\n",
    "  } catch (error) {\n",
    "\n",
    "    console.log(error);\n",
    "\n",
    "  }\n",
    "}\n",
    "\n",
    "fetchData();\n"
   ]
  },
  {
   "cell_type": "markdown",
   "metadata": {},
   "source": [
    "## <font color=\"LemonChiffon\"> Some Attacks on Websites </font>"
   ]
  },
  {
   "cell_type": "markdown",
   "metadata": {},
   "source": [
    "### Sniffing<font color=\"grey\">, Phishing and Keylogging </font>"
   ]
  },
  {
   "cell_type": "markdown",
   "metadata": {},
   "source": [
    "<div align=\"center\">\n",
    "<img src=\"https://www.guru99.com/images/2/061721_1238_10BESTWiFiS15.png\"/>\n",
    "</div>"
   ]
  },
  {
   "cell_type": "markdown",
   "metadata": {},
   "source": [
    "#### Solution = Use HTTPS (Secure HTTP; Uses SSL)"
   ]
  },
  {
   "cell_type": "markdown",
   "metadata": {},
   "source": [
    "<div align=\"center\">\n",
    "<img src=\"https://media.geeksforgeeks.org/wp-content/uploads/20210224215653/fgfdgrfgrf21.png\">\n",
    "</div>"
   ]
  },
  {
   "cell_type": "markdown",
   "metadata": {},
   "source": [
    "### DOS & DDOS"
   ]
  },
  {
   "cell_type": "markdown",
   "metadata": {},
   "source": [
    "Web server has only a finite bandwidth; will start ignoring further requests if they exceed some limit"
   ]
  },
  {
   "cell_type": "markdown",
   "metadata": {},
   "source": [
    "<div align=\"center\">\n",
    "<img src=\"https://www.cloudflare.com/img/learning/ddos/glossary/dos-attack/dos-vs-ddos-attack.png\" width=500/>\n",
    "</div>"
   ]
  },
  {
   "cell_type": "markdown",
   "metadata": {},
   "source": [
    "### Cross-site Scripting"
   ]
  },
  {
   "cell_type": "code",
   "execution_count": null,
   "metadata": {
    "dotnet_interactive": {
     "language": "javascript"
    },
    "polyglot_notebook": {
     "kernelName": "javascript"
    }
   },
   "outputs": [],
   "source": [
    "newPost = {\n",
    "    image: \"Google.com\"\n",
    "    header: \"Code for life\",\n",
    "    paragraph: \"<script> alert('You have been hacked!'); </script>\"\n",
    "\n",
    "}\n",
    "\n",
    "// Post request it (goes to DB)\n",
    "\n",
    "// Now when other users go to home => GET request from DB returns object array\n",
    "\n",
    "<div class=\"grid-container\">\n",
    "<div class=\"grid-item\">\n",
    "    <img src=\"Google.com\"  width=\"100%\" height=\"200\">\n",
    "    <h3>Code for life</h3>\n",
    "    <p><script> alert('You have been hacked!'); </script></p>\n",
    "</div>\n",
    "<div class=\"grid-item\">\n",
    "    <img src=\"fb.com\" height=\"200\">\n",
    "    <h3>ssome cooool header</h3>\n",
    "    <p>some content hey bla bla bla</p>\n",
    "</div>\n",
    "<div class=\"grid-item\">\n",
    "    <img src=\"twitter.com\" width=\"100%\" height=\"200\">\n",
    "    <h3>some great header</h3>\n",
    "    <p>some content whatever bla bla bla</p>\n",
    "</div>\n",
    "</div>\n",
    "</div>"
   ]
  },
  {
   "cell_type": "markdown",
   "metadata": {},
   "source": [
    "### Cross-site request forgery attack"
   ]
  },
  {
   "cell_type": "markdown",
   "metadata": {},
   "source": [
    "Like cross-site scripting but may be targeted at a single user and makes a request on their behalf (e.g., a POST request to transfer money)"
   ]
  },
  {
   "cell_type": "markdown",
   "metadata": {},
   "source": [
    "## <font color=\"LemonChiffon\"> JavaScript HTML DOM </font>"
   ]
  },
  {
   "cell_type": "markdown",
   "metadata": {},
   "source": [
    "#### Recall"
   ]
  },
  {
   "cell_type": "markdown",
   "metadata": {},
   "source": [
    "### <font color=\"white\"> Many built-in non-primitives are available under the type <font color=\"aqua\">object</font> </font>\n",
    "<table> \n",
    "<tr> \n",
    "<th>Object</th> \n",
    "<th>Function </th>\n",
    "<th>Array </th>\n",
    "<th>Date </th>\n",
    "<th>RegExp </th>\n",
    "<th>Math </th>\n",
    "<th><font color=\"aqua\">Window</font></th>\n",
    "\n",
    "</tr>\n",
    "<tr> \n",
    "<td>new Object({...})</td> \n",
    "<td>new Function(\"arg1\", \"arg2\", .., \"body\") </td>\n",
    "<td>new Array(1, 2, 3)</td>\n",
    "<td>new Date(\"date\") </td>\n",
    "<td>new RegExp(\"pattern\") </td>\n",
    "<td>static </td>\n",
    "<td>special</td>\n",
    "</tr>\n",
    "\n",
    "<tr> \n",
    "<td>{...}</td> \n",
    "<td>func(arg1, arg2, ..) {body} </td>\n",
    "<td>[1, 2, 3]</td>\n",
    "<td>new Date(\"date\") </td>\n",
    "<td> /pattern/ </td>\n",
    "<td> static </td>\n",
    "<td>special</td>\n",
    "</tr>\n",
    "</table>\n",
    "\n",
    "### <font color=\"aqua\"><i> window.document </i></font> allows us to control HTML/CSS. It views the HTML document as a tree"
   ]
  },
  {
   "cell_type": "markdown",
   "metadata": {},
   "source": [
    "<div align=\"center\">\n",
    "<img src=\"https://i.stack.imgur.com/IERlg.png\">\n",
    "</div>"
   ]
  },
  {
   "cell_type": "markdown",
   "metadata": {},
   "source": [
    "<div align=\"center\">\n",
    "\n",
    "| Property                         | Description                                      |\n",
    "|----------------------------------|--------------------------------------------------|\n",
    "| element.innerHTML = new html     | Change the inner HTML of an element             |\n",
    "| element.attribute = new value    | Change the attribute value of an HTML element   |\n",
    "| element.style.property = new style     | Change the style of an HTML element             |\n",
    "\n",
    "</div>"
   ]
  },
  {
   "cell_type": "markdown",
   "metadata": {},
   "source": [
    "### Allows us to <font color=\"aqua\">find</font> HTML elements!"
   ]
  },
  {
   "cell_type": "code",
   "execution_count": null,
   "metadata": {
    "dotnet_interactive": {
     "language": "javascript"
    },
    "polyglot_notebook": {
     "kernelName": "javascript"
    }
   },
   "outputs": [],
   "source": [
    "document.getElementById(id)\t                            // Find an element by element id (e.g., \"main\")\n",
    "document.getElementsByClassName(name)\t                // Find elements by class name (e.g., \"container\")\n",
    "document.getElementsByTagName(name)\t                    // Find elements by tag name (e.g., <li>, <p>)\n",
    "\n",
    "// Generally\n",
    "document.querySelectorAll(selector)\t                    // Find elements by CSS selector (e.g., #main, p.container, li);"
   ]
  },
  {
   "cell_type": "markdown",
   "metadata": {},
   "source": [
    "### Then to <font color=\"aqua\">modify</font> such elements"
   ]
  },
  {
   "cell_type": "code",
   "execution_count": null,
   "metadata": {
    "dotnet_interactive": {
     "language": "javascript"
    },
    "polyglot_notebook": {
     "kernelName": "javascript"
    }
   },
   "outputs": [],
   "source": [
    "element.innerHTML =  \"new html content\"\t                // Change the inner HTML of an element\n",
    "element.attribute = \"new value\"\t                        // Change the attribute value of an HTML element\n",
    "element.style.property = \"new style\"\t                // Change the style of an HTML element"
   ]
  },
  {
   "cell_type": "markdown",
   "metadata": {},
   "source": [
    "Example for ID"
   ]
  },
  {
   "cell_type": "code",
   "execution_count": null,
   "metadata": {
    "dotnet_interactive": {
     "language": "html"
    },
    "polyglot_notebook": {
     "kernelName": "html"
    }
   },
   "outputs": [],
   "source": [
    "<html>\n",
    "    <body>\n",
    "\n",
    "        <p id=\"demo\"></p>\n",
    "\n",
    "        <script>\n",
    "\n",
    "        document.getElementById(\"demo\").innerHTML = \"Hello World!\";\n",
    "        document.getElementById(\"demo\").align = \"center\";\n",
    "        document.getElementById(\"demo\").style.fontSize = \"40px\";\n",
    "        document.getElementById(\"demo\").style.color = \"pink\";\n",
    "\n",
    "        </script>\n",
    "    </body>\n",
    "</html>\n",
    "\n"
   ]
  },
  {
   "cell_type": "markdown",
   "metadata": {},
   "source": [
    "Example for Class"
   ]
  },
  {
   "cell_type": "code",
   "execution_count": null,
   "metadata": {
    "dotnet_interactive": {
     "language": "html"
    },
    "polyglot_notebook": {
     "kernelName": "html"
    }
   },
   "outputs": [],
   "source": [
    "<!DOCTYPE html>\n",
    "<html>\n",
    "    <body>\n",
    "\n",
    "    <h2>JavaScript HTML DOM</h2>\n",
    "\n",
    "    <p>Finding HTML Elements by Class Name.</p>\n",
    "    <p class=\"intro\">Hello World!</p>\n",
    "\n",
    "    <p id=\"demo\"></p>\n",
    "\n",
    "    <script>\n",
    "        const elem = document.getElementsByClassName(\"intro\");\n",
    "        document.getElementById(\"demo\").innerHTML = elem[0].innerHTML;\n",
    "\n",
    "        document.getElementById(\"demo\").align = \"center\";\n",
    "        document.getElementById(\"demo\").style.fontSize = \"40px\";\n",
    "        document.getElementById(\"demo\").style.color = \"pink\";\n",
    "    </script>\n",
    "\n",
    "    </body>\n",
    "</html>"
   ]
  },
  {
   "cell_type": "markdown",
   "metadata": {},
   "source": [
    "Example for Tag"
   ]
  },
  {
   "cell_type": "code",
   "execution_count": null,
   "metadata": {
    "dotnet_interactive": {
     "language": "html"
    },
    "polyglot_notebook": {
     "kernelName": "html"
    }
   },
   "outputs": [],
   "source": [
    "<!DOCTYPE html>\n",
    "<html>\n",
    "    <body>\n",
    "\n",
    "        <h2>JavaScript HTML DOM</h2>\n",
    "\n",
    "        <div id=\"main\">\n",
    "            <p>Finding HTML Elements by Tag Name</p>\n",
    "            <p>This example demonstrates the <b>getElementsByTagName</b> method.</p>\n",
    "        </div>\n",
    "\n",
    "        <p id=\"demo\"></p>\n",
    "\n",
    "        <script>\n",
    "            const main_element = document.getElementById(\"main\");\n",
    "            const main_p_elements = main_element.getElementsByTagName(\"p\");\n",
    "            document.getElementById(\"demo\").innerHTML =  main_p_elements[0].innerHTML;\n",
    "            \n",
    "            document.getElementById(\"demo\").align = \"center\";\n",
    "            document.getElementById(\"demo\").style.fontSize = \"20px\";\n",
    "            document.getElementById(\"demo\").style.color = \"pink\";\n",
    "        </script>\n",
    "\n",
    "    </body>\n",
    "</html>"
   ]
  },
  {
   "cell_type": "markdown",
   "metadata": {},
   "source": [
    "Query Selector "
   ]
  },
  {
   "cell_type": "code",
   "execution_count": null,
   "metadata": {
    "dotnet_interactive": {
     "language": "html"
    },
    "polyglot_notebook": {
     "kernelName": "html"
    }
   },
   "outputs": [],
   "source": [
    "<!DOCTYPE html>\n",
    "<html>\n",
    "    <body>\n",
    "\n",
    "        <h2>JavaScript HTML DOM</h2>\n",
    "\n",
    "        <p>Finding HTML Elements by Query Selector</p>\n",
    "        <p class=\"intro\">Hello World!</p>\n",
    "        <p class=\"intro\">This example demonstrates the <b>querySelectorAll</b> method.</p>\n",
    "\n",
    "        <p id=\"demo\"></p>\n",
    "\n",
    "        <script>\n",
    "            const elem = document.querySelectorAll(\"p.intro\");\n",
    "            document.getElementById(\"demo\").innerHTML = elem[0].innerHTML;\n",
    "\n",
    "            document.getElementById(\"demo\").align = \"center\";\n",
    "            document.getElementById(\"demo\").style.fontSize = \"20px\";\n",
    "            document.getElementById(\"demo\").style.color = \"pink\";\n",
    "        </script>\n",
    "\n",
    "    </body>\n",
    "</html>"
   ]
  },
  {
   "cell_type": "code",
   "execution_count": null,
   "metadata": {
    "dotnet_interactive": {
     "language": "javascript"
    },
    "polyglot_notebook": {
     "kernelName": "javascript"
    }
   },
   "outputs": [],
   "source": [
    "// Other selectors like document.anchors, document.body, etc also exist but seem useless"
   ]
  },
  {
   "cell_type": "markdown",
   "metadata": {},
   "source": [
    "### We can even <font color=\"aqua\">add new</font> HTML elements"
   ]
  },
  {
   "cell_type": "code",
   "execution_count": null,
   "metadata": {
    "dotnet_interactive": {
     "language": "javascript"
    },
    "polyglot_notebook": {
     "kernelName": "javascript"
    }
   },
   "outputs": [],
   "source": [
    "document.createElement(element)\t                            // Create an HTML element\n",
    "document.appendChild(element)\t                            // Add an HTML element\n",
    "document.removeChild(element)\t                            // Remove an HTML element\n",
    "document.replaceChild(new, old)\t                            // Replace an HTML element\n",
    "document.write(text)\t                                    // Write Pure HTML where <script> is"
   ]
  },
  {
   "cell_type": "markdown",
   "metadata": {},
   "source": [
    "Create Element & Append Child"
   ]
  },
  {
   "cell_type": "code",
   "execution_count": null,
   "metadata": {
    "dotnet_interactive": {
     "language": "html"
    },
    "polyglot_notebook": {
     "kernelName": "html"
    }
   },
   "outputs": [],
   "source": [
    "<!DOCTYPE html>\n",
    "<html>\n",
    "  <head>\n",
    "    <title>Example - Create an HTML Element</title>\n",
    "  </head>\n",
    "  <body>\n",
    "    <script>\n",
    "      //https://www.guru99.com/execute-html-online.html\n",
    "      var paragraph = document.createElement(\"p\");\n",
    "\n",
    "      paragraph.innerHTML = \"This is a new paragraph.\";\n",
    "\n",
    "      document.body.appendChild(paragraph);\n",
    "    </script>\n",
    "  </body>\n",
    "</html>"
   ]
  },
  {
   "cell_type": "markdown",
   "metadata": {},
   "source": [
    "Replace Child"
   ]
  },
  {
   "cell_type": "code",
   "execution_count": null,
   "metadata": {
    "dotnet_interactive": {
     "language": "html"
    },
    "polyglot_notebook": {
     "kernelName": "html"
    }
   },
   "outputs": [],
   "source": [
    "<!DOCTYPE html>\n",
    "<html>\n",
    "    <head>\n",
    "        <title>Example - Replace an HTML Element</title>\n",
    "    </head>\n",
    "    <body>\n",
    "        <div id=\"parent\">\n",
    "            <p id=\"toBeReplaced\">This paragraph will be replaced.</p>\n",
    "        </div>\n",
    "\n",
    "        <script>\n",
    "            var parent = document.getElementById(\"parent\");\n",
    "\n",
    "            var toBeReplaced = document.getElementById(\"toBeReplaced\");\n",
    "\n",
    "            var newParagraph = document.createElement(\"p\");\n",
    "            newParagraph.innerHTML = \"This is the new paragraph replacing the old one.\";\n",
    "\n",
    "            parent.replaceChild(newParagraph, toBeReplaced);\n",
    "        </script>\n",
    "    </body>\n",
    "</html>"
   ]
  },
  {
   "cell_type": "markdown",
   "metadata": {},
   "source": [
    "Remove Child"
   ]
  },
  {
   "cell_type": "code",
   "execution_count": null,
   "metadata": {
    "dotnet_interactive": {
     "language": "html"
    },
    "polyglot_notebook": {
     "kernelName": "html"
    }
   },
   "outputs": [],
   "source": [
    "<!DOCTYPE html>\n",
    "<html>\n",
    "<head>\n",
    "  <title>Example - Remove an HTML Element</title>\n",
    "</head>\n",
    "<body>\n",
    "  <div id=\"parent\">\n",
    "    <p id=\"toBeRemoved\">This paragraph will be removed.</p>\n",
    "  </div>\n",
    "  <script>\n",
    "    var element = document.getElementById(\"parent\");\n",
    "\n",
    "    var toBeRemoved = document.getElementById(\"toBeRemoved\");\n",
    "\n",
    "   element.removeChild(toBeRemoved);\n",
    "  </script>\n",
    "</body>\n",
    "</html>\n"
   ]
  },
  {
   "cell_type": "markdown",
   "metadata": {},
   "source": [
    "### <font color=\"aqua\">Example:</font> Forms"
   ]
  },
  {
   "cell_type": "code",
   "execution_count": null,
   "metadata": {
    "dotnet_interactive": {
     "language": "html"
    },
    "polyglot_notebook": {
     "kernelName": "html"
    }
   },
   "outputs": [],
   "source": [
    "<!DOCTYPE html>\n",
    "<html>\n",
    "    <head>\n",
    "        <title>Form Validation Example</title>\n",
    "    </head>\n",
    "    <body>\n",
    "    <h2>Form Validation Example</h2>\n",
    "    <form onsubmit=\"return validateForm()\" action=\"/submit-form.php\" method=\"post\">\n",
    "        <label for=\"name\">Name:</label>\n",
    "        <input type=\"text\" id=\"name\" name=\"name\"><br>\n",
    "\n",
    "        <label for=\"email\">Email:</label>\n",
    "        <input type=\"email\" id=\"email\" name=\"email\"><br>\n",
    "\n",
    "        <label for=\"password\">Password:</label>\n",
    "        <input type=\"password\" id=\"password\" name=\"password\"><br>\n",
    "\n",
    "        <input type=\"submit\" value=\"Submit\">\n",
    "    </form>\n",
    "    <p id=\"msg\"></p>\n",
    "\n",
    "    <script>\n",
    "        // Function to validate the form before submission\n",
    "        function validateForm() {\n",
    "            const msg = document.getElementById('msg');\n",
    "            var name = document.getElementById('name').value;\n",
    "            var email = document.getElementById('email').value;\n",
    "            var password = document.getElementById('password').value;\n",
    "\n",
    "            // Check if any field is empty\n",
    "            if (name === '' || email === '' || password === '') {\n",
    "            msg.innerHTML = 'Please fill out all the fields.';\n",
    "            return false;\n",
    "            }\n",
    "\n",
    "            // Validate the email format using a regular expression\n",
    "            var emailRegex = /^[^\\s@]+@[^\\s@]+\\.[^\\s@]+$/;\n",
    "            if (!emailRegex.test(email)) {\n",
    "            msg.innerHTML = 'Invalid email format.';\n",
    "            return false;\n",
    "            }\n",
    "\n",
    "            // Password length should be at least 6 characters\n",
    "            if (password.length < 6) {\n",
    "            msg.innerHTML = 'Password should be at least 6 characters.';\n",
    "            return false;\n",
    "            }\n",
    "\n",
    "            // If all validations pass, the form can be submitted\n",
    "            return true;\n",
    "        }\n",
    "    </script>\n",
    "    </body>\n",
    "</html>\n"
   ]
  },
  {
   "cell_type": "markdown",
   "metadata": {},
   "source": [
    "### <font color=\"aqua\">Example:</font> Animations with Events"
   ]
  },
  {
   "cell_type": "code",
   "execution_count": null,
   "metadata": {
    "dotnet_interactive": {
     "language": "html"
    },
    "polyglot_notebook": {
     "kernelName": "html"
    }
   },
   "outputs": [],
   "source": [
    "<!DOCTYPE html>\n",
    "<html>\n",
    "<head>\n",
    "  <title>Simple Animation: Translate X</title>\n",
    "  <style>\n",
    "    .box {\n",
    "      width: 60px;\n",
    "      height: 200px;\n",
    "      background-color: #3498db;\n",
    "      transition: transform 1s;\n",
    "    }\n",
    "  </style>\n",
    "</head>\n",
    "<body>\n",
    "  <div class=\"box\" id=\"animatedBox\"></div>\n",
    "  <button onclick=\"moveLeft()\">Move Left</button>\n",
    "  <button onclick=\"moveRight()\">Move Right</button>\n",
    "\n",
    "  <script>\n",
    "    function moveRight() {\n",
    "      var element = document.getElementById(\"animatedBox\");\n",
    "      element.style.transform = \"translateX(100px)\";\n",
    "    }\n",
    "\n",
    "    function moveLeft() {\n",
    "      var element = document.getElementById(\"animatedBox\");\n",
    "      element.style.transform = \"translateX(-5px)\";\n",
    "    }\n",
    "  </script>\n",
    "</body>\n",
    "</html>"
   ]
  },
  {
   "cell_type": "markdown",
   "metadata": {},
   "source": [
    "### We can <font color=\"aqua\">Attach Events</font> to HTML Elements"
   ]
  },
  {
   "cell_type": "markdown",
   "metadata": {},
   "source": [
    "| Event             | Occurs When                                              | Belongs To               |\n",
    "|-------------------|----------------------------------------------------------|--------------------------|\n",
    "| focus             | An element gets focus                                    | FocusEvent               |\n",
    "| blur              | An element loses focus                                   | FocusEvent               |\n",
    "| focusin           | An element is about to get focus                          | FocusEvent               |\n",
    "| focusout          | An element is about to lose focus                         | FocusEvent               |\n",
    "| resize            | The document view is resized                              | UiEvent, Event           |\n",
    "| scroll            | A scrollbar is being scrolled                             | UiEvent, Event           |\n",
    "| select            | User selects some text                                    | UiEvent, Event           |\n",
    "| change            | The content of a form element has changed                | Event                    |\n",
    "| input             | An element gets user input                                | InputEvent, Event        |\n",
    "| reset             | A form is reset                                          | Event                    |\n",
    "| submit            | A form is submitted                                       | Event                    |\n",
    "| click             | An element is clicked on                                 | MouseEvent               |\n",
    "| dblclick          | An element is double-clicked                              | MouseEvent               |\n",
    "| mousedown         | The mouse button is pressed over an element               | MouseEvent               |\n",
    "| mouseup           | A user releases a mouse button over an element            | MouseEvent               |\n",
    "| mousemove         | The pointer is moved over an element                      | MouseEvent               |\n",
    "| mouseover         | The pointer is moved onto an element                      | MouseEvent               |\n",
    "| mouseout          | The pointer is moved out of an element                    | MouseEvent               |\n",
    "| contextmenu       | An element is right-clicked to open a context menu       | MouseEvent               |\n",
    "| wheel             | The mouse wheel rolls up or down over an element           | WheelEvent               |\n",
    "| beforeprint       | A page is about to be printed                            | Event                    |\n",
    "| afterprint        | A page has started printing                              | Event                    |\n",
    "| pagehide          | User navigates away from a webpage                        | PageTransitionEvent      |\n",
    "| pageshow          | User navigates to a webpage                               | PageTransitionEvent      |\n",
    "| popstate          | The window's history changes                              | PopStateEvent            |\n",
    "| hashchange        | There have been changes to the anchor part of a URL       | HashChangeEvent          |\n",
    "| load              | An object has loaded                                     | UiEvent, Event           |\n",
    "| unload            | A page has unloaded                                       | UiEvent, Event           |\n",
    "| abort             | The loading of a media is aborted                        | UiEvent, Event           |\n",
    "| error             | An error has occurred while loading a file               | ProgressEvent, UiEvent, Event |\n",
    "| beforeunload      | Before a document is about to be unloaded                | UiEvent, Event           |\n",
    "| resize            | The document view is resized                              | UiEvent, Event           |\n",
    "| scroll            | A scrollbar is being scrolled                             | UiEvent, Event           |\n",
    "| offline           | The browser starts working offline                        | Event                    |\n",
    "| online            | The browser starts working online                         | Event                    |\n",
    "| open              | A connection with the event source is opened              | Event                    |\n",
    "| message           | A message is received through the event source            | Event                    |\n",
    "| close             | A connection with the event source is closed              | Event                    |\n",
    "| storage           | A Web Storage area is updated                              | StorageEvent             |\n",
    "| animationend      | A CSS animation has completed                            | AnimationEvent           |\n",
    "| animationiteration | A CSS animation is repeated                              | AnimationEvent           |\n",
    "| animationstart    | A CSS animation has started                              | AnimationEvent           |\n",
    "| transitionend     | A CSS transition has completed                             | TransitionEvent          |\n",
    "| loadstart         | The browser starts looking for the specified media        | ProgressEvent            |\n",
    "| progress          | The browser is downloading media data                      | Event                    |\n",
    "| loadeddata        | Media data is loaded                                     | Event                    |\n",
    "| loadedmetadata    | Meta data (like dimensions and duration) are loaded      | Event                    |\n",
    "| canplay           | The browser can start playing a media                    | Event                    |\n",
    "| canplaythrough    | The browser can play through a media without stopping    | Event                    |\n",
    "| play              | The media has started or is no longer paused              | Event                    |\n",
    "| playing           | The media is playing after being paused or buffered       | Event                    |\n",
    "| pause             | A media is paused                                        | Event                    |\n",
    "| ratechange        | The playing speed of a media is changed                   | Event                    |\n",
    "| seeked            | Skipping to a media position is finished                  | Event                    |\n",
    "| seeking           | Skipping to a media position is started                   | Event                    |\n",
    "| timeupdate        | The playing position has changed (the user moves to a different point in the media) | Event |\n",
    "| ended             | A media has reached the end (\"thanks for listening\")     | Event                    |\n",
    "| volumechange      | The volume of a media is changed (includes muting)         | Event                    |\n",
    "| durationchange    | The duration of a media is changed                       | Event                    |\n",
    "| stalled           | The browser is trying to get unavailable media data        | Event                    |\n",
    "| waiting           | A media is paused but is expected to resume (e.g. buffering) | Event                    |\n",
    "| suspend           | The browser is intentionally not getting media data        | Event                    |\n",
    "| emptied           | The media has become empty                                | Event                    |\n",
    "| fullscreenevent   | An element is displayed in fullscreen mode                | Event                    |\n",
    "| fullscreenerror   | An element cannot be displayed in fullscreen mode         | Event                    |\n",
    "| show              | A menu element is shown as a context menu                | Event                    |\n",
    "| invalid           | An element is invalid                                    | Event                    |\n",
    "| search            | Something is written in a search field                    | Event                    |\n",
    "| invalid           | An element is invalid                                    | Event                    |\n",
    "| toggle            | The user opens or closes the details element             | Event                    |\n",
    "| touchcancel       | The touch is interrupted                                  | TouchEvent               |\n",
    "| touchend          | A finger is removed from a touch screen                    | TouchEvent               |\n",
    "| touchmove         | A finger is dragged across the screen                      | TouchEvent               |\n",
    "| touchstart        | A finger is placed on a touch screen                       | TouchEvent               |\n",
    "| abort             | The loading of a media is aborted                        | UiEvent, Event           |\n",
    "| stalled           | The browser is trying to get unavailable media data        | Event                    |\n",
    "| suspend           | The browser is intentionally not getting media data        | Event                    |\n",
    "| emptied           | The media has become empty                                | Event                    |\n"
   ]
  },
  {
   "cell_type": "markdown",
   "metadata": {},
   "source": [
    "Simple Button"
   ]
  },
  {
   "cell_type": "code",
   "execution_count": null,
   "metadata": {
    "dotnet_interactive": {
     "language": "html"
    },
    "polyglot_notebook": {
     "kernelName": "html"
    }
   },
   "outputs": [],
   "source": [
    "<!DOCTYPE html>\n",
    "<html>\n",
    "<head>\n",
    "  <title>Click Event Example</title>\n",
    "</head>\n",
    "<body>\n",
    "  <button id=\"myButton\">Click me!</button>\n",
    "\n",
    "  <script>\n",
    "    const button = document.getElementById('myButton');\n",
    "\n",
    "    function handleButtonClick(event) {\n",
    "    if (button.innerText === 'Click me!') {\n",
    "      button.innerText = 'Click me again!';\n",
    "    } else {\n",
    "      button.innerText = 'Click me!';\n",
    "    }\n",
    "    }\n",
    "\n",
    "    // Add an event listener to the button for the \"click\" event\n",
    "    button.addEventListener('click', handleButtonClick);\n",
    "  </script>\n",
    "</body>\n",
    "</html>"
   ]
  },
  {
   "cell_type": "code",
   "execution_count": null,
   "metadata": {
    "dotnet_interactive": {
     "language": "html"
    },
    "polyglot_notebook": {
     "kernelName": "html"
    }
   },
   "outputs": [],
   "source": [
    "<!DOCTYPE html>\n",
    "<html lang=\"en\">\n",
    "    <head>\n",
    "        <meta charset=\"UTF-8\">\n",
    "        <meta name=\"viewport\" content=\"width=device-width, initial-scale=1.0\">\n",
    "        <title>Event Listeners Example</title>\n",
    "    </head>\n",
    "    <body>\n",
    "        <button id=\"myButton\">Click Me</button>\n",
    "        <input type=\"text\" id=\"textInput\" placeholder=\"Type something\">\n",
    "        <form id=\"myForm\">\n",
    "            <input type=\"text\" name=\"username\" placeholder=\"Username\">\n",
    "            <input type=\"password\" name=\"password\" placeholder=\"Password\">\n",
    "            <button type=\"submit\">Submit</button>\n",
    "        </form>\n",
    "        <div id=\"myElement\" style=\"width: 100px; height: 100px; background-color: lightblue; overflow=scroll\"\">Mouse Over Me</div>\n",
    "        <h1 id=\"msg\"> </h1>\n",
    "        <script>\n",
    "            const msg = document.getElementById(\"msg\");\n",
    "            const button = document.getElementById(\"myButton\");\n",
    "            button.addEventListener(\"click\", () => {\n",
    "                msg.innerHTML = \"Button clicked!\";\n",
    "            });\n",
    "\n",
    "            const input = document.getElementById(\"textInput\");\n",
    "            input.addEventListener(\"input\", (event) => {\n",
    "                msg.innerHTML = \"You typed: \" + event.target.value;\n",
    "            });\n",
    "\n",
    "            const form = document.getElementById(\"myForm\");\n",
    "            form.addEventListener(\"submit\", (event) => {\n",
    "                event.preventDefault();\n",
    "                msg.innerHTML = \"Form submitted!\";\n",
    "            });\n",
    "\n",
    "            const element = document.getElementById(\"myElement\");\n",
    "            element.addEventListener(\"mouseover\", () => {\n",
    "                msg.innerHTML = \"Mouse over element\";\n",
    "            });\n",
    "\n",
    "            element.addEventListener(\"mouseout\", () => {\n",
    "                msg.innerHTML = \"Mouse out of element\";\n",
    "            });\n",
    "\n",
    "            document.addEventListener(\"keydown\", (event) => {\n",
    "                msg.innerHTML = \"Key pressed: \" + event.key;\n",
    "            });\n",
    "\n",
    "        </script>\n",
    "    </body>\n",
    "</html>"
   ]
  },
  {
   "cell_type": "markdown",
   "metadata": {},
   "source": [
    "#### Closures"
   ]
  },
  {
   "cell_type": "code",
   "execution_count": null,
   "metadata": {
    "dotnet_interactive": {
     "language": "javascript"
    },
    "polyglot_notebook": {
     "kernelName": "javascript"
    }
   },
   "outputs": [],
   "source": [
    "let counter = 0;\n",
    "\n",
    "function updateClickCount() {\n",
    "    counter++;\n",
    "    // Do something with counter\n",
    "}"
   ]
  },
  {
   "cell_type": "markdown",
   "metadata": {},
   "source": [
    "Sadly anyone can modify the counter, consider:"
   ]
  },
  {
   "cell_type": "code",
   "execution_count": null,
   "metadata": {
    "dotnet_interactive": {
     "language": "html"
    },
    "polyglot_notebook": {
     "kernelName": "html"
    }
   },
   "outputs": [],
   "source": [
    "<!DOCTYPE html>\n",
    "<html>\n",
    "    <head>\n",
    "        <title>Button Click Counter</title>\n",
    "    </head>\n",
    "    <body>\n",
    "        <button onclick=\"updateClickCount()\">Click me</button>\n",
    "        <h1 id=\"msg\"> </h1>\n",
    "        <script>\n",
    "\n",
    "            const msg = document.getElementById(\"msg\");\n",
    "            const updateClickCount = (function(){\n",
    "                let counter = 0;\n",
    "                return function(){\n",
    "                    counter++;\n",
    "                    // Do something with counter\n",
    "                    msg.innerHTML = String(counter);\n",
    "                }\n",
    "            })();\n",
    "\n",
    "        </script>\n",
    "    </body>\n",
    "</html>\n"
   ]
  },
  {
   "cell_type": "markdown",
   "metadata": {},
   "source": [
    "Closure help us make make some initialized variables private to a function"
   ]
  },
  {
   "cell_type": "markdown",
   "metadata": {},
   "source": [
    "### Cookies"
   ]
  },
  {
   "cell_type": "markdown",
   "metadata": {},
   "source": [
    "They are just strings of name, value pairs that the client sends to the server so it remembers the client"
   ]
  },
  {
   "cell_type": "code",
   "execution_count": null,
   "metadata": {
    "dotnet_interactive": {
     "language": "html"
    },
    "polyglot_notebook": {
     "kernelName": "html"
    }
   },
   "outputs": [],
   "source": [
    "<!DOCTYPE html>\n",
    "<html>\n",
    "<head>\n",
    "    <title>Cookie Example</title>\n",
    "</head>\n",
    "<body>\n",
    "    <h1>Cookie Example</h1>\n",
    "    <button id=\"set-cookie\">Set Cookie</button>\n",
    "    <button id=\"get-cookie\">Get Cookie</button>\n",
    "    <p id=\"cookie-value\"></p>\n",
    "\n",
    "    <script>\n",
    "        // Function to set a cookie with a specified name, value, and expiration time\n",
    "        function setCookie(name, value, days) {\n",
    "            const expires = new Date();\n",
    "            expires.setTime(expires.getTime() + (days * 24 * 60 * 60 * 1000));\n",
    "            document.cookie = `${name}=${value}; expires=${expires.toUTCString()}; path=/`;\n",
    "        }\n",
    "\n",
    "        // Function to get the value of a cookie by its name\n",
    "        function getCookie(name) {\n",
    "            const cookieArray = document.cookie.split(';');\n",
    "            for (let i = 0; i < cookieArray.length; i++) {\n",
    "                const cookie = cookieArray[i].trim();\n",
    "                if (cookie.startsWith(name + '=')) {\n",
    "                    return cookie.substring(name.length + 1);\n",
    "                }\n",
    "            }\n",
    "            return null;\n",
    "        }\n",
    "\n",
    "        // Event listener for the \"Set Cookie\" button\n",
    "        document.getElementById('set-cookie').addEventListener('click', function() {\n",
    "            setCookie('username', 'john_doe', 7); // Set a cookie named \"username\" that expires in 7 days\n",
    "            alert('Cookie set! Refresh the page to see the changes.');\n",
    "        });\n",
    "\n",
    "        // Event listener for the \"Get Cookie\" button\n",
    "        document.getElementById('get-cookie').addEventListener('click', function() {\n",
    "            const username = getCookie('username');\n",
    "            if (username) {\n",
    "                document.getElementById('cookie-value').textContent = 'Username: ' + username;\n",
    "            } else {\n",
    "                document.getElementById('cookie-value').textContent = 'No username cookie found.';\n",
    "            }\n",
    "        });\n",
    "    </script>\n",
    "</body>\n",
    "</html>\n"
   ]
  },
  {
   "cell_type": "markdown",
   "metadata": {},
   "source": [
    "#### Local Storage"
   ]
  },
  {
   "cell_type": "markdown",
   "metadata": {},
   "source": [
    "Like cookies but not sent to the server upon request"
   ]
  },
  {
   "cell_type": "code",
   "execution_count": null,
   "metadata": {
    "dotnet_interactive": {
     "language": "javascript"
    },
    "polyglot_notebook": {
     "kernelName": "javascript"
    }
   },
   "outputs": [],
   "source": [
    "localStorage.setItem(\"name\", \"John Doe\");\n",
    "localStorage.getItem(\"name\");\n",
    "// sessionStorage.setItem(\"name\")    <-- cleared when the browser is closed"
   ]
  },
  {
   "cell_type": "markdown",
   "metadata": {},
   "source": [
    "### JQuery (R.I.P)"
   ]
  },
  {
   "cell_type": "code",
   "execution_count": null,
   "metadata": {
    "dotnet_interactive": {
     "language": "csharp"
    },
    "polyglot_notebook": {
     "kernelName": "csharp"
    }
   },
   "outputs": [],
   "source": [
    "// Getting element\n",
    "const element = document.getElementById('myElement');\n",
    "const $element = $('#myElement');\n",
    "\n",
    "// Event handling\n",
    "const button = document.getElementById('myButton');\n",
    "button.addEventListener('click', function() {\n",
    "\n",
    "});\n",
    "$('#myButton').on('click', function() {\n",
    "\n",
    "});\n",
    "\n",
    "// Animation\n",
    "const element = document.getElementById('animateMe');\n",
    "element.style.transition = 'width 1s';\n",
    "element.style.width = '300px';\n",
    "\n",
    "$('#animateMe').animate({ width: '300px' }, 1000);"
   ]
  },
  {
   "cell_type": "markdown",
   "metadata": {},
   "source": [
    "Mention Web Workers..."
   ]
  },
  {
   "cell_type": "markdown",
   "metadata": {},
   "source": [
    "<img src=\"https://www.simform.com/wp-content/uploads/2022/02/javascript-frontend-framework-banner.png\">"
   ]
  }
 ],
 "metadata": {
  "kernelspec": {
   "display_name": ".NET (C#)",
   "language": "C#",
   "name": ".net-csharp"
  },
  "language_info": {
   "name": "polyglot-notebook"
  },
  "polyglot_notebook": {
   "kernelInfo": {
    "defaultKernelName": "csharp",
    "items": [
     {
      "aliases": [],
      "name": "csharp"
     },
     {
      "aliases": [],
      "languageName": "javascript",
      "name": "javascript"
     }
    ]
   }
  }
 },
 "nbformat": 4,
 "nbformat_minor": 2
}
