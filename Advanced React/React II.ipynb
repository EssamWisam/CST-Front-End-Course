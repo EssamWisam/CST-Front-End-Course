{
 "cells": [
  {
   "cell_type": "markdown",
   "metadata": {},
   "source": [
    "# <font color=\"yellow\" size=\"30\">React</font> <font size=\"30\"> Tutorial II</font>"
   ]
  },
  {
   "cell_type": "markdown",
   "metadata": {},
   "source": [
    "## Some Useful <font color=\"LemonChiffon\"> NPM Packages </font>"
   ]
  },
  {
   "cell_type": "markdown",
   "metadata": {},
   "source": [
    "Check them all [here](https://www.npmjs.com/)"
   ]
  },
  {
   "cell_type": "markdown",
   "metadata": {},
   "source": [
    "#### <font color=\"aqua\"> Material UI </font>"
   ]
  },
  {
   "cell_type": "markdown",
   "metadata": {},
   "source": [
    "<img src=\"https://i.imgur.com/KPlBDyY.png\" width=600 />"
   ]
  },
  {
   "cell_type": "code",
   "execution_count": null,
   "metadata": {
    "dotnet_interactive": {
     "language": "javascript"
    },
    "polyglot_notebook": {
     "kernelName": "javascript"
    }
   },
   "outputs": [],
   "source": [
    "// npm install @mui/material @emotion/react @emotion/styled\n",
    "\n",
    "import React from 'react';\n",
    "import Button from '@mui/material/Button';\n",
    "\n",
    "const MyComp = () => {\n",
    "  return (\n",
    "    <div>\n",
    "      <h1>Material-UI Button Example</h1>\n",
    "      <Button variant=\"contained\" color=\"primary\">\n",
    "        Click Me\n",
    "      </Button>\n",
    "    </div>\n",
    "  );\n",
    "};\n",
    "\n",
    "export default MyComp;"
   ]
  },
  {
   "cell_type": "markdown",
   "metadata": {},
   "source": [
    "#### <font color=\"aqua\"> Styled Components </font>"
   ]
  },
  {
   "cell_type": "code",
   "execution_count": null,
   "metadata": {
    "dotnet_interactive": {
     "language": "javascript"
    },
    "polyglot_notebook": {
     "kernelName": "javascript"
    }
   },
   "outputs": [],
   "source": [
    "import React from 'react';\n",
    "import styled from 'styled-components';\n",
    "\n",
    "// styled.button is a basic button with no styles. We sent it styles in arguments using backticks\n",
    "const StyledButton = styled.button`\n",
    "  padding: 10px 20px;\n",
    "  background-color: ${props => props.primary ? 'blue' : 'white'};\n",
    "  color: ${props => props.primary ? 'white' : 'black'};\n",
    "  border: 2px solid blue;\n",
    "  border-radius: 5px;\n",
    "  cursor: pointer;\n",
    "  font-size: 16px;\n",
    "`;\n",
    "\n",
    "const StyledComponentsExample = () => {\n",
    "  return (\n",
    "    <div>\n",
    "      <StyledButton primary>I'm a styled button</StyledButton>\n",
    "    </div>\n",
    "  );\n",
    "};\n",
    "\n",
    "export default StyledComponentsExample;\n",
    "// https://styled-components.com/"
   ]
  },
  {
   "cell_type": "markdown",
   "metadata": {},
   "source": [
    "#### <font color=\"aqua\"> React Icons </font>"
   ]
  },
  {
   "cell_type": "code",
   "execution_count": null,
   "metadata": {
    "dotnet_interactive": {
     "language": "javascript"
    },
    "polyglot_notebook": {
     "kernelName": "javascript"
    }
   },
   "outputs": [],
   "source": [
    "import { IconName } from \"react-icons/rx\";                                  //rx is the icon family"
   ]
  },
  {
   "cell_type": "markdown",
   "metadata": {},
   "source": [
    "<img src=\"https://i.imgur.com/q9g6Iwq.png\">"
   ]
  },
  {
   "cell_type": "markdown",
   "metadata": {},
   "source": [
    "#### <font color=\"aqua\"> MediaQuery </font>"
   ]
  },
  {
   "cell_type": "code",
   "execution_count": null,
   "metadata": {
    "dotnet_interactive": {
     "language": "javascript"
    },
    "polyglot_notebook": {
     "kernelName": "javascript"
    }
   },
   "outputs": [],
   "source": [
    "import React from 'react';\n",
    "import MediaQuery from 'react-responsive';\n",
    "\n",
    "const App = () =>\n",
    "{\n",
    "    return (\n",
    "        <>\n",
    "        <MediaQuery minWidth={1070}>\n",
    "            <NavigationBar />\n",
    "        </MediaQuery>\n",
    "        <MediaQuery maxWidth={1070}>\n",
    "            <NavigationBarResp pageRef={wrapperRef} />\n",
    "        </MediaQuery>\n",
    "      </>\n",
    "    )\n",
    "}"
   ]
  },
  {
   "cell_type": "markdown",
   "metadata": {},
   "source": [
    "## Redux <font color=\"LemonChiffon\"> Toolkit </font>"
   ]
  },
  {
   "cell_type": "markdown",
   "metadata": {},
   "source": [
    "#### Problem Statement: How to make some state globally available in React?"
   ]
  },
  {
   "cell_type": "markdown",
   "metadata": {},
   "source": [
    "- npm install @reduxjs/toolkit\n",
    "\n",
    "- npm install react-redux"
   ]
  },
  {
   "cell_type": "markdown",
   "metadata": {},
   "source": [
    "Step 1. Make a `slices` folder with a `store.js` inside it and export the `store` from it which exposes the states to the rest of the app."
   ]
  },
  {
   "cell_type": "code",
   "execution_count": null,
   "metadata": {
    "dotnet_interactive": {
     "language": "javascript"
    },
    "polyglot_notebook": {
     "kernelName": "javascript"
    }
   },
   "outputs": [],
   "source": [
    "import { configureStore } from '@reduxjs/toolkit';\n",
    "\n",
    "const store = configureStore({\n",
    "  \n",
    "});\n",
    "\n",
    "export default store;"
   ]
  },
  {
   "cell_type": "markdown",
   "metadata": {},
   "source": [
    "Step 2. Wrap the App in a `Provider` component that takes the `store` as a prop"
   ]
  },
  {
   "cell_type": "code",
   "execution_count": null,
   "metadata": {
    "dotnet_interactive": {
     "language": "javascript"
    },
    "polyglot_notebook": {
     "kernelName": "javascript"
    }
   },
   "outputs": [],
   "source": [
    "// In index.js\n",
    "import { Provider } from 'react-redux';\n",
    "import store from './slices/store';\n",
    "\n",
    "ReactDOM.render(\n",
    "    <Provider store={store}>        \n",
    "        <React.StrictMode>\n",
    "            <App />\n",
    "        </React.StrictMode>\n",
    "    </Provider>,\n",
    "    document.getElementById('root')\n",
    "  );"
   ]
  },
  {
   "cell_type": "markdown",
   "metadata": {},
   "source": [
    "<p align='center'>_____________________   Done Only Once _____________________  </p>"
   ]
  },
  {
   "cell_type": "markdown",
   "metadata": {},
   "source": [
    "Step 3. Wrap related state in a `slice` by definiting its `name` and `initialState` and `reducers` in `createSlice` function"
   ]
  },
  {
   "cell_type": "code",
   "execution_count": null,
   "metadata": {
    "dotnet_interactive": {
     "language": "javascript"
    },
    "polyglot_notebook": {
     "kernelName": "javascript"
    }
   },
   "outputs": [],
   "source": [
    "import { createSlice } from '@reduxjs/toolkit';\n",
    "\n",
    "const themeCollection = createSlice({\n",
    "\n",
    "  name: 'themeCollection',                   // 1. Specify the name\n",
    "\n",
    "  initialState: {                           // 2. Define your state and initial values here\n",
    "\n",
    "    theme: 'magenta',\n",
    "    darkMode: false,\n",
    "\n",
    "  },\n",
    "\n",
    "  reducers: {                              // 3. Define functions that manipulate state\n",
    "\n",
    "    setTheme: (state, action) => {\n",
    "      state.theme = action.payload;\n",
    "    },\n",
    "\n",
    "    setDarkMode: (state, action) => {\n",
    "      state.darkMode = action.payload;\n",
    "    },\n",
    "\n",
    "  },\n",
    "\n",
    "});                                         // 4. Export each state and needed functions\n",
    "\n",
    "\n",
    "export const selectTheme = (state) => state.themeCollection.theme;\n",
    "export const selectDarkMode = (state) => state.themeCollection.darkMode;\n",
    "\n",
    "export const { setTheme } = themeCollection.actions;\n",
    "export const { setDarkMode } = themeCollection.actions;\n",
    "\n",
    "export default themeCollection.reducer;      // 5. Export the reducer to the store"
   ]
  },
  {
   "cell_type": "markdown",
   "metadata": {},
   "source": [
    "Step 4. Add the slice to the store"
   ]
  },
  {
   "cell_type": "code",
   "execution_count": null,
   "metadata": {
    "dotnet_interactive": {
     "language": "javascript"
    },
    "polyglot_notebook": {
     "kernelName": "javascript"
    }
   },
   "outputs": [],
   "source": [
    "import { configureStore } from '@reduxjs/toolkit';\n",
    "import themeReducer from './themeSlice';\n",
    "\n",
    "const store = configureStore({\n",
    "    reducer: {\n",
    "        themeCollection: themeReducer,\n",
    "    },\n",
    "});\n",
    "\n",
    "export default store;"
   ]
  },
  {
   "cell_type": "markdown",
   "metadata": {},
   "source": [
    "Step 5. Use the state in any component"
   ]
  },
  {
   "cell_type": "markdown",
   "metadata": {},
   "source": [
    "- Any action must be dispatched to call it (i.e., wrap with `dispatch()` from `useDispatch()`)\n",
    "- Should pass the function that returns state to `useSelector` to get the state itself"
   ]
  },
  {
   "cell_type": "code",
   "execution_count": null,
   "metadata": {
    "dotnet_interactive": {
     "language": "javascript"
    },
    "polyglot_notebook": {
     "kernelName": "javascript"
    }
   },
   "outputs": [],
   "source": [
    "import { useDispatch, useSelector } from 'react-redux';\n",
    "import { selectTheme, setTheme } from './slices/themeSlice';\n",
    "\n",
    "const app = () => {\n",
    "    const dispatch = useDispatch();\n",
    "\n",
    "    const theme = useSelector(selectTheme);\n",
    "    const SetTheme = (theme) => dispatch(setTheme(theme));\n",
    "\n",
    "    // const [theme, setTheme] = [useSelector(selectTheme), (theme) => dispatch(setTheme(theme))];\n",
    "}"
   ]
  },
  {
   "cell_type": "markdown",
   "metadata": {},
   "source": [
    "## Other <font color=\"LemonChiffon\">  Frameworks: </font>"
   ]
  },
  {
   "cell_type": "markdown",
   "metadata": {},
   "source": [
    "#### Counter with React"
   ]
  },
  {
   "cell_type": "code",
   "execution_count": null,
   "metadata": {
    "dotnet_interactive": {
     "language": "javascript"
    },
    "polyglot_notebook": {
     "kernelName": "javascript"
    }
   },
   "outputs": [],
   "source": [
    "import React, { useState } from 'react';\n",
    "\n",
    "const App = () => {\n",
    "\n",
    "  const [todos, setTodos] = useState([]);               // List of todos to be rendered\n",
    "  const [newTodo, setNewTodo] = useState('');           // New todo to be added (input field)\n",
    "\n",
    "  const addTodo = () => {\n",
    "    if (newTodo.trim() === '') return;\n",
    "    setTodos([...todos, newTodo]);\n",
    "    setNewTodo('');\n",
    "  };\n",
    "\n",
    "  const removeTodo = (index) => {\n",
    "    const updatedTodos = todos.filter((_, i) => i !== index);\n",
    "    setTodos(updatedTodos);\n",
    "  };\n",
    "\n",
    "  return (\n",
    "    <div>\n",
    "      <h1>React Todo List</h1>\n",
    "      <input\n",
    "        type=\"text\"\n",
    "        value={newTodo}\n",
    "        onChange={(e) => setNewTodo(e.target.value)}\n",
    "        placeholder=\"Enter a new todo\"\n",
    "      />\n",
    "      <button onClick={addTodo}>Add Todo</button>\n",
    "      <ul>\n",
    "        {todos.map((todo, index) => (\n",
    "          <li key={index}>\n",
    "            {todo}\n",
    "            <button onClick={() => removeTodo(index)}>Remove</button>\n",
    "          </li>\n",
    "        ))}\n",
    "      </ul>\n",
    "    </div>\n",
    "  );\n",
    "}\n",
    "\n",
    "export default App;\n",
    "// https://codedamn.com/online-compiler/reactjs"
   ]
  },
  {
   "cell_type": "markdown",
   "metadata": {},
   "source": [
    "#### Counter with Vue"
   ]
  },
  {
   "cell_type": "code",
   "execution_count": 1,
   "metadata": {
    "dotnet_interactive": {
     "language": "html"
    },
    "polyglot_notebook": {
     "kernelName": "html"
    }
   },
   "outputs": [
    {
     "data": {
      "text/html": [
       "<template>\n",
       "<div>\n",
       "  <h1>Vue Todo List</h1>\n",
       "  <input v-model=\"newTodo\" type=\"text\" placeholder=\"Enter a new todo\" />\n",
       "  <button @click=\"addTodo\">Add Todo</button>\n",
       "  <ul>\n",
       "    <li v-for=\"(todo, index) in todos\" :key=\"index\">\n",
       "        <!-- {{}} always a string -->\n",
       "      {{ todo }}                \n",
       "      <button @click=\"removeTodo(index)\">Remove</button>\n",
       "    </li>\n",
       "  </ul>\n",
       "</div>\n",
       "</template>\n",
       "\n",
       "<script>\n",
       "export default {\n",
       "data() {\n",
       "  return {\n",
       "    todos: [],\n",
       "    newTodo: '',\n",
       "  };\n",
       "},\n",
       "methods: {\n",
       "  addTodo() {\n",
       "    if (this.newTodo.trim() === '') return;\n",
       "    this.todos.push(this.newTodo);\n",
       "    this.newTodo = '';\n",
       "  },\n",
       "  removeTodo(index) {\n",
       "    this.todos.splice(index, 1);\n",
       "  },\n",
       "},\n",
       "};\n",
       "</script>\n"
      ]
     },
     "metadata": {},
     "output_type": "display_data"
    }
   ],
   "source": [
    "<template>\n",
    "<div>\n",
    "  <h1>Vue Todo List</h1>\n",
    "  <input v-model=\"newTodo\" type=\"text\" placeholder=\"Enter a new todo\" />\n",
    "  <button @click=\"addTodo\">Add Todo</button>\n",
    "  <ul>\n",
    "    <li v-for=\"(todo, index) in todos\" :key=\"index\">\n",
    "        <!-- {{}} always a string -->\n",
    "      {{ todo }}                \n",
    "      <button @click=\"removeTodo(index)\">Remove</button>\n",
    "    </li>\n",
    "  </ul>\n",
    "</div>\n",
    "</template>\n",
    "\n",
    "<script>\n",
    "export default {\n",
    "data() {\n",
    "  return {\n",
    "    todos: [],\n",
    "    newTodo: '',\n",
    "  };\n",
    "},\n",
    "methods: {\n",
    "  addTodo() {\n",
    "    if (this.newTodo.trim() === '') return;\n",
    "    this.todos.push(this.newTodo);\n",
    "    this.newTodo = '';\n",
    "  },\n",
    "  removeTodo(index) {\n",
    "    this.todos.splice(index, 1);\n",
    "  },\n",
    "},\n",
    "};\n",
    "</script>\n"
   ]
  },
  {
   "cell_type": "markdown",
   "metadata": {},
   "source": [
    "#### Counter with Svelte"
   ]
  },
  {
   "cell_type": "code",
   "execution_count": null,
   "metadata": {
    "dotnet_interactive": {
     "language": "html"
    },
    "polyglot_notebook": {
     "kernelName": "html"
    }
   },
   "outputs": [],
   "source": [
    "<script>\n",
    "let count = 0;\n",
    "\n",
    "const increment = () => {\n",
    "  count += 1;\n",
    "};\n",
    "</script>\n",
    "\n",
    "<div>\n",
    "<p>Count: {count}</p>\n",
    "<button on:click={increment}>Increment</button>\n",
    "</div>"
   ]
  },
  {
   "cell_type": "markdown",
   "metadata": {},
   "source": [
    "Recall,\n",
    "#### React injects your whole website in a single page\n",
    "\n",
    "- It assumes your whole website is in `App.js`\n",
    "\n",
    "- Uses `index.js` to inject it into `index.html`\n",
    "\n",
    "- This is not search engine friendly\n",
    "\n",
    "- Solution is to use server-side (Next.js) or static rendering (Gatsby)"
   ]
  }
 ],
 "metadata": {
  "kernelspec": {
   "display_name": ".NET (C#)",
   "language": "C#",
   "name": ".net-csharp"
  },
  "language_info": {
   "name": "polyglot-notebook"
  },
  "polyglot_notebook": {
   "kernelInfo": {
    "defaultKernelName": "csharp",
    "items": [
     {
      "aliases": [],
      "name": "csharp"
     },
     {
      "aliases": [],
      "languageName": "javascript",
      "name": "javascript"
     }
    ]
   }
  }
 },
 "nbformat": 4,
 "nbformat_minor": 2
}
