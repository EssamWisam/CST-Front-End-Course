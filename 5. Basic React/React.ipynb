{
 "cells": [
  {
   "cell_type": "markdown",
   "metadata": {},
   "source": [
    "# <font color=\"yellow\" size=\"30\">React.js</font> <font size=\"30\"> Tutorial</font>"
   ]
  },
  {
   "cell_type": "markdown",
   "metadata": {},
   "source": [
    "### <font color=\"white\"> Problems with the classical approach to web development (HTML, CSS, JS) </font>\n",
    "- Assumes websites are pages \n",
    "    - forces redundancy\n",
    "    - Limits scalability\n",
    "    - Hard to maintain and test\n",
    "<br><br>\n",
    "- Takes an imperative approach to managing the DOM\n",
    "    - Less Intuitive\n",
    "    - Makes data binding is hard"
   ]
  },
  {
   "cell_type": "markdown",
   "metadata": {},
   "source": [
    "### <font color=\"white\"> Realization I: A website is a Set of Components  </font>\n",
    "\n",
    "- Each can have its own state (data) and methods\n",
    "- Each can be used in any page\n",
    "- Nesting components is possible"
   ]
  },
  {
   "cell_type": "markdown",
   "metadata": {},
   "source": [
    "<img src=\"https://i.imgur.com/56xCHz2.png\"/>"
   ]
  },
  {
   "cell_type": "markdown",
   "metadata": {},
   "source": [
    "### <font color=\"white\"> Realization II: Declerative is better than Imperative  </font>\n"
   ]
  },
  {
   "cell_type": "markdown",
   "metadata": {},
   "source": [
    "##### • Imperative has to \"translate\" declarative"
   ]
  },
  {
   "cell_type": "code",
   "execution_count": null,
   "metadata": {
    "dotnet_interactive": {
     "language": "html"
    },
    "polyglot_notebook": {
     "kernelName": "html"
    }
   },
   "outputs": [],
   "source": [
    "<!DOCTYPE html>\n",
    "<html>\n",
    "<head>\n",
    "</head>\n",
    "<body>\n",
    "  <form id=\"registrationForm\">\n",
    "    <label for=\"username\">Username:</label>\n",
    "    <input type=\"text\" id=\"username\" /><br>\n",
    "    <label for=\"email\">Email:</label>\n",
    "    <input type=\"email\" id=\"email\" /><br>\n",
    "    <button id=\"registerBtn\">Register</button>\n",
    "  </form>\n",
    "  \n",
    "  <script>\n",
    "    const usernameInput = document.getElementById(\"username\");\n",
    "    const emailInput = document.getElementById(\"email\");\n",
    "    const registerBtn = document.getElementById(\"registerBtn\");\n",
    "\n",
    "    registerBtn.addEventListener(\"click\", (event) => {\n",
    "      event.preventDefault();\n",
    "      const username = usernameInput.value;\n",
    "      const email = emailInput.value;\n",
    "\n",
    "      // TODO: Send the data to the server\n",
    "    });\n",
    "  </script>\n",
    "</body>\n",
    "</html>\n"
   ]
  },
  {
   "cell_type": "markdown",
   "metadata": {},
   "source": [
    "##### • Data binding abilities are really hard"
   ]
  },
  {
   "cell_type": "code",
   "execution_count": 1,
   "metadata": {
    "dotnet_interactive": {
     "language": "html"
    },
    "polyglot_notebook": {
     "kernelName": "html"
    }
   },
   "outputs": [
    {
     "data": {
      "text/html": [
       "<!DOCTYPE html>\n",
       "<html>\n",
       "<head>\n",
       "  <title>Vanilla JavaScript Example</title>\n",
       "</head>\n",
       "<body>\n",
       "  <div id=\"app\">\n",
       "    <p  >Counter: <span id=\"counter\">counter</span></p>\n",
       "    <button id=\"incrementBtn\">Increment</button>\n",
       "  </div>\n",
       "\n",
       "  <script>\n",
       "    const counterElement = document.getElementById(\"counter\");\n",
       "    const incrementButton = document.getElementById(\"incrementBtn\");\n",
       "\n",
       "    let counter = 0;\n",
       "    counterElement.innerHTML = counter;\n",
       "\n",
       "    incrementButton.addEventListener(\"click\", () => {\n",
       "      counter++;\n",
       "      counterElement.innerHTML = counter;\n",
       "    });\n",
       "  </script>\n",
       "</body>\n",
       "</html>"
      ]
     },
     "metadata": {},
     "output_type": "display_data"
    }
   ],
   "source": [
    "<!DOCTYPE html>\n",
    "<html>\n",
    "<head>\n",
    "  <title>Vanilla JavaScript Example</title>\n",
    "</head>\n",
    "<body>\n",
    "  <div id=\"app\">\n",
    "    <p  >Counter: <span id=\"counter\">counter</span></p>\n",
    "    <button id=\"incrementBtn\">Increment</button>\n",
    "  </div>\n",
    "\n",
    "  <script>\n",
    "    const counterElement = document.getElementById(\"counter\");\n",
    "    const incrementButton = document.getElementById(\"incrementBtn\");\n",
    "\n",
    "    let counter = 0;\n",
    "    counterElement.innerHTML = counter;\n",
    "\n",
    "    incrementButton.addEventListener(\"click\", () => {\n",
    "      counter++;\n",
    "      counterElement.innerHTML = counter;\n",
    "    });\n",
    "  </script>\n",
    "</body>\n",
    "</html>"
   ]
  },
  {
   "cell_type": "markdown",
   "metadata": {},
   "source": [
    "#### <font color=\"white\"> Implementing the Realizations is not Trivial  </font>\n",
    "\n",
    "1. How are pages handled?\n",
    "- <font color=\"white\">They are just components that can be \"routed\" to</font>\n",
    "\n",
    "\n",
    "2. Suppose data for a component changes, then the component needs to be re-rendered. What if it is a child of another component?\n",
    "\n",
    "- <font color=\"white\">Solution is to empoy a virtual DOM</font>\n"
   ]
  },
  {
   "cell_type": "markdown",
   "metadata": {},
   "source": [
    "<div align=\"center\">\n",
    "<img src=\"https://www.altogic.com/blog/img/blog/2023-01-22/virtual-dom.png\"/>\n",
    "</div>"
   ]
  },
  {
   "cell_type": "markdown",
   "metadata": {},
   "source": [
    "3. What if a component needs to pass part of its state to another component?\n",
    "\n",
    "- <font color=white> Solution is to make it possible to pass data from a parent component to a child component. </font>\n",
    "\n",
    "4. What if some state is shared among many components?\n",
    "- <font color=white> State management tools or other strategies </font>"
   ]
  },
  {
   "cell_type": "markdown",
   "metadata": {},
   "source": [
    "<img src=\"https://www.simform.com/wp-content/uploads/2022/02/javascript-frontend-framework-banner.png\">"
   ]
  },
  {
   "cell_type": "markdown",
   "metadata": {},
   "source": [
    "#### <font>Note: frameworks go beyond libraries in that they define structure; they are more than just functions </font>"
   ]
  },
  {
   "cell_type": "markdown",
   "metadata": {},
   "source": [
    "### <font color=\"white\">Why React.js?  </font>\n"
   ]
  },
  {
   "cell_type": "markdown",
   "metadata": {},
   "source": [
    "<img src=\"https://i.imgur.com/wHdVVIV.png\">"
   ]
  },
  {
   "cell_type": "markdown",
   "metadata": {},
   "source": [
    "##### Most needed in the industry right now but also most available\n",
    "##### Afterall, frontend frameworks share concepts but differ in syntax\n",
    "##### React is mainly different from other frameworks in that <font color=\"aqua\"> it takes the \"declarative\" approach too seriously </font>. It also has most of the support from the community"
   ]
  },
  {
   "cell_type": "markdown",
   "metadata": {},
   "source": [
    "## <font color=\"LemonChiffon\"> React Basics </font>"
   ]
  },
  {
   "cell_type": "markdown",
   "metadata": {},
   "source": [
    "##### Simply replaces HTML and JavaScript with JSX"
   ]
  },
  {
   "cell_type": "markdown",
   "metadata": {},
   "source": [
    "<div align=\"center\">\n",
    "<img src=\"https://i.imgflip.com/2kuh6f.jpg\">\n",
    "</div>"
   ]
  },
  {
   "cell_type": "markdown",
   "metadata": {},
   "source": [
    "### <font color=\"white\"> JavaScript XML </font>"
   ]
  },
  {
   "cell_type": "markdown",
   "metadata": {},
   "source": [
    "1. Can be `assigned` to variables"
   ]
  },
  {
   "cell_type": "code",
   "execution_count": null,
   "metadata": {
    "dotnet_interactive": {
     "language": "javascript"
    },
    "polyglot_notebook": {
     "kernelName": "javascript"
    }
   },
   "outputs": [],
   "source": [
    "const myElement = <input type=\"text\" />;        // transpiles to a JavaScript object"
   ]
  },
  {
   "cell_type": "markdown",
   "metadata": {},
   "source": [
    "You will most likely not do this and rather return them from function as we will see later."
   ]
  },
  {
   "cell_type": "markdown",
   "metadata": {},
   "source": [
    "- Use `parenthesis` if multiline"
   ]
  },
  {
   "cell_type": "code",
   "execution_count": null,
   "metadata": {
    "dotnet_interactive": {
     "language": "javascript"
    },
    "polyglot_notebook": {
     "kernelName": "javascript"
    }
   },
   "outputs": [],
   "source": [
    "const myElement = (\n",
    "    <ul>\n",
    "      <li>Apples</li>\n",
    "      <li>Bananas</li>\n",
    "      <li>Cherries</li>\n",
    "      {/* Supports poor syntax for comments */}\n",
    "    </ul>\n",
    "  );"
   ]
  },
  {
   "cell_type": "markdown",
   "metadata": {},
   "source": [
    "2. Must have a `top-level element`"
   ]
  },
  {
   "cell_type": "code",
   "execution_count": null,
   "metadata": {
    "dotnet_interactive": {
     "language": "csharp"
    },
    "polyglot_notebook": {
     "kernelName": "csharp"
    }
   },
   "outputs": [],
   "source": [
    "const myElement = (\n",
    "    <>\n",
    "      <p>I am a paragraph.</p>\n",
    "      <p>I am a paragraph too.</p>\n",
    "    </>\n",
    "  );"
   ]
  },
  {
   "cell_type": "markdown",
   "metadata": {},
   "source": [
    "3. Must be `closed` if needed"
   ]
  },
  {
   "cell_type": "code",
   "execution_count": null,
   "metadata": {
    "dotnet_interactive": {
     "language": "csharp"
    },
    "polyglot_notebook": {
     "kernelName": "csharp"
    }
   },
   "outputs": [],
   "source": [
    "const myElement = <input type=\"text\" />;"
   ]
  },
  {
   "cell_type": "markdown",
   "metadata": {},
   "source": [
    "4. JavaScript expressions in `content` or `attribute values` can be evaluated if surrounded by {}"
   ]
  },
  {
   "cell_type": "code",
   "execution_count": null,
   "metadata": {
    "dotnet_interactive": {
     "language": "javascript"
    },
    "polyglot_notebook": {
     "kernelName": "javascript"
    }
   },
   "outputs": [],
   "source": [
    "const add = (a, b) => a + b;\n",
    "const z = 5;\n",
    "const y = 2;\n",
    "const m = \"center\";\n",
    "const myElement = <h1>React is {add(y + 2, z * 3) - y} times better with JSX</h1>;"
   ]
  },
  {
   "cell_type": "markdown",
   "metadata": {},
   "source": [
    "Notice that hyphenated attributes should be given in camelCase"
   ]
  },
  {
   "cell_type": "code",
   "execution_count": null,
   "metadata": {
    "dotnet_interactive": {
     "language": "javascript"
    },
    "polyglot_notebook": {
     "kernelName": "javascript"
    }
   },
   "outputs": [],
   "source": [
    "const handleClick = () => alert('Button clicked!');\n",
    "const element = <button onClick={handleClick}>Click me</button>;    \n",
    "// any event takes a function object in {} and calls it when the event occurs"
   ]
  },
  {
   "cell_type": "markdown",
   "metadata": {},
   "source": [
    "5. Use `className` instead of `class` "
   ]
  },
  {
   "cell_type": "code",
   "execution_count": null,
   "metadata": {
    "dotnet_interactive": {
     "language": "javascript"
    },
    "polyglot_notebook": {
     "kernelName": "javascript"
    }
   },
   "outputs": [],
   "source": [
    "const myElement = <h1 className=\"myclass\">Hello World</h1>;"
   ]
  },
  {
   "cell_type": "markdown",
   "metadata": {},
   "source": [
    "6. Style value must now be a `JavaScript object` with camelCased properties"
   ]
  },
  {
   "cell_type": "code",
   "execution_count": null,
   "metadata": {
    "dotnet_interactive": {
     "language": "javascript"
    },
    "polyglot_notebook": {
     "kernelName": "javascript"
    }
   },
   "outputs": [],
   "source": [
    "const element = <p style=\"color: blue; font-size: 16px \">Styled text.</p>;\n",
    "\n",
    "const style_data = {\n",
    "    color: 'blue',\n",
    "    fontSize: '16px'\n",
    "};\n",
    "\n",
    "const element = <p style={style_data}>Styled text.</p>;\n",
    "\n",
    "const element = <p style={{color: 'blue', fontSize: '16px'}}>Styled text.</p>;"
   ]
  },
  {
   "cell_type": "markdown",
   "metadata": {},
   "source": [
    "8. Links should be used rather than anchors"
   ]
  },
  {
   "cell_type": "code",
   "execution_count": null,
   "metadata": {
    "dotnet_interactive": {
     "language": "javascript"
    },
    "polyglot_notebook": {
     "kernelName": "javascript"
    }
   },
   "outputs": [],
   "source": [
    "import React from 'react';\n",
    "import { Link } from 'react-router-dom';\n",
    "\n",
    "const MyComponent = () => (\n",
    "  <div>\n",
    "    <Link to=\"/page\">Go to Page</Link>\n",
    "  </div>\n",
    ");\n",
    "\n",
    "// Links do not trigger a page refresh\n",
    "export default MyComponent;"
   ]
  },
  {
   "cell_type": "markdown",
   "metadata": {},
   "source": [
    "7. It takes effort to cross-script it"
   ]
  },
  {
   "cell_type": "code",
   "execution_count": null,
   "metadata": {
    "dotnet_interactive": {
     "language": "javascript"
    },
    "polyglot_notebook": {
     "kernelName": "javascript"
    }
   },
   "outputs": [],
   "source": [
    "const someHTMLString = \"<h1>Hello</h1>\";            // string of HTML\n",
    "const someJSXString = <h1>Hello</h1>;              // JSX      \n",
    "\n",
    "const elem = <div>{someHTMLString}</div>;\n",
    "const elem2 = <div>{someJSXString}</div>;          // <div><h1>Hello</h1></div>\n",
    "\n",
    "// Never treat a string as code (unlike JavaScript)\n",
    "\n",
    "const element = <div dangerouslySetInnerHTML={{ __html:  someHTMLString }} />;"
   ]
  },
  {
   "cell_type": "markdown",
   "metadata": {},
   "source": [
    "#### Some Common JSX Patterns"
   ]
  },
  {
   "cell_type": "markdown",
   "metadata": {},
   "source": [
    "- Sadly `constrained` by being only able to `evaluating expressions`"
   ]
  },
  {
   "cell_type": "code",
   "execution_count": null,
   "metadata": {
    "dotnet_interactive": {
     "language": "javascript"
    },
    "polyglot_notebook": {
     "kernelName": "javascript"
    }
   },
   "outputs": [],
   "source": [
    "// 1. If conditions \n",
    "const isLoggedIn = true;\n",
    "const isGettingStarted = true;\n",
    "const isTall = false;\n",
    "\n",
    "const element1 = <div>{(isLoggedIn && isGettingStarted) && <p>Welcome back!</p>}</div>;\n",
    "\n",
    "// 2. If condition with else\n",
    "const isLoggedIn = true;\n",
    "const element = <div>{isLoggedIn ? <p>Welcome back!</p> : <p>Please log in.</p>}</div>;\n",
    "\n",
    "// 3. Another use-case\n",
    "// Any attribute that takes a string can take js in {} that is casted to a string\n",
    "const isImportant = true;\n",
    "const element = <div className={isImportant ? 'important' : 'not-important'}>Content </div>;\n",
    "\n",
    "// 4. Setting attributes (not trivial)\n",
    "const commonAttrs = { className: 'common', id: 'element-id' };\n",
    "const element = <div {...commonAttrs}>Content</div>;\n",
    "\n",
    "// Equivalent to\n",
    "const element = <div className=\"common\" id=\"element-id\">Content</div>;\n",
    "\n",
    "// 5. Looping\n",
    "const items = ['Apple', 'Banana', 'Orange'];\n",
    "const element = <ul>\n",
    "\n",
    "{ items.map(item => <li key={item}> {item}</li>) }\n",
    "\n",
    "</ul>;\n",
    "\n",
    "\n",
    "// Equivalent to\n",
    "const element = (\n",
    "  <ul>\n",
    "    <li key=\"Apple\">Apple</li>\n",
    "    <li key=\"Banana\">Banana</li>\n",
    "    <li key=\"Orange\">Orange</li>\n",
    "  </ul>\n",
    ");"
   ]
  },
  {
   "cell_type": "markdown",
   "metadata": {},
   "source": [
    "8. Can be treated as a JSX component if returned from a function\n",
    "- JSX component is like a custom HTML element"
   ]
  },
  {
   "cell_type": "code",
   "execution_count": null,
   "metadata": {
    "dotnet_interactive": {
     "language": "javascript"
    },
    "polyglot_notebook": {
     "kernelName": "javascript"
    }
   },
   "outputs": [],
   "source": [
    "const NavBar = () => <div>This is my navigation bar</div>;\n",
    "const Footer = () => <div>This is my footer</div>;\n",
    "\n",
    "const Cont = ({a, b}) => (\n",
    "  <div>\n",
    "    <h1>Cont Component {a} as {b}</h1>\n",
    "    <NavBar/>\n",
    "    <Footer/>\n",
    "  </div>\n",
    ");\n",
    "\n",
    "\n",
    "const App = () => (\n",
    "  <div>\n",
    "    <h1>App Component</h1>\n",
    "    <Cont a=\"3\" b=\"2\"/>\n",
    "  </div>\n",
    ");"
   ]
  },
  {
   "cell_type": "markdown",
   "metadata": {},
   "source": [
    "9. Components can be rendered"
   ]
  },
  {
   "cell_type": "code",
   "execution_count": null,
   "metadata": {
    "dotnet_interactive": {
     "language": "javascript"
    },
    "polyglot_notebook": {
     "kernelName": "javascript"
    }
   },
   "outputs": [],
   "source": [
    "ReactDOM.render(<App/>, document.getElementById('root'));       // You only do this once\n",
    "\n",
    "// Expects you have index.html and that it has a div with id 'root'"
   ]
  },
  {
   "cell_type": "markdown",
   "metadata": {},
   "source": [
    "10. Attributes to components are collected in an object"
   ]
  },
  {
   "cell_type": "code",
   "execution_count": null,
   "metadata": {
    "dotnet_interactive": {
     "language": "javascript"
    },
    "polyglot_notebook": {
     "kernelName": "javascript"
    }
   },
   "outputs": [],
   "source": [
    "const Greeting = (props) => <p>Hello, {props.name} you are {props.age} old!</p>;\n",
    "\n",
    "const Greeting = ({ name, age }) => <p>Hello, {name} you are {age} old!</p>;\n",
    "\n",
    "const App = () => (\n",
    "    const [a, setA] = useState(0);\n",
    "    <div>\n",
    "    <Greeting name={a} age=\"10\" />\n",
    "    </div>\n",
    "    )"
   ]
  },
  {
   "cell_type": "markdown",
   "metadata": {},
   "source": [
    "#### General Structure of a Component in React"
   ]
  },
  {
   "cell_type": "code",
   "execution_count": null,
   "metadata": {
    "dotnet_interactive": {
     "language": "javascript"
    },
    "polyglot_notebook": {
     "kernelName": "javascript"
    }
   },
   "outputs": [],
   "source": [
    "import React from 'react';\n",
    "\n",
    "// Components should start with a capital letter\n",
    "const Greetings = () => {\n",
    "\n",
    "  const name = 'John Doe';\n",
    "  const age = 25;\n",
    "\n",
    "  // JavaScript for state (data) and functions that belong to the component\n",
    "  const onClickHandler = () => {\n",
    "    console.log('Hello, React!');\n",
    "  };\n",
    "\n",
    "\n",
    "  return (\n",
    "\n",
    "    {/* JSX for describing the UI and interacting with the state/functions */}\n",
    "    <div onClick={onClickHandler}>\n",
    "      <h1>Hello, React!</h1>\n",
    "      <p>This is {name}, and they are {age} years old.</p>\n",
    "    </div>\n",
    "\n",
    "  );\n",
    "\n",
    "};\n",
    "\n",
    "export default Greetings;\n",
    "\n",
    "\n",
    "\n",
    "// ---- New File ----\n",
    "import Greetings from './Greetings';\n",
    "\n",
    "const BigElement = () =>{\n",
    "\n",
    "  const x = 3;\n",
    "\n",
    "  return (\n",
    "    <div>\n",
    "    <h1> Hello, React!  </h1>\n",
    "      <Greetings />\n",
    "    </div>\n",
    "  )\n",
    "\n",
    "}\n",
    "// \"Class components are still supported by React, but we don't recommend using them in new code.\" -React"
   ]
  },
  {
   "cell_type": "markdown",
   "metadata": {},
   "source": [
    "#### Should make sense that"
   ]
  },
  {
   "cell_type": "markdown",
   "metadata": {},
   "source": [
    "- Each `page` in a React app is a `component` (state + methods + JSX UI)\n",
    "\n",
    "- Such component uses other `smaller components` (some can be shared)\n",
    "\n",
    "- Typically also has its own `CSS` file and `test` file\n"
   ]
  },
  {
   "cell_type": "markdown",
   "metadata": {},
   "source": [
    "#### React injects your whole website in a single page\n",
    "\n",
    "- It assumes your whole website is in `App.js`\n",
    "\n",
    "- Uses `index.js` to inject it into `index.html`"
   ]
  },
  {
   "cell_type": "markdown",
   "metadata": {},
   "source": [
    "#### How does App.js correspond to the whole website\n",
    "\n",
    "- Simple, you write it to route to all pages in the website"
   ]
  },
  {
   "cell_type": "code",
   "execution_count": null,
   "metadata": {
    "dotnet_interactive": {
     "language": "javascript"
    },
    "polyglot_notebook": {
     "kernelName": "javascript"
    }
   },
   "outputs": [],
   "source": [
    "import { BrowserRouter as Router, Route, Switch } from 'react-router-dom';\n",
    "\n",
    "import Navbar from './components/Navbar/Navbar';\n",
    "import Home from './pages/Home/Home';\n",
    "import Create from './pages/Create/Create';\n",
    "import BlogDetails from './pages/BlogDetails/BlogDetails';\n",
    "\n",
    "\n",
    "\n",
    "const App = () => {\n",
    "  return (\n",
    "    <Router>\n",
    "\n",
    "      <Navbar />\n",
    "      <Switch>\n",
    "\n",
    "        <Route exact path=\"/\">     <Home />           </Route>    // tumblr.com\n",
    "        <Route path=\"/create\">     <Create />         </Route>    // tumblr.com/create\n",
    "        <Route path=\"/blogs/:id\">  <BlogDetails />    </Route>    // tumblr.com/blogs/123\n",
    "\n",
    "      </Switch>\n",
    "\n",
    "    </Router>\n",
    "  );\n",
    "}\n",
    "\n",
    "export default App;\n",
    "\n",
    "ReactDOM.render(<App/>, document.getElementById('root'));       // index.html convert app.js to HTML\n",
    "                                                                // index.js gets app from App.js then runs this line"
   ]
  },
  {
   "cell_type": "markdown",
   "metadata": {},
   "source": [
    "## Create <font color=\"LemonChiffon\"> React App </font>"
   ]
  },
  {
   "cell_type": "markdown",
   "metadata": {},
   "source": [
    "1. Download Node.js (comes with node package manager) from [here](https://nodejs.org/en/download)\n",
    "\n",
    "    - Node.js helps run JavaScript outside of a browser (backend framework)\n",
    "    - Node package manager (npm) helps install packages for JavaScript (e.g., for React)\n",
    "    - Must be able to run `node -v` and `npm -v` in terminal after installation\n",
    "<br><br>\n",
    "2. Run `npx create-react-app name-of-app`\n",
    "\n",
    "3. Run `cd my-react-app` and open the folder in VS Code\n",
    "\n",
    "4. Run `npm start` to start the server\n",
    "\n",
    "5. Open `localhost:3000` in browser to see the React app\n",
    "\n",
    "\n",
    "In case you want to use a mock JSON server:\n",
    "\n",
    "6. npx json-server --watch db.json --port 8000\n"
   ]
  },
  {
   "cell_type": "markdown",
   "metadata": {},
   "source": [
    "Yields the following folder structure"
   ]
  },
  {
   "cell_type": "code",
   "execution_count": null,
   "metadata": {
    "dotnet_interactive": {
     "language": "csharp"
    },
    "polyglot_notebook": {
     "kernelName": "csharp"
    }
   },
   "outputs": [],
   "source": [
    "my-react-app/\n",
    "├── node_modules/           // Packages you install go here\n",
    "├── public/\n",
    "│   ├── index.html          // Your entire website is built on this HTML file\n",
    "│   ├── manifest.json       // Metadata about the website\n",
    "│   ├── favicon.ico         // Any static assets (e.g., images) used in the website go here and referenced as ./\n",
    "│   └── ...\n",
    "├── src/\n",
    "│   ├── index.js            // Injects the React app into the HTML file\n",
    "│   ├── index.css           // CSS for the HTML file (hence, seen globally)\n",
    "│   ├── App.js              // The React component injected (root)\n",
    "│   ├── App.css             // CSS for the app React component\n",
    "│   ├── setupTests.js       // Configures the testing framework (jest)\n",
    "│   │── App.test.js         // Tests for the React component\n",
    "│   ├── logo.svg            // React logo\n",
    "│   └── reportWebVitals.js  // Helps report user performance metrics\n",
    "├── package.json            // Lists dependencies and other project properties\n",
    "├── package-lock.json       // Lists package versions exactly for reproducibility\n",
    "├── README.md               // Describes how to run/use this project\n",
    "└── ..."
   ]
  },
  {
   "cell_type": "markdown",
   "metadata": {},
   "source": [
    "You make it into the following"
   ]
  },
  {
   "cell_type": "code",
   "execution_count": null,
   "metadata": {
    "dotnet_interactive": {
     "language": "csharp"
    },
    "polyglot_notebook": {
     "kernelName": "csharp"
    }
   },
   "outputs": [],
   "source": [
    "my-react-app/\n",
    "├── node_modules/           // Packages you install go here\n",
    "├── public/\n",
    "│   ├── index.html          // Your entire website is built on this HTML file\n",
    "│   ├── manifest.json       // Metadata about the website\n",
    "│   ├── favicon.ico         // Any static assets (e.g., images) used in the website go here and referenced as ./\n",
    "│   └── ...\n",
    "├── src/\n",
    "│   ├── index.js            // Injects the React app into the HTML file\n",
    "│   ├── index.css           // CSS for the HTML file (hence, seen globally)\n",
    "│   └── App.js              // The React component injected (root)\n",
    "├── package.json            // Lists dependencies and other project properties\n",
    "├── package-lock.json       // Lists package versions exactly for reproducibility\n",
    "├── README.md               // Describes how to run/use this project\n",
    "└── ..."
   ]
  },
  {
   "cell_type": "markdown",
   "metadata": {},
   "source": [
    "Typically makes a pages, components and hooks folder in src. "
   ]
  },
  {
   "cell_type": "code",
   "execution_count": null,
   "metadata": {
    "dotnet_interactive": {
     "language": "csharp"
    },
    "polyglot_notebook": {
     "kernelName": "csharp"
    }
   },
   "outputs": [],
   "source": [
    "my-react-app/\n",
    "├── node_modules/           \n",
    "├── public/\n",
    "│   ├── index.html          \n",
    "│   ├── manifest.json       \n",
    "│   ├── favicon.ico         \n",
    "│   └── ...\n",
    "├── src/\n",
    "|   |── pages/              // Pages in the website\n",
    "|   ├── components/         // Components shared between pages\n",
    "│   ├── hooks/              // Custom hooks if any\n",
    "|   ├── slices/             // Redux slices (centerlized state)\n",
    "│   ├── index.js            \n",
    "│   ├── index.css           // Global styles can go here\n",
    "│   └── App.js              // Entry point to the website (router)\n",
    "├── package.json            \n",
    "├── package-lock.json       \n",
    "├── README.md               \n",
    "└── ..."
   ]
  },
  {
   "cell_type": "markdown",
   "metadata": {},
   "source": [
    "### Consider the Website"
   ]
  },
  {
   "cell_type": "markdown",
   "metadata": {},
   "source": [
    "<img src=\"https://i.imgur.com/mrGTn4v.png\" width=\"33%\">\n",
    "<img src=\"https://i.imgur.com/PNpTuSe.png\" width=\"33%\">\n",
    "<img src=\"https://i.imgur.com/joYUI5r.png\" width=\"33%\">"
   ]
  },
  {
   "cell_type": "markdown",
   "metadata": {},
   "source": [
    "### <font color=\"white\"> How many components do we have? </font>"
   ]
  },
  {
   "cell_type": "code",
   "execution_count": null,
   "metadata": {
    "dotnet_interactive": {
     "language": "csharp"
    },
    "polyglot_notebook": {
     "kernelName": "csharp"
    }
   },
   "outputs": [],
   "source": [
    "my-react-app/\n",
    "├── node_modules/           \n",
    "├── public/\n",
    "│   ├── index.html          \n",
    "│   ├── manifest.json       \n",
    "│   ├── favicon.ico         \n",
    "│   └── ...\n",
    "├── src/\n",
    "|   |── pages/\n",
    "│   |   ├── Home/               // Home page\n",
    "|   |   |  |── sub/             // Home page subcomponents\n",
    "│   |   |── BlogDetails/        // Blog details page\n",
    "│   |   └── Create/             // Blog list page\n",
    "|   ├── components/         \n",
    "│   |   └──  Navbar/            // Navbar component\n",
    "│   ├── index.js            \n",
    "│   ├── index.css               \n",
    "│   └── App.js                  // Routing goes here\n",
    "├── package.json            \n",
    "├── package-lock.json       \n",
    "├── README.md               \n",
    "└── ..."
   ]
  },
  {
   "cell_type": "markdown",
   "metadata": {},
   "source": [
    "### Navigation Bar Component"
   ]
  },
  {
   "cell_type": "code",
   "execution_count": null,
   "metadata": {
    "dotnet_interactive": {
     "language": "javascript"
    },
    "polyglot_notebook": {
     "kernelName": "javascript"
    }
   },
   "outputs": [],
   "source": [
    "import { Link } from \"react-router-dom\";\n",
    "import './css/main/Navbar.css';\n",
    "\n",
    "const Navbar = () => {\n",
    "  return (\n",
    "    <nav className=\"navbar\">\n",
    "      <Link to=\"/\" style={{textDecoration: 'None'}}><h1>CMP26 Blog</h1></Link>\n",
    "      <div className=\"links\">\n",
    "        <Link to=\"/\">Home</Link>\n",
    "        <Link to=\"/create\">New Blog</Link>\n",
    "      </div>\n",
    "    </nav>\n",
    "  );\n",
    "}\n",
    " \n",
    "export default Navbar;"
   ]
  },
  {
   "cell_type": "markdown",
   "metadata": {},
   "source": [
    "<img src=\"https://i.imgur.com/mrGTn4v.png\" width=\"33%\">\n",
    "<img src=\"https://i.imgur.com/PNpTuSe.png\" width=\"33%\">\n",
    "<img src=\"https://i.imgur.com/joYUI5r.png\" width=\"33%\">"
   ]
  },
  {
   "cell_type": "markdown",
   "metadata": {},
   "source": [
    "### Home Component for the Home Page"
   ]
  },
  {
   "cell_type": "code",
   "execution_count": null,
   "metadata": {
    "dotnet_interactive": {
     "language": "javascript"
    },
    "polyglot_notebook": {
     "kernelName": "javascript"
    }
   },
   "outputs": [],
   "source": [
    "import BlogList from \"./sub/BlogList\";\n",
    "\n",
    "const Home = () => {\n",
    "\n",
    "  const blogs = [\n",
    "      {\n",
    "        \"title\": \"My First Blog\",\n",
    "        \"body\": \"Why do we use it?\\nIt is a long established fact that a reader will be distracted by the readable content of a page when looking at its layout. The point of using Lorem Ipsum is that it has a more-or-less normal distribution of letters, as opposed to using 'Content here, content here', making it look like readable English. Many desktop publishing packages and web page editors now use Lorem Ipsum as their default model text, and a search for 'lorem ipsum' will uncover many web sites still in their infancy. Various versions have evolved over the years, sometimes by accident, sometimes on purpose (injected humour and the like).\\n\\n\\nWhere does it come from?\\nContrary to popular belief, Lorem Ipsum is not simply random text. It has roots in a piece of classical Latin literature from 45 BC, making it over 2000 years old. Richard McClintock, a Latin professor at Hampden-Sydney College in Virginia, looked up one of the more obscure Latin words, consectetur, from a Lorem Ipsum passage, and going through the cites of the word in classical literature, discovered the undoubtable source. Lorem Ipsum comes from sections 1.10.32 and 1.10.33 of \\\"de Finibus Bonorum et Malorum\\\" (The Extremes of Good and Evil) by Cicero, written in 45 BC. This book is a treatise on the theory of ethics, very popular during the Renaissance. The first line of Lorem Ipsum, \\\"Lorem ipsum dolor sit amet..\\\", comes from a line in section 1.10.32.\\n\\nThe standard chunk of Lorem Ipsum used since the 1500s is reproduced below for those interested. Sections 1.10.32 and 1.10.33 from \\\"de Finibus Bonorum et Malorum\\\" by Cicero are also reproduced in their exact original form, accompanied by English versions from the 1914 translation by H. Rackham.\\n\\nWhere can I get some?\\nThere are many variations of passages of Lorem Ipsum available, but the majority have suffered alteration in some form, by injected humour, or randomised words which don't look even slightly believable. If you are going to use a passage of Lorem Ipsum, you need to be sure there isn't anything embarrassing hidden in the middle of text. All the Lorem Ipsum generators on the Internet tend to repeat predefined chunks as necessary, making this the first true generator on the Internet. It uses a dictionary of over 200 Latin words, combined with a handful of model sentence structures, to generate Lorem Ipsum which looks reasonable. The generated Lorem Ipsum is therefore always free from repetition, injected humour, or non-characteristic words etc.\",\n",
    "        \"author\": \"Malzahar\",\n",
    "        \"id\": 1\n",
    "      },\n",
    "      {\n",
    "        \"title\": \"Opening Party!\",\n",
    "        \"body\": \"Why do we use it?\\nIt is a long established fact that a reader will be distracted by the readable content of a page when looking at its layout. The point of using Lorem Ipsum is that it has a more-or-less normal distribution of letters, as opposed to using 'Content here, content here', making it look like readable English. Many desktop publishing packages and web page editors now use Lorem Ipsum as their default model text, and a search for 'lorem ipsum' will uncover many web sites still in their infancy. Various versions have evolved over the years, sometimes by accident, sometimes on purpose (injected humour and the like).\\n\\n\\nWhere does it come from?\\nContrary to popular belief, Lorem Ipsum is not simply random text. It has roots in a piece of classical Latin literature from 45 BC, making it over 2000 years old. Richard McClintock, a Latin professor at Hampden-Sydney College in Virginia, looked up one of the more obscure Latin words, consectetur, from a Lorem Ipsum passage, and going through the cites of the word in classical literature, discovered the undoubtable source. Lorem Ipsum comes from sections 1.10.32 and 1.10.33 of \\\"de Finibus Bonorum et Malorum\\\" (The Extremes of Good and Evil) by Cicero, written in 45 BC. This book is a treatise on the theory of ethics, very popular during the Renaissance. The first line of Lorem Ipsum, \\\"Lorem ipsum dolor sit amet..\\\", comes from a line in section 1.10.32.\\n\\nThe standard chunk of Lorem Ipsum used since the 1500s is reproduced below for those interested. Sections 1.10.32 and 1.10.33 from \\\"de Finibus Bonorum et Malorum\\\" by Cicero are also reproduced in their exact original form, accompanied by English versions from the 1914 translation by H. Rackham.\\n\\nWhere can I get some?\\nThere are many variations of passages of Lorem Ipsum available, but the majority have suffered alteration in some form, by injected humour, or randomised words which don't look even slightly believable. If you are going to use a passage of Lorem Ipsum, you need to be sure there isn't anything embarrassing hidden in the middle of text. All the Lorem Ipsum generators on the Internet tend to repeat predefined chunks as necessary, making this the first true generator on the Internet. It uses a dictionary of over 200 Latin words, combined with a handful of model sentence structures, to generate Lorem Ipsum which looks reasonable. The generated Lorem Ipsum is therefore always free from repetition, injected humour, or non-characteristic words etc.\",\n",
    "        \"author\": \"Yasuo\",\n",
    "        \"id\": 2\n",
    "      },\n",
    "      // there are two more\n",
    "    ]\n",
    "\n",
    "  return (\n",
    "    <div className=\"home\">\n",
    "     <BlogList blogs={blogs} /> \n",
    "    </div>\n",
    "  );\n",
    "}\n",
    " \n",
    "export default Home;"
   ]
  },
  {
   "cell_type": "code",
   "execution_count": null,
   "metadata": {
    "dotnet_interactive": {
     "language": "javascript"
    },
    "polyglot_notebook": {
     "kernelName": "javascript"
    }
   },
   "outputs": [],
   "source": [
    "import { Link } from 'react-router-dom';\n",
    "import '../css/main/BlogList.css';\n",
    "\n",
    "const BlogList = ({ blogs }) => {\n",
    "  return (\n",
    "    <>\n",
    "    \n",
    "    <h1 style={{color: '#061833'}}>Today's Blogs</h1>\n",
    "\n",
    "    <div className=\"blog-list\">\n",
    "    \n",
    "      {blogs.map(blog => (\n",
    "\n",
    "        <div className=\"blog-preview\" key={blog.id} >\n",
    "\n",
    "          <Link to={`/blogs/${blog.id}`}>\n",
    "            <h2>{ blog.title }</h2>\n",
    "            <p>Written by { blog.author }</p>\n",
    "          </Link>\n",
    "          \n",
    "        </div> \n",
    "\n",
    "      ))}\n",
    "\n",
    "    </div>\n",
    "    </>\n",
    "  );\n",
    "}\n",
    " \n",
    "export default BlogList;"
   ]
  },
  {
   "cell_type": "markdown",
   "metadata": {},
   "source": [
    "<img src=\"https://i.imgur.com/mrGTn4v.png\" width=\"33%\">\n",
    "<img src=\"https://i.imgur.com/PNpTuSe.png\" width=\"33%\">\n",
    "<img src=\"https://i.imgur.com/joYUI5r.png\" width=\"33%\">"
   ]
  },
  {
   "cell_type": "markdown",
   "metadata": {},
   "source": [
    "### Blog Details Component"
   ]
  },
  {
   "cell_type": "code",
   "execution_count": null,
   "metadata": {
    "dotnet_interactive": {
     "language": "javascript"
    },
    "polyglot_notebook": {
     "kernelName": "javascript"
    }
   },
   "outputs": [],
   "source": [
    "import './css/main/BlogDetails.css';\n",
    "\n",
    "const BlogDetails = () => {\n",
    "\n",
    "  const handleDelete = () => {\n",
    "    alert('Clicked Delete!')\n",
    "  }\n",
    "\n",
    "  const blog = {\n",
    "    title: 'My new website',\n",
    "    author: 'Essam',\n",
    "    body: 'lorem ipsum...',\n",
    "  }\n",
    "\n",
    "  return (\n",
    "    <div className=\"blog-details\">\n",
    "\n",
    "          <h2>{ blog.title }</h2>\n",
    "\n",
    "          <p style={{fontStyle: 'italic'}}>Written by { blog.author }</p>\n",
    "\n",
    "          <div><p style={{textAlign: 'justify', lineHeight: '1.5rem'}}>{ blog.body }</p></div>\n",
    "          \n",
    "          <button onClick={handleDelete}>delete</button>\n",
    "\n",
    "    </div>\n",
    "  );\n",
    "}\n",
    " \n",
    "export default BlogDetails;"
   ]
  },
  {
   "cell_type": "markdown",
   "metadata": {},
   "source": [
    "### Create Component"
   ]
  },
  {
   "cell_type": "code",
   "execution_count": null,
   "metadata": {
    "dotnet_interactive": {
     "language": "javascript"
    },
    "polyglot_notebook": {
     "kernelName": "javascript"
    }
   },
   "outputs": [],
   "source": [
    "import './css/main/Create.css';\n",
    "\n",
    "const Create = () => {\n",
    "\n",
    "  const handleSubmit = (e) => {\n",
    "    e.preventDefault();\n",
    "    alert(\"Clicked Submit!\");\n",
    "  }\n",
    "\n",
    "  return (\n",
    "    <div className=\"create\">\n",
    "\n",
    "      <h2>Add a New Blog</h2>\n",
    "\n",
    "      <form onSubmit={handleSubmit}>\n",
    "\n",
    "          <label>Blog title:</label>\n",
    "          <input type=\"text\" required  />\n",
    "\n",
    "          <label>Blog body:</label>\n",
    "          <textarea required ></textarea>\n",
    "\n",
    "          <label>Blog author:</label>\n",
    "          <input type=\"text\" />\n",
    "          \n",
    "          <button>Add Blog</button>\n",
    "\n",
    "      </form>\n",
    "\n",
    "    </div>\n",
    "  );\n",
    "}\n",
    " \n",
    "export default Create;"
   ]
  },
  {
   "cell_type": "markdown",
   "metadata": {},
   "source": [
    "#### Done with pages and components. Recall, App.js"
   ]
  },
  {
   "cell_type": "code",
   "execution_count": null,
   "metadata": {
    "dotnet_interactive": {
     "language": "javascript"
    },
    "polyglot_notebook": {
     "kernelName": "javascript"
    }
   },
   "outputs": [],
   "source": [
    "import { BrowserRouter as Router, Route, Switch } from 'react-router-dom';\n",
    "\n",
    "import Navbar from './components/Navbar/Navbar';\n",
    "import Home from './pages/Home/Home';\n",
    "import Create from './pages/Create/Create';\n",
    "import BlogDetails from './pages/BlogDetails/BlogDetails';\n",
    "\n",
    "function App() {\n",
    "  return (\n",
    "    <Router>\n",
    "        <Navbar />\n",
    "            <Switch>\n",
    "              <Route exact path=\"/\">     <Home />           </Route>\n",
    "              <Route path=\"/create\">     <Create />         </Route>\n",
    "              <Route path=\"/blogs/:id\">  <BlogDetails />    </Route>\n",
    "            </Switch>\n",
    "    </Router>\n",
    "  );\n",
    "}\n",
    "\n",
    "export default App;"
   ]
  },
  {
   "cell_type": "markdown",
   "metadata": {},
   "source": [
    "#### <font color=\"white\"> Let's recap on this all; check cmp-blog-1 </font>"
   ]
  },
  {
   "cell_type": "markdown",
   "metadata": {},
   "source": [
    "## React <font color=\"LemonChiffon\"> Hooks </font>"
   ]
  },
  {
   "cell_type": "markdown",
   "metadata": {},
   "source": [
    "- Special functions provided by React that are used in components to provide special features\n",
    "\n",
    "- React offers 15 built-in hooks\n",
    "\n",
    "- There is a general consensus (even React docs) to only go over the most important/most popular"
   ]
  },
  {
   "cell_type": "markdown",
   "metadata": {},
   "source": [
    "| Hook               | Description                                                                                                                                                      |\n",
    "|--------------------|------------------------------------------------------------------------------------------------------------------------------------------------------------------|\n",
    "| <font color=\"aqua\">useState          | Manages local state within functional components, allowing the component to re-render when the state changes.                                                 |\n",
    "| <font color=\"aqua\">useEffect</font>         | Enables performing side effects in functional components, such as data fetching or DOM manipulation, after the component renders.                              |\n",
    "| <font color=\"aqua\">useContext</font>        | Provides access to context values defined in a higher-level component, allowing data to be shared without passing props manually.                            |\n",
    "| <font color=\"aqua\">useMemo  </font>         | Memoizes the result of a computation, improving performance by avoiding unnecessary re-computation in response to component renders.                          |\n",
    "| useReducer        | A more advanced state management hook, similar to `useState`, but with the ability to handle more complex state transitions using a reducer function.        |\n",
    "| <font >useCallback</font>       | Returns a memoized version of a callback function, useful for preventing unnecessary re-renders in child components.                                            |\n",
    "| <font color=\"aqua\">useRef</font>            | Creates a mutable reference object that persists across renders, commonly used for accessing DOM elements or holding values that don't trigger re-renders. |\n",
    "| useLayoutEffect   | Similar to `useEffect`, but the effect runs synchronously after all DOM mutations, which can be useful for fine-grained DOM measurements.                       |\n",
    "| useImperativeHandle | Customizes the instance value that's exposed when a parent component uses `ref` to interact with a child component's imperative methods.                    |\n",
    "| useDebugValue     | Used to display custom labels in React DevTools for custom hooks, helping developers understand the purpose and behavior of the hook.                       |\n",
    "| useTransition     | Coordinates animations during changes in a component's children, helping to achieve smoother transitions by delaying rendering changes.                        |\n",
    "| useDeferredValue  | Defers the update of a value until a later render, improving the performance of components that rely on asynchronous data.                                      |\n",
    "| useInsertionEffect| Similar to `useEffect`, but the effect is triggered when a component is inserted into the DOM, rather than just after rendering.                              |\n",
    "| useSyncExternalStore| Synchronizes the component state with an external data source, keeping the component up to date with changes from that source.                               |\n",
    "| useId             | Generates a unique identifier that remains consistent across renders, suitable for associating labels with form elements.                                      |\n"
   ]
  },
  {
   "cell_type": "markdown",
   "metadata": {},
   "source": [
    "To work, hooks need to satisfy two important rules:\n",
    "\n",
    "- <font color=\"aqua\">Only Call Hooks at the Top Level</font>: Hooks should never be called inside loops, conditions, or nested functions. They should always be called at the top level of your functional component.\n",
    "\n",
    "- <font color=\"aqua\">Only Call Hooks from React Functions</font>: Hooks should only be called from within functional components or other custom hooks. They should not be called from regular JavaScript functions.\n",
    "\n",
    "- If a function uses a hook it becomes a custom hook and the two rules apply."
   ]
  },
  {
   "cell_type": "markdown",
   "metadata": {},
   "source": [
    "### useState"
   ]
  },
  {
   "cell_type": "markdown",
   "metadata": {},
   "source": [
    "Important to bind data to the DOM; when data changes, the DOM is re-rendered."
   ]
  },
  {
   "cell_type": "code",
   "execution_count": null,
   "metadata": {
    "dotnet_interactive": {
     "language": "javascript"
    },
    "polyglot_notebook": {
     "kernelName": "javascript"
    }
   },
   "outputs": [],
   "source": [
    "import React, { useState } from \"react\";\n",
    "import ReactDOM from \"react-dom\";\n",
    "import \"./styles.css\";\n",
    " /* eslint-disable */\n",
    "\n",
    "const Counter = () => {\n",
    "  //initilize a count variable at 0, the setCount function\n",
    "  // will be used to re-set the \"count\" value.\n",
    "  const [count, setCount] = useState(0);\n",
    "  \n",
    "  return (\n",
    "    <div>\n",
    "      <h2>{count} likes</h2>\n",
    "      {/* Reset count to its previous value + 1 */}\n",
    "      <span onClick={() => setCount(count + 1)}>👍🏽</span>\n",
    "      {/* Reset count to its previous value - 1 */}\n",
    "      <span onClick={() => setCount(count - 1)}>👎🏽</span>\n",
    "      <h3>Like or dislike to increase/decrease</h3>\n",
    "    </div>\n",
    "  );\n",
    "};\n",
    "\n",
    "ReactDOM.render(<Counter />, document.getElementById(\"root\"));"
   ]
  },
  {
   "cell_type": "markdown",
   "metadata": {},
   "source": [
    "Consider trying it out here [this](https://codesandbox.io/s/simple-counter-using-usestate-and-react-hooks-soxu8?file=/src/index.js:0-704)"
   ]
  },
  {
   "cell_type": "markdown",
   "metadata": {},
   "source": [
    "### useEffect"
   ]
  },
  {
   "cell_type": "markdown",
   "metadata": {},
   "source": [
    "Takes a function (and an optional list) and runs it whenever\n",
    "\n",
    "- Component is mounted or component is updated due to state change\n",
    "\n",
    "- Component is mounted or component is updated due to specific state change\n",
    "\n",
    "- Optionaly also when component is unmounted\n",
    "\n",
    "- <font color=\"white\"> Notice three stages in the lifecycle of a component: Mounted, Updated, Unmounted </font>"
   ]
  },
  {
   "cell_type": "code",
   "execution_count": null,
   "metadata": {
    "dotnet_interactive": {
     "language": "javascript"
    },
    "polyglot_notebook": {
     "kernelName": "javascript"
    }
   },
   "outputs": [],
   "source": [
    "import \"./styles.css\";\n",
    "import { useEffect, useState } from \"react\";\n",
    "\n",
    "export default function Comp() {\n",
    "  const [count, setCount] = useState(0);\n",
    "\n",
    "  const [water, setWater] = useState(0);\n",
    "\n",
    "\n",
    "  // Mounted or updated by count\n",
    "  useEffect(() => {\n",
    "    console.log(\"updated with dependencies\");\n",
    "  }, [count]);\n",
    "\n",
    "  // Mounted only\n",
    "  useEffect(() => {\n",
    "    console.log(\"mounted\");\n",
    "  }, []);\n",
    "\n",
    "  // Mounted or updated by any state (this is bad)\n",
    "  useEffect(() => {\n",
    "    console.log(\"updated\");\n",
    "  });\n",
    "\n",
    "  // Can fire another function upon unmount by passing a function that returns it\n",
    "  useEffect(() => {\n",
    "\n",
    "\n",
    "    console.log(\"hello\");\n",
    "\n",
    "    return () => {\n",
    "      console.log(\"cleanup\");\n",
    "    };\n",
    "\n",
    "\n",
    "\n",
    "  }, [count]);\n",
    "\n",
    "  // setCount twice\n",
    "\n",
    "\n",
    "  return (\n",
    "    <div className=\"App\">\n",
    "    </div>\n",
    "  );\n",
    "}\n"
   ]
  },
  {
   "cell_type": "markdown",
   "metadata": {},
   "source": [
    "### useMemo"
   ]
  },
  {
   "cell_type": "markdown",
   "metadata": {},
   "source": [
    "- Suppose components re-renders when state X changes\n",
    "\n",
    "- It will run all the JavScript code in the component\n",
    "\n",
    "- What if we do some computation in the JS code that is not related to the state X?"
   ]
  },
  {
   "cell_type": "code",
   "execution_count": null,
   "metadata": {
    "dotnet_interactive": {
     "language": "javascript"
    },
    "polyglot_notebook": {
     "kernelName": "javascript"
    }
   },
   "outputs": [],
   "source": [
    "import React, { useMemo } from 'react';\n",
    "\n",
    "const ExampleComponent = ({ a, b }) => {\n",
    "\n",
    "  const [x, setX] = useState(0);\n",
    "\n",
    "  // Calculate the sum of a and b using useMemo\n",
    "  const sum = useMemo(() => a + b, [a, b]);           // skip computing the sum if a or b don't change\n",
    "\n",
    "  // Better than\n",
    "  //const unefficientSum = a + b;\n",
    "\n",
    "  return (\n",
    "    <button onClick={() => setX(x + 1)}>Increment a</button>\n",
    "    <div> {x}Sum: {unefficientSum}</div>)\n",
    "  ;\n",
    "  \n",
    "};\n",
    "\n",
    "export default ExampleComponent;"
   ]
  },
  {
   "cell_type": "markdown",
   "metadata": {},
   "source": [
    "### useRef"
   ]
  },
  {
   "cell_type": "markdown",
   "metadata": {},
   "source": [
    "- Returns an object has a property called \"current\" \n",
    "\n",
    "- `object.current` be used to attach state that doesn't trigger re-rendering (but persists unlike variables)"
   ]
  },
  {
   "cell_type": "code",
   "execution_count": null,
   "metadata": {
    "dotnet_interactive": {
     "language": "javascript"
    },
    "polyglot_notebook": {
     "kernelName": "javascript"
    }
   },
   "outputs": [],
   "source": [
    "import React, { useState, useRef } from 'react';\n",
    "import ReactDOM from 'react-dom';\n",
    "\n",
    "const CounterComponent = () => {\n",
    "  const countRef = useRef(0);                // Initialize with 0\n",
    "\n",
    "  \n",
    "\n",
    "  const increment = () => {\n",
    "    countRef.current = countRef.current + 1; // Update the ref value\n",
    "  };\n",
    "\n",
    "\n",
    "  return (\n",
    "    <div>\n",
    "      <p>Count: {count}</p>\n",
    "      <button onClick={increment}>Increment Count</button>\n",
    "      <p>Count from useRef: {countRef.current}</p>\n",
    "    </div>\n",
    "  );\n",
    "};\n",
    "\n",
    "ReactDOM.render(<CounterComponent />, document.getElementById('root'));\n"
   ]
  },
  {
   "cell_type": "markdown",
   "metadata": {},
   "source": [
    "- `object.current` will refer to a JSX element in case the ref attribute is set accordingly for the element"
   ]
  },
  {
   "cell_type": "code",
   "execution_count": null,
   "metadata": {
    "dotnet_interactive": {
     "language": "javascript"
    },
    "polyglot_notebook": {
     "kernelName": "javascript"
    }
   },
   "outputs": [],
   "source": [
    "import React, { useRef } from \"https://cdn.skypack.dev/react@17.0.1\";       // ignore how imports are written (should be like the one above)\n",
    "import ReactDOM from \"https://cdn.skypack.dev/react-dom@17.0.1\";\n",
    "\n",
    "const MyComponent = () => {\n",
    "  const textRef = useRef();\n",
    "\n",
    "  const changeTextStyle = () => {\n",
    "    textRef.current.style.color = 'red';\n",
    "    textRef.current.style.fontSize = '50px';\n",
    "  };\n",
    "\n",
    "  return (\n",
    "    <section className=\"box\">\n",
    "      <p ref={textRef}>This is some text.</p>\n",
    "      <button onClick={changeTextStyle}>Change Style</button>\n",
    "    </section>\n",
    "  );\n",
    "};\n",
    "\n",
    "ReactDOM.render(<MyComponent />, document.getElementById('root'));"
   ]
  },
  {
   "cell_type": "markdown",
   "metadata": {},
   "source": [
    "Paste the example [here](https://codepen.io/Milu5489/pen/dyGNaLd)."
   ]
  },
  {
   "cell_type": "markdown",
   "metadata": {},
   "source": [
    "### useContext"
   ]
  },
  {
   "cell_type": "markdown",
   "metadata": {},
   "source": [
    "Allows sharing data (state) from a parent component without passing props manually at every level."
   ]
  },
  {
   "cell_type": "code",
   "execution_count": null,
   "metadata": {
    "dotnet_interactive": {
     "language": "javascript"
    },
    "polyglot_notebook": {
     "kernelName": "javascript"
    }
   },
   "outputs": [],
   "source": [
    "const { useState, useContext } = React\n",
    "\n",
    "const CountContext = React.createContext();\n",
    "\n",
    "// 1. export countContext; will be used at parent and child components\n",
    "\n",
    "\n",
    "\n",
    "\n",
    "// ------------------Parent Component------------------\n",
    "// 2. import countContext;\n",
    "const Parent = () => {\n",
    "  const [count, setCount] = useState(0);\n",
    "\n",
    "  const increase = () => {\n",
    "    setCount(count + 1);\n",
    "  };\n",
    "  const decrease = () => {\n",
    "    setCount(count - 1);\n",
    "  };\n",
    "\n",
    "  // 3. Use CountContext.Provider and define the value of the context (data to be shared)\n",
    "  return (\n",
    "    <div>\n",
    "      <CountContext.Provider value={{ count, increase, decrease }}>\n",
    "        <Counter />\n",
    "      </CountContext.Provider>\n",
    "    </div>\n",
    "  );\n",
    "};\n",
    "\n",
    "\n",
    "//  ------------------Child Component------------------\n",
    "// 4. import countContext;\n",
    "\n",
    "const Counter = () => {\n",
    "  const { count, increase, decrease } = useContext(CountContext);\n",
    "  return (\n",
    "    <div className=\"wrapper\">\n",
    "      <button onClick={decrease}>-</button>\n",
    "      <span className=\"count\">{count}</span>\n",
    "      <button onClick={increase}>+</button>\n",
    "    </div>\n",
    "  );\n",
    "};\n",
    "\n",
    "\n",
    "\n",
    "ReactDOM.render(<Parent />, document.getElementById(\"root\"))"
   ]
  },
  {
   "cell_type": "markdown",
   "metadata": {},
   "source": [
    "### Let's write a custom Hook"
   ]
  },
  {
   "cell_type": "code",
   "execution_count": null,
   "metadata": {
    "dotnet_interactive": {
     "language": "javascript"
    },
    "polyglot_notebook": {
     "kernelName": "javascript"
    }
   },
   "outputs": [],
   "source": [
    "import { useState, useEffect } from 'react';\n",
    "\n",
    "const useFetch = (url) => {\n",
    "\n",
    "  const [data, setData] = useState(null);\n",
    "  const [isPending, setIsPending] = useState(true);\n",
    "  const [error, setError] = useState(null);\n",
    "\n",
    "  useEffect(() => {\n",
    "    const fetchData = async () => {\n",
    "\n",
    "      try {\n",
    "        const response = await fetch(url);\n",
    "\n",
    "        if (!response.ok)   throw new Error('Could not fetch the data for that resource');\n",
    "        \n",
    "        const responseData = await response.json();\n",
    "\n",
    "        setIsPending(false);\n",
    "        setData(responseData);\n",
    "        setError(null);\n",
    "\n",
    "      } \n",
    "      catch (err) {\n",
    "          setIsPending(false);\n",
    "          setError(err.message);\n",
    "      }\n",
    "    };\n",
    "\n",
    "   setTimeout(fetchData, 1000);\n",
    "\n",
    "  }, [url]);\n",
    "\n",
    "  return { data, isPending, error };\n",
    "};\n",
    "\n",
    "export default useFetch;\n"
   ]
  },
  {
   "cell_type": "markdown",
   "metadata": {},
   "source": [
    "Example could be found [here](https://codepen.io/kinsomicrote/pen/vQVdrX?editors=1010)"
   ]
  },
  {
   "cell_type": "markdown",
   "metadata": {},
   "source": [
    "There are other useful hooks provided by npm packages. Even react-router provides a `useHistory` and `useParams` hooks that help change the current route or access the current route's parameters."
   ]
  },
  {
   "cell_type": "markdown",
   "metadata": {},
   "source": [
    "#### <font color=\"white\"> Let's recap on this all; check cmp-blog-final </font>"
   ]
  },
  {
   "cell_type": "markdown",
   "metadata": {},
   "source": [
    "Don't forget to run the JSON server."
   ]
  },
  {
   "cell_type": "markdown",
   "metadata": {},
   "source": [
    "<div align=\"center\">\n",
    "<img  width=60% src=\"https://uploads-ssl.webflow.com/5a22c0f9816f0a00016c74b4/6284b2e4943999425e9faf3c_REACT_NATIVE_MEME_web.png\">\n",
    "</div>"
   ]
  }
 ],
 "metadata": {
  "kernelspec": {
   "display_name": ".NET (C#)",
   "language": "C#",
   "name": ".net-csharp"
  },
  "language_info": {
   "name": "polyglot-notebook"
  },
  "polyglot_notebook": {
   "kernelInfo": {
    "defaultKernelName": "csharp",
    "items": [
     {
      "aliases": [],
      "name": "csharp"
     },
     {
      "aliases": [],
      "languageName": "javascript",
      "name": "javascript"
     }
    ]
   }
  }
 },
 "nbformat": 4,
 "nbformat_minor": 2
}
